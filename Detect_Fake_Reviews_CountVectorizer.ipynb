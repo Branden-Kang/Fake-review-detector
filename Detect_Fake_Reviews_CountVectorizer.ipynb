{
  "nbformat": 4,
  "nbformat_minor": 0,
  "metadata": {
    "colab": {
      "name": "Detect Fake Reviews_CountVectorizer.ipynb",
      "provenance": [],
      "collapsed_sections": [],
      "authorship_tag": "ABX9TyO7gpLvLsqm/aZ/AFpgNeCR"
    },
    "kernelspec": {
      "name": "python3",
      "display_name": "Python 3"
    }
  },
  "cells": [
    {
      "cell_type": "markdown",
      "metadata": {
        "id": "iF2WkhWN-s6C",
        "colab_type": "text"
      },
      "source": [
        "[Reference](https://medium.com/swlh/detecting-fake-news-with-python-and-machine-learning-f78421d29a06) <br>\n",
        "[Text Classification](https://scikit-learn.org/stable/tutorial/text_analytics/working_with_text_data.html)\n",
        "\n"
      ]
    },
    {
      "cell_type": "code",
      "metadata": {
        "id": "3tniV2PJ3mfA",
        "colab_type": "code",
        "colab": {
          "base_uri": "https://localhost:8080/",
          "height": 37
        },
        "outputId": "ad05f1f0-7d93-45df-df0f-906a103062a6"
      },
      "source": [
        "# -*- coding: utf-8 -*-\n",
        "\"\"\"\n",
        "Created on Thu Sep 3 08:06:15 2020\n",
        "\n",
        "@author: Sangyun\n",
        "\"\"\""
      ],
      "execution_count": 88,
      "outputs": [
        {
          "output_type": "execute_result",
          "data": {
            "application/vnd.google.colaboratory.intrinsic+json": {
              "type": "string"
            },
            "text/plain": [
              "'\\nCreated on Thu Sep 3 08:06:15 2020\\n\\n@author: Sangyun\\n'"
            ]
          },
          "metadata": {
            "tags": []
          },
          "execution_count": 88
        }
      ]
    },
    {
      "cell_type": "markdown",
      "metadata": {
        "id": "nJ84SAfAnXA9",
        "colab_type": "text"
      },
      "source": [
        "![WorkFlow](https://miro.medium.com/max/1400/1*6ku25gAB-_SLtxVNyBkl9w.jpeg)"
      ]
    },
    {
      "cell_type": "code",
      "metadata": {
        "id": "cyeQ0gl0_8V2",
        "colab_type": "code",
        "colab": {
          "base_uri": "https://localhost:8080/",
          "height": 309
        },
        "outputId": "db8c4ab6-dab1-448f-82e4-0d5aa563d3a7"
      },
      "source": [
        "import re\n",
        "import string\n",
        "\n",
        "import numpy as np \n",
        "import pandas as pd\n",
        "from wordcloud import WordCloud\n",
        "from wordcloud import STOPWORDS\n",
        "from nltk.corpus import stopwords\n",
        "import nltk\n",
        "from sklearn.metrics import roc_curve\n",
        "from sklearn.metrics import auc\n",
        "import matplotlib.pyplot as plt\n",
        "import seaborn as sns\n",
        "!pip install scikit-plot\n",
        "import scikitplot as skplt\n",
        "from sklearn.model_selection import train_test_split\n",
        "\n",
        "from sklearn.feature_extraction.text import CountVectorizer, TfidfTransformer\n",
        "from sklearn.metrics import accuracy_score, confusion_matrix, classification_report\n",
        "\n",
        "#import methods\n",
        "from sklearn.naive_bayes import MultinomialNB \n",
        "from sklearn import svm\n",
        "from sklearn.neighbors import KNeighborsClassifier\n",
        "from sklearn.tree import DecisionTreeClassifier\n",
        "from sklearn.ensemble import RandomForestClassifier\n",
        "#from sklearn.neural_network import MLPClassifier\n",
        "#from xgboost import XGBClassifier\n",
        "\n",
        "import itertools\n",
        "import pandas as pd\n",
        "import numpy as np\n",
        "from sklearn.linear_model import PassiveAggressiveClassifier\n",
        "from sklearn.model_selection import train_test_split\n",
        "from sklearn.feature_extraction.text import TfidfVectorizer\n",
        "from sklearn.metrics import accuracy_score\n",
        "from sklearn.metrics import confusion_matrix\n",
        "\n",
        "from itertools import islice\n",
        "import logging\n",
        "import gensim\n",
        "from gensim.models import Word2Vec"
      ],
      "execution_count": null,
      "outputs": [
        {
          "output_type": "stream",
          "text": [
            "/usr/local/lib/python3.6/dist-packages/statsmodels/tools/_testing.py:19: FutureWarning: pandas.util.testing is deprecated. Use the functions in the public API at pandas.testing instead.\n",
            "  import pandas.util.testing as tm\n"
          ],
          "name": "stderr"
        },
        {
          "output_type": "stream",
          "text": [
            "Collecting scikit-plot\n",
            "  Downloading https://files.pythonhosted.org/packages/7c/47/32520e259340c140a4ad27c1b97050dd3254fdc517b1d59974d47037510e/scikit_plot-0.3.7-py3-none-any.whl\n",
            "Requirement already satisfied: matplotlib>=1.4.0 in /usr/local/lib/python3.6/dist-packages (from scikit-plot) (3.2.2)\n",
            "Requirement already satisfied: joblib>=0.10 in /usr/local/lib/python3.6/dist-packages (from scikit-plot) (0.16.0)\n",
            "Requirement already satisfied: scipy>=0.9 in /usr/local/lib/python3.6/dist-packages (from scikit-plot) (1.4.1)\n",
            "Requirement already satisfied: scikit-learn>=0.18 in /usr/local/lib/python3.6/dist-packages (from scikit-plot) (0.22.2.post1)\n",
            "Requirement already satisfied: python-dateutil>=2.1 in /usr/local/lib/python3.6/dist-packages (from matplotlib>=1.4.0->scikit-plot) (2.8.1)\n",
            "Requirement already satisfied: numpy>=1.11 in /usr/local/lib/python3.6/dist-packages (from matplotlib>=1.4.0->scikit-plot) (1.18.5)\n",
            "Requirement already satisfied: cycler>=0.10 in /usr/local/lib/python3.6/dist-packages (from matplotlib>=1.4.0->scikit-plot) (0.10.0)\n",
            "Requirement already satisfied: kiwisolver>=1.0.1 in /usr/local/lib/python3.6/dist-packages (from matplotlib>=1.4.0->scikit-plot) (1.2.0)\n",
            "Requirement already satisfied: pyparsing!=2.0.4,!=2.1.2,!=2.1.6,>=2.0.1 in /usr/local/lib/python3.6/dist-packages (from matplotlib>=1.4.0->scikit-plot) (2.4.7)\n",
            "Requirement already satisfied: six>=1.5 in /usr/local/lib/python3.6/dist-packages (from python-dateutil>=2.1->matplotlib>=1.4.0->scikit-plot) (1.15.0)\n",
            "Installing collected packages: scikit-plot\n",
            "Successfully installed scikit-plot-0.3.7\n"
          ],
          "name": "stdout"
        }
      ]
    },
    {
      "cell_type": "code",
      "metadata": {
        "id": "NhreyQOtAGp6",
        "colab_type": "code",
        "colab": {
          "base_uri": "https://localhost:8080/",
          "height": 102
        },
        "outputId": "7b253caa-fc51-4f16-d295-8887c3b7e1bb"
      },
      "source": [
        "nltk.download(\"stopwords\")\n",
        "nltk.download('punkt')"
      ],
      "execution_count": null,
      "outputs": [
        {
          "output_type": "stream",
          "text": [
            "[nltk_data] Downloading package stopwords to /root/nltk_data...\n",
            "[nltk_data]   Unzipping corpora/stopwords.zip.\n",
            "[nltk_data] Downloading package punkt to /root/nltk_data...\n",
            "[nltk_data]   Unzipping tokenizers/punkt.zip.\n"
          ],
          "name": "stdout"
        },
        {
          "output_type": "execute_result",
          "data": {
            "text/plain": [
              "True"
            ]
          },
          "metadata": {
            "tags": []
          },
          "execution_count": 2
        }
      ]
    },
    {
      "cell_type": "code",
      "metadata": {
        "id": "RSSP1abzAkeo",
        "colab_type": "code",
        "colab": {
          "base_uri": "https://localhost:8080/",
          "height": 156
        },
        "outputId": "77eb398e-e9be-4074-ff27-5bf2c5e616cc"
      },
      "source": [
        "import os\n",
        "from google.colab import drive\n",
        "drive.mount('/content/gdrive',force_remount=True)\n",
        "!pwd\n",
        "os.chdir('gdrive/My Drive/Colab Notebooks/')\n",
        "!pwd"
      ],
      "execution_count": null,
      "outputs": [
        {
          "output_type": "stream",
          "text": [
            "Go to this URL in a browser: https://accounts.google.com/o/oauth2/auth?client_id=947318989803-6bn6qk8qdgf4n4g3pfee6491hc0brc4i.apps.googleusercontent.com&redirect_uri=urn%3aietf%3awg%3aoauth%3a2.0%3aoob&scope=email%20https%3a%2f%2fwww.googleapis.com%2fauth%2fdocs.test%20https%3a%2f%2fwww.googleapis.com%2fauth%2fdrive%20https%3a%2f%2fwww.googleapis.com%2fauth%2fdrive.photos.readonly%20https%3a%2f%2fwww.googleapis.com%2fauth%2fpeopleapi.readonly&response_type=code\n",
            "\n",
            "Enter your authorization code:\n",
            "··········\n",
            "Mounted at /content/gdrive\n",
            "/content\n",
            "/content/gdrive/My Drive/Colab Notebooks\n"
          ],
          "name": "stdout"
        }
      ]
    },
    {
      "cell_type": "code",
      "metadata": {
        "id": "5BPrhAcWBKm5",
        "colab_type": "code",
        "colab": {}
      },
      "source": [
        "df = pd.read_csv(\"review_complexity.csv\", encoding = 'latin-1')"
      ],
      "execution_count": null,
      "outputs": []
    },
    {
      "cell_type": "code",
      "metadata": {
        "id": "fRV3qh8DvKHN",
        "colab_type": "code",
        "colab": {
          "base_uri": "https://localhost:8080/",
          "height": 34
        },
        "outputId": "9f04bd77-fa3d-4992-981f-e7aaa07109e6"
      },
      "source": [
        "# DROP DUPLICATES\n",
        "df.drop_duplicates(subset=['text'], keep='first',inplace=True)\n",
        "df.shape"
      ],
      "execution_count": null,
      "outputs": [
        {
          "output_type": "execute_result",
          "data": {
            "text/plain": [
              "(358081, 9)"
            ]
          },
          "metadata": {
            "tags": []
          },
          "execution_count": 5
        }
      ]
    },
    {
      "cell_type": "code",
      "metadata": {
        "id": "YnIVZaxZBf6L",
        "colab_type": "code",
        "colab": {
          "base_uri": "https://localhost:8080/",
          "height": 359
        },
        "outputId": "9b780648-053b-4f92-8034-739324f4bcfe"
      },
      "source": [
        "# \"-1\" label: Fake / \"1\" label: Real\n",
        "df.head(10)"
      ],
      "execution_count": null,
      "outputs": [
        {
          "output_type": "execute_result",
          "data": {
            "text/html": [
              "<div>\n",
              "<style scoped>\n",
              "    .dataframe tbody tr th:only-of-type {\n",
              "        vertical-align: middle;\n",
              "    }\n",
              "\n",
              "    .dataframe tbody tr th {\n",
              "        vertical-align: top;\n",
              "    }\n",
              "\n",
              "    .dataframe thead th {\n",
              "        text-align: right;\n",
              "    }\n",
              "</style>\n",
              "<table border=\"1\" class=\"dataframe\">\n",
              "  <thead>\n",
              "    <tr style=\"text-align: right;\">\n",
              "      <th></th>\n",
              "      <th>user_id</th>\n",
              "      <th>prod_id</th>\n",
              "      <th>date</th>\n",
              "      <th>text</th>\n",
              "      <th>rating</th>\n",
              "      <th>label</th>\n",
              "      <th>length</th>\n",
              "      <th>words</th>\n",
              "      <th>complexity</th>\n",
              "    </tr>\n",
              "  </thead>\n",
              "  <tbody>\n",
              "    <tr>\n",
              "      <th>0</th>\n",
              "      <td>923</td>\n",
              "      <td>0</td>\n",
              "      <td>2014-12-08</td>\n",
              "      <td>The food at snack is a selection of popular Gr...</td>\n",
              "      <td>3.0</td>\n",
              "      <td>-1</td>\n",
              "      <td>40.0</td>\n",
              "      <td>['the', 'food', 'at', 'snack', 'be', 'a', 'sel...</td>\n",
              "      <td>30.0</td>\n",
              "    </tr>\n",
              "    <tr>\n",
              "      <th>1</th>\n",
              "      <td>924</td>\n",
              "      <td>0</td>\n",
              "      <td>2013-05-16</td>\n",
              "      <td>This little place in Soho is wonderful. I had ...</td>\n",
              "      <td>3.0</td>\n",
              "      <td>-1</td>\n",
              "      <td>52.0</td>\n",
              "      <td>['this', 'little', 'place', 'in', 'soho', 'be'...</td>\n",
              "      <td>41.0</td>\n",
              "    </tr>\n",
              "    <tr>\n",
              "      <th>2</th>\n",
              "      <td>925</td>\n",
              "      <td>0</td>\n",
              "      <td>2013-07-01</td>\n",
              "      <td>ordered lunch for 15 from Snack last Friday. Â...</td>\n",
              "      <td>4.0</td>\n",
              "      <td>-1</td>\n",
              "      <td>32.0</td>\n",
              "      <td>['order', 'lunch', 'for', 'from', 'snack', 'la...</td>\n",
              "      <td>29.0</td>\n",
              "    </tr>\n",
              "    <tr>\n",
              "      <th>3</th>\n",
              "      <td>926</td>\n",
              "      <td>0</td>\n",
              "      <td>2011-07-28</td>\n",
              "      <td>This is a beautiful quaint little restaurant o...</td>\n",
              "      <td>4.0</td>\n",
              "      <td>-1</td>\n",
              "      <td>90.0</td>\n",
              "      <td>['this', 'be', 'a', 'beautiful', 'quaint', 'li...</td>\n",
              "      <td>63.0</td>\n",
              "    </tr>\n",
              "    <tr>\n",
              "      <th>4</th>\n",
              "      <td>927</td>\n",
              "      <td>0</td>\n",
              "      <td>2010-11-01</td>\n",
              "      <td>Snack is great place for a Â casual sit down l...</td>\n",
              "      <td>4.0</td>\n",
              "      <td>-1</td>\n",
              "      <td>102.0</td>\n",
              "      <td>['snack', 'be', 'great', 'place', 'for', 'a', ...</td>\n",
              "      <td>81.0</td>\n",
              "    </tr>\n",
              "    <tr>\n",
              "      <th>5</th>\n",
              "      <td>928</td>\n",
              "      <td>0</td>\n",
              "      <td>2009-09-02</td>\n",
              "      <td>A solid 4 stars for this greek food spot. Â If...</td>\n",
              "      <td>4.0</td>\n",
              "      <td>-1</td>\n",
              "      <td>41.0</td>\n",
              "      <td>['a', 'solid', 'star', 'for', 'this', 'greek',...</td>\n",
              "      <td>34.0</td>\n",
              "    </tr>\n",
              "    <tr>\n",
              "      <th>6</th>\n",
              "      <td>929</td>\n",
              "      <td>0</td>\n",
              "      <td>2009-08-25</td>\n",
              "      <td>Let me start with a shout-out to everyone who ...</td>\n",
              "      <td>4.0</td>\n",
              "      <td>-1</td>\n",
              "      <td>133.0</td>\n",
              "      <td>['let', 'me', 'start', 'with', 'a', 'shout', '...</td>\n",
              "      <td>98.0</td>\n",
              "    </tr>\n",
              "    <tr>\n",
              "      <th>7</th>\n",
              "      <td>930</td>\n",
              "      <td>0</td>\n",
              "      <td>2007-05-20</td>\n",
              "      <td>Love this place! Â Try the Chicken sandwich or...</td>\n",
              "      <td>4.0</td>\n",
              "      <td>-1</td>\n",
              "      <td>22.0</td>\n",
              "      <td>['love', 'this', 'place', 'try', 'the', 'chick...</td>\n",
              "      <td>19.0</td>\n",
              "    </tr>\n",
              "    <tr>\n",
              "      <th>8</th>\n",
              "      <td>931</td>\n",
              "      <td>0</td>\n",
              "      <td>2005-12-27</td>\n",
              "      <td>My friend and I were intrigued by the nightly ...</td>\n",
              "      <td>4.0</td>\n",
              "      <td>-1</td>\n",
              "      <td>104.0</td>\n",
              "      <td>['my', 'friend', 'and', 'i', 'be', 'intrigue',...</td>\n",
              "      <td>68.0</td>\n",
              "    </tr>\n",
              "    <tr>\n",
              "      <th>9</th>\n",
              "      <td>932</td>\n",
              "      <td>0</td>\n",
              "      <td>2014-05-09</td>\n",
              "      <td>Stopped in for lunch today and couldn't believ...</td>\n",
              "      <td>5.0</td>\n",
              "      <td>-1</td>\n",
              "      <td>45.0</td>\n",
              "      <td>['stop', 'in', 'for', 'lunch', 'today', 'and',...</td>\n",
              "      <td>41.0</td>\n",
              "    </tr>\n",
              "  </tbody>\n",
              "</table>\n",
              "</div>"
            ],
            "text/plain": [
              "   user_id  ...  complexity\n",
              "0      923  ...        30.0\n",
              "1      924  ...        41.0\n",
              "2      925  ...        29.0\n",
              "3      926  ...        63.0\n",
              "4      927  ...        81.0\n",
              "5      928  ...        34.0\n",
              "6      929  ...        98.0\n",
              "7      930  ...        19.0\n",
              "8      931  ...        68.0\n",
              "9      932  ...        41.0\n",
              "\n",
              "[10 rows x 9 columns]"
            ]
          },
          "metadata": {
            "tags": []
          },
          "execution_count": 6
        }
      ]
    },
    {
      "cell_type": "code",
      "metadata": {
        "id": "OJ6kQJxxF8u-",
        "colab_type": "code",
        "colab": {
          "base_uri": "https://localhost:8080/",
          "height": 289
        },
        "outputId": "d1ecc427-0481-40db-8bd6-6fc44332d2e7"
      },
      "source": [
        "df.info()"
      ],
      "execution_count": null,
      "outputs": [
        {
          "output_type": "stream",
          "text": [
            "<class 'pandas.core.frame.DataFrame'>\n",
            "Int64Index: 358081 entries, 0 to 358957\n",
            "Data columns (total 9 columns):\n",
            " #   Column      Non-Null Count   Dtype  \n",
            "---  ------      --------------   -----  \n",
            " 0   user_id     358081 non-null  int64  \n",
            " 1   prod_id     358081 non-null  int64  \n",
            " 2   date        358081 non-null  object \n",
            " 3   text        358080 non-null  object \n",
            " 4   rating      358081 non-null  float64\n",
            " 5   label       358081 non-null  int64  \n",
            " 6   length      358080 non-null  float64\n",
            " 7   words       358080 non-null  object \n",
            " 8   complexity  358080 non-null  float64\n",
            "dtypes: float64(3), int64(3), object(3)\n",
            "memory usage: 27.3+ MB\n"
          ],
          "name": "stdout"
        }
      ]
    },
    {
      "cell_type": "code",
      "metadata": {
        "id": "ZvEv9tQR6IsI",
        "colab_type": "code",
        "colab": {
          "base_uri": "https://localhost:8080/",
          "height": 34
        },
        "outputId": "de318f02-3afc-4d20-db71-f01d26b7affa"
      },
      "source": [
        "df.shape"
      ],
      "execution_count": null,
      "outputs": [
        {
          "output_type": "execute_result",
          "data": {
            "text/plain": [
              "(358081, 9)"
            ]
          },
          "metadata": {
            "tags": []
          },
          "execution_count": 8
        }
      ]
    },
    {
      "cell_type": "code",
      "metadata": {
        "id": "1aTm2E8O6Lc0",
        "colab_type": "code",
        "colab": {}
      },
      "source": [
        "# Change the labels\n",
        "df.loc[(df['label'] == -1) , ['label']] = 'FAKE'\n",
        "df.loc[(df['label'] == 1) , ['label']] = 'REAL'"
      ],
      "execution_count": null,
      "outputs": []
    },
    {
      "cell_type": "code",
      "metadata": {
        "id": "3GwuwZpY6cTE",
        "colab_type": "code",
        "colab": {
          "base_uri": "https://localhost:8080/",
          "height": 119
        },
        "outputId": "60a42224-893e-4bdc-dcff-0515461916d7"
      },
      "source": [
        "# Isolate the labels\n",
        "labels = df.label\n",
        "labels.head()"
      ],
      "execution_count": null,
      "outputs": [
        {
          "output_type": "execute_result",
          "data": {
            "text/plain": [
              "0    FAKE\n",
              "1    FAKE\n",
              "2    FAKE\n",
              "3    FAKE\n",
              "4    FAKE\n",
              "Name: label, dtype: object"
            ]
          },
          "metadata": {
            "tags": []
          },
          "execution_count": 10
        }
      ]
    },
    {
      "cell_type": "code",
      "metadata": {
        "id": "crDw8opG8emw",
        "colab_type": "code",
        "colab": {
          "base_uri": "https://localhost:8080/",
          "height": 68
        },
        "outputId": "2a596752-49a8-411a-ca24-1ef048259edb"
      },
      "source": [
        "df.label.value_counts()"
      ],
      "execution_count": null,
      "outputs": [
        {
          "output_type": "execute_result",
          "data": {
            "text/plain": [
              "REAL    321528\n",
              "FAKE     36553\n",
              "Name: label, dtype: int64"
            ]
          },
          "metadata": {
            "tags": []
          },
          "execution_count": 11
        }
      ]
    },
    {
      "cell_type": "code",
      "metadata": {
        "id": "gUmLAITyCfBr",
        "colab_type": "code",
        "colab": {
          "base_uri": "https://localhost:8080/",
          "height": 295
        },
        "outputId": "451f6f05-8607-42e1-f492-ec56ad093438"
      },
      "source": [
        "df.groupby('label').text.count().plot.bar(ylim=0)\n",
        "plt.show()"
      ],
      "execution_count": null,
      "outputs": [
        {
          "output_type": "display_data",
          "data": {
            "image/png": "[encoded data removed]",
            "text/plain": [
              "<Figure size 432x288 with 1 Axes>"
            ]
          },
          "metadata": {
            "tags": [],
            "needs_background": "light"
          }
        }
      ]
    },
    {
      "cell_type": "code",
      "metadata": {
        "id": "Jatyq6oSELhD",
        "colab_type": "code",
        "colab": {}
      },
      "source": [
        "STOPWORDS = stopwords.words('english')\n",
        "STOPWORDS.extend(['rt', 'http']) # extend stopwords; rt means re-tweet\n",
        "STOPWORDS = set(STOPWORDS)"
      ],
      "execution_count": null,
      "outputs": []
    },
    {
      "cell_type": "code",
      "metadata": {
        "id": "FsP2fNuGhCUs",
        "colab_type": "code",
        "colab": {}
      },
      "source": [
        "def tokenization(text):\n",
        "    text = str(text)\n",
        "    word = text.split()\n",
        "    return word\n",
        "df['text'] = df['text'].apply(tokenization)"
      ],
      "execution_count": null,
      "outputs": []
    },
    {
      "cell_type": "code",
      "metadata": {
        "id": "dI_xeOlGUVVk",
        "colab_type": "code",
        "colab": {}
      },
      "source": [
        "def lowercase(word):\n",
        "    new_word = list()\n",
        "    for i in word:\n",
        "        i = i.lower()\n",
        "        new_word.append(i)\n",
        "    return new_word\n",
        "df['text'] = df['text'].apply(lowercase)"
      ],
      "execution_count": null,
      "outputs": []
    },
    {
      "cell_type": "code",
      "metadata": {
        "id": "6Xd8ejWgUZLO",
        "colab_type": "code",
        "colab": {}
      },
      "source": [
        "import string as s\n",
        "\n",
        "def remove_punctuations(word):\n",
        "    new_word = list() \n",
        "    for i in word:\n",
        "        for j in s.punctuation:\n",
        "            i = i.replace(j,'')\n",
        "        new_word.append(i)\n",
        "    return new_word\n",
        "df['text'] = df['text'].apply(remove_punctuations)"
      ],
      "execution_count": null,
      "outputs": []
    },
    {
      "cell_type": "code",
      "metadata": {
        "id": "kAA_evyiUcD6",
        "colab_type": "code",
        "colab": {}
      },
      "source": [
        "def remove_stopwords(word):\n",
        "    # to_remove = ['but','no', 'not','isn']\n",
        "    # stop_words_ = set(stopwords.words('english')).difference(to_remove)\n",
        "    stop_words_ = ['i', 'me', 'my', 'myself', 'we', 'our', 'ours', 'ourselves', 'you', \"you're\",\n",
        "                 \"you've\", \"you'll\", \"you'd\", 'your', 'yours', 'yourself', 'yourselves', 'he',\n",
        "                 'him', 'his', 'himself', 'she', \"she's\", 'her', 'hers', 'herself', 'it', \"it's\",\n",
        "                 'its', 'itself', 'they', 'them', 'their', 'theirs', 'themselves', 'what', 'which',\n",
        "                 'who', 'whom', 'this', 'that', \"that'll\", 'these', 'those', 'am', 'is', 'are', 'was',\n",
        "                 'were', 'be', 'been', 'being', 'have', 'has', 'had', 'having', 'do', 'does', 'did', 'doing',\n",
        "                 'a', 'an', 'the', 'if', 'or', 'because', 'as', 'until', 'while', 'of', 'at', 'by',\n",
        "                 'for', 'with', 'about', 'against', 'between', 'into', 'through', 'during', 'before', 'after', 'above',\n",
        "                 'below', 'to', 'from', 'up', 'down', 'in', 'out', 'on', 'off', 'over', 'under', 'again', 'further',\n",
        "                 'once', 'here', 'there', 'when', 'where', 'why', 'how', 'all', 'any', 'both', 'each',\n",
        "                 'more', 'most', 'other', 'some', 'such', 'only', 'own', 'same', 'so', 'than',\n",
        "                 'too', 'very', 's', 't', 'can', 'will', 'just', 'should', \"should've\", 'now', 'd', 'll', 'm',\n",
        "                 'o', 're', 've', 'y']\n",
        "    new_word = list()\n",
        "    for i in word:\n",
        "        if i not in stop_words_:\n",
        "            new_word.append(i)\n",
        "    return new_word\n",
        "\n",
        "df['text'] = df['text'].apply(remove_stopwords)"
      ],
      "execution_count": null,
      "outputs": []
    },
    {
      "cell_type": "code",
      "metadata": {
        "id": "5GvOnapIVxdo",
        "colab_type": "code",
        "colab": {}
      },
      "source": [
        "def remove_numbers(word):\n",
        "    no_num_word = list()\n",
        "    new_word = list()\n",
        "    for i in word:\n",
        "        for j in s.digits:    \n",
        "            i = i.replace(j,'')\n",
        "        no_num_word.append(i)\n",
        "    for i in no_num_word:\n",
        "        if i!='':\n",
        "            new_word.append(i)\n",
        "    return new_word\n",
        "df['text'] = df['text'].apply(remove_numbers)"
      ],
      "execution_count": null,
      "outputs": []
    },
    {
      "cell_type": "code",
      "metadata": {
        "id": "_sD6_fzCV0As",
        "colab_type": "code",
        "colab": {}
      },
      "source": [
        "def remove_spaces(word):\n",
        "    new_word = list()\n",
        "    for i in word:\n",
        "        i = i.strip()\n",
        "        new_word.append(i)\n",
        "    return new_word\n",
        "df['text'] = df['text'].apply(remove_spaces)"
      ],
      "execution_count": null,
      "outputs": []
    },
    {
      "cell_type": "code",
      "metadata": {
        "id": "nwYsCxP4V3RC",
        "colab_type": "code",
        "colab": {}
      },
      "source": [
        "df['text'] = df['text'].apply(lambda x: ''.join(i+' ' for i in x))"
      ],
      "execution_count": null,
      "outputs": []
    },
    {
      "cell_type": "code",
      "metadata": {
        "id": "n7GBnC3IV5r_",
        "colab_type": "code",
        "colab": {}
      },
      "source": [
        "# change these to periods (nltk tokenizer uses periods to tokenize)\n",
        "# and we really want to tokenize the hell out of the text\n",
        "contra_words = ['however ','but ','although','nevertheless']\n",
        "df['text'] = df['text'].str.replace('|'.join(contra_words), '. ')\n",
        "# remove the words associated for when google translated a review\n",
        "translated_terms = ['(translated google)', '(original)',\n",
        "                    'translated by google''translate by google']\n",
        "df['text'] = df['text'].str.replace('|'.join(translated_terms), ' ')"
      ],
      "execution_count": null,
      "outputs": []
    },
    {
      "cell_type": "code",
      "metadata": {
        "id": "MD8k4pZKV-Uo",
        "colab_type": "code",
        "colab": {}
      },
      "source": [
        "# replace punctuation with period\n",
        "df['text'] = df['text'].apply(lambda x: re.sub('[^\\w\\s]', '. ', x))"
      ],
      "execution_count": null,
      "outputs": []
    },
    {
      "cell_type": "code",
      "metadata": {
        "id": "NB9qg7bZV_gU",
        "colab_type": "code",
        "colab": {}
      },
      "source": [
        "# remove more than one space\n",
        "df.text = df.text.replace('\\s+', ' ', regex=True)"
      ],
      "execution_count": null,
      "outputs": []
    },
    {
      "cell_type": "code",
      "metadata": {
        "id": "v-Gjys-TWCPu",
        "colab_type": "code",
        "colab": {}
      },
      "source": [
        "# remove all single characters\n",
        "df['text'] = df['text'].apply(lambda x: re.sub(r'\\s+[a-zA-Z]\\s+', ' ', x))"
      ],
      "execution_count": null,
      "outputs": []
    },
    {
      "cell_type": "code",
      "metadata": {
        "id": "VmR4kV5CWC-q",
        "colab_type": "code",
        "colab": {}
      },
      "source": [
        "# remove non ascii (non english words)\n",
        "def remove_non_ascii(text):\n",
        "    return ''.join([i if ord(i) < 128 else ' ' for i in text])\n",
        "df['text'] = df['text'].apply(remove_non_ascii)"
      ],
      "execution_count": null,
      "outputs": []
    },
    {
      "cell_type": "code",
      "metadata": {
        "id": "Qlgd-o1SWFgH",
        "colab_type": "code",
        "colab": {}
      },
      "source": [
        "def tokenize_eng_text(col):\n",
        "   col = nltk.sent_tokenize(col)\n",
        "   # col = ' '.join(col)\n",
        "  #  print(col)\n",
        "   return col\n",
        "df['text'] = df['text'].apply(tokenize_eng_text)\n",
        "# now remove periods (nltk tokenizes with periods)\n",
        "df['text'] = df['text'].apply(lambda x: [y.replace('.', '') for y in x])"
      ],
      "execution_count": null,
      "outputs": []
    },
    {
      "cell_type": "code",
      "metadata": {
        "id": "VbIkWN93YkaZ",
        "colab_type": "code",
        "colab": {
          "base_uri": "https://localhost:8080/",
          "height": 272
        },
        "outputId": "acdab396-b729-4484-8d57-28357f680ec7"
      },
      "source": [
        "# explode dataframe using tokenized list\n",
        "# create df to explode\n",
        "df.reset_index(drop=True,inplace=True)\n",
        "df['extra_id'] = df.index\n",
        "dfe = df[['extra_id','text']]\n",
        "print('exploding text')\n",
        "dfe = dfe.explode('text')\n",
        "print(dfe)\n",
        "# clean up for outputting\n",
        "# before merging - erase text columns on df\n",
        "del df['text']\n",
        "# join exploded df to original data\n",
        "df = pd.merge(dfe, df, how='left', on='extra_id')"
      ],
      "execution_count": null,
      "outputs": [
        {
          "output_type": "stream",
          "text": [
            "exploding text\n",
            "        extra_id                                               text\n",
            "0              0  food snack selection popular greek dishes appe...\n",
            "1              1  little place soho wonderful lamb sandwich and ...\n",
            "1              1            then soho staff little snotty and rude \n",
            "1              1          food great dont expect worldclass service\n",
            "2              2  ordered lunch snack last friday   time nothing...\n",
            "...          ...                                                ...\n",
            "358079    358079  appreciate good thin chewy crust love emily sa...\n",
            "358079    358079  even without getting know must get smores calz...\n",
            "358079    358079  one among best and great friendly service welc...\n",
            "358079    358079  atmosphere and service really elevated experie...\n",
            "358080    358080                                                nan\n",
            "\n",
            "[811159 rows x 2 columns]\n"
          ],
          "name": "stdout"
        }
      ]
    },
    {
      "cell_type": "code",
      "metadata": {
        "id": "Z3Y-p0dbWI3x",
        "colab_type": "code",
        "colab": {}
      },
      "source": [
        "# remove more than one space\n",
        "dfe.text = dfe.text.replace('\\s+', ' ', regex=True)\n",
        "dfe = dfe[~pd.isnull(dfe['text'])]"
      ],
      "execution_count": null,
      "outputs": []
    },
    {
      "cell_type": "code",
      "metadata": {
        "id": "_i4TmOxCWQ82",
        "colab_type": "code",
        "colab": {
          "base_uri": "https://localhost:8080/",
          "height": 282
        },
        "outputId": "8c91d910-7861-4ddc-b8df-f066dcd267f0"
      },
      "source": [
        "df['text'].str.len().hist()"
      ],
      "execution_count": null,
      "outputs": [
        {
          "output_type": "execute_result",
          "data": {
            "text/plain": [
              "<matplotlib.axes._subplots.AxesSubplot at 0x7f5ea1509ba8>"
            ]
          },
          "metadata": {
            "tags": []
          },
          "execution_count": 29
        },
        {
          "output_type": "display_data",
          "data": {
            "image/png": "[encoded data removed]",
            "text/plain": [
              "<Figure size 432x288 with 1 Axes>"
            ]
          },
          "metadata": {
            "tags": [],
            "needs_background": "light"
          }
        }
      ]
    },
    {
      "cell_type": "code",
      "metadata": {
        "id": "kZHzd2XUdyN8",
        "colab_type": "code",
        "colab": {}
      },
      "source": [
        "df = df[pd.notnull(df['text'])]\n",
        "df = df[df['text'].str.len() < 90]\n",
        "df = df[df['text'].str.len() > 3]"
      ],
      "execution_count": null,
      "outputs": []
    },
    {
      "cell_type": "code",
      "metadata": {
        "id": "W4d6u6LBY4BD",
        "colab_type": "code",
        "colab": {
          "base_uri": "https://localhost:8080/",
          "height": 204
        },
        "outputId": "e22fc48c-81c1-4e24-eee4-f49d98a8dac3"
      },
      "source": [
        "df.head()"
      ],
      "execution_count": null,
      "outputs": [
        {
          "output_type": "execute_result",
          "data": {
            "text/html": [
              "<div>\n",
              "<style scoped>\n",
              "    .dataframe tbody tr th:only-of-type {\n",
              "        vertical-align: middle;\n",
              "    }\n",
              "\n",
              "    .dataframe tbody tr th {\n",
              "        vertical-align: top;\n",
              "    }\n",
              "\n",
              "    .dataframe thead th {\n",
              "        text-align: right;\n",
              "    }\n",
              "</style>\n",
              "<table border=\"1\" class=\"dataframe\">\n",
              "  <thead>\n",
              "    <tr style=\"text-align: right;\">\n",
              "      <th></th>\n",
              "      <th>extra_id</th>\n",
              "      <th>text</th>\n",
              "      <th>user_id</th>\n",
              "      <th>prod_id</th>\n",
              "      <th>date</th>\n",
              "      <th>rating</th>\n",
              "      <th>label</th>\n",
              "      <th>length</th>\n",
              "      <th>words</th>\n",
              "      <th>complexity</th>\n",
              "    </tr>\n",
              "  </thead>\n",
              "  <tbody>\n",
              "    <tr>\n",
              "      <th>1</th>\n",
              "      <td>1</td>\n",
              "      <td>little place soho wonderful lamb sandwich and ...</td>\n",
              "      <td>924</td>\n",
              "      <td>0</td>\n",
              "      <td>2013-05-16</td>\n",
              "      <td>3.0</td>\n",
              "      <td>FAKE</td>\n",
              "      <td>52.0</td>\n",
              "      <td>['this', 'little', 'place', 'in', 'soho', 'be'...</td>\n",
              "      <td>41.0</td>\n",
              "    </tr>\n",
              "    <tr>\n",
              "      <th>2</th>\n",
              "      <td>1</td>\n",
              "      <td>then soho staff little snotty and rude</td>\n",
              "      <td>924</td>\n",
              "      <td>0</td>\n",
              "      <td>2013-05-16</td>\n",
              "      <td>3.0</td>\n",
              "      <td>FAKE</td>\n",
              "      <td>52.0</td>\n",
              "      <td>['this', 'little', 'place', 'in', 'soho', 'be'...</td>\n",
              "      <td>41.0</td>\n",
              "    </tr>\n",
              "    <tr>\n",
              "      <th>3</th>\n",
              "      <td>1</td>\n",
              "      <td>food great dont expect worldclass service</td>\n",
              "      <td>924</td>\n",
              "      <td>0</td>\n",
              "      <td>2013-05-16</td>\n",
              "      <td>3.0</td>\n",
              "      <td>FAKE</td>\n",
              "      <td>52.0</td>\n",
              "      <td>['this', 'little', 'place', 'in', 'soho', 'be'...</td>\n",
              "      <td>41.0</td>\n",
              "    </tr>\n",
              "    <tr>\n",
              "      <th>12</th>\n",
              "      <td>8</td>\n",
              "      <td>tiny able stand waited and glass wine narrow b...</td>\n",
              "      <td>931</td>\n",
              "      <td>0</td>\n",
              "      <td>2005-12-27</td>\n",
              "      <td>4.0</td>\n",
              "      <td>FAKE</td>\n",
              "      <td>104.0</td>\n",
              "      <td>['my', 'friend', 'and', 'i', 'be', 'intrigue',...</td>\n",
              "      <td>68.0</td>\n",
              "    </tr>\n",
              "    <tr>\n",
              "      <th>14</th>\n",
              "      <td>8</td>\n",
              "      <td>cinnamon overpowered flavors friend stuffed to...</td>\n",
              "      <td>931</td>\n",
              "      <td>0</td>\n",
              "      <td>2005-12-27</td>\n",
              "      <td>4.0</td>\n",
              "      <td>FAKE</td>\n",
              "      <td>104.0</td>\n",
              "      <td>['my', 'friend', 'and', 'i', 'be', 'intrigue',...</td>\n",
              "      <td>68.0</td>\n",
              "    </tr>\n",
              "  </tbody>\n",
              "</table>\n",
              "</div>"
            ],
            "text/plain": [
              "    extra_id  ... complexity\n",
              "1          1  ...       41.0\n",
              "2          1  ...       41.0\n",
              "3          1  ...       41.0\n",
              "12         8  ...       68.0\n",
              "14         8  ...       68.0\n",
              "\n",
              "[5 rows x 10 columns]"
            ]
          },
          "metadata": {
            "tags": []
          },
          "execution_count": 31
        }
      ]
    },
    {
      "cell_type": "code",
      "metadata": {
        "id": "RB_9DfyVZE2t",
        "colab_type": "code",
        "colab": {}
      },
      "source": [
        "df.reset_index(inplace=True)"
      ],
      "execution_count": null,
      "outputs": []
    },
    {
      "cell_type": "code",
      "metadata": {
        "id": "B6o46adTZM7r",
        "colab_type": "code",
        "colab": {}
      },
      "source": [
        "df.drop(['index','extra_id','words'],axis=1, inplace=True)"
      ],
      "execution_count": null,
      "outputs": []
    },
    {
      "cell_type": "code",
      "metadata": {
        "id": "7n6toOmGbuBV",
        "colab_type": "code",
        "colab": {
          "base_uri": "https://localhost:8080/",
          "height": 204
        },
        "outputId": "6f24a6db-59a2-439d-8faf-28d0c6387b8a"
      },
      "source": [
        "df.head()"
      ],
      "execution_count": null,
      "outputs": [
        {
          "output_type": "execute_result",
          "data": {
            "text/html": [
              "<div>\n",
              "<style scoped>\n",
              "    .dataframe tbody tr th:only-of-type {\n",
              "        vertical-align: middle;\n",
              "    }\n",
              "\n",
              "    .dataframe tbody tr th {\n",
              "        vertical-align: top;\n",
              "    }\n",
              "\n",
              "    .dataframe thead th {\n",
              "        text-align: right;\n",
              "    }\n",
              "</style>\n",
              "<table border=\"1\" class=\"dataframe\">\n",
              "  <thead>\n",
              "    <tr style=\"text-align: right;\">\n",
              "      <th></th>\n",
              "      <th>text</th>\n",
              "      <th>user_id</th>\n",
              "      <th>prod_id</th>\n",
              "      <th>date</th>\n",
              "      <th>rating</th>\n",
              "      <th>label</th>\n",
              "      <th>length</th>\n",
              "      <th>complexity</th>\n",
              "    </tr>\n",
              "  </thead>\n",
              "  <tbody>\n",
              "    <tr>\n",
              "      <th>0</th>\n",
              "      <td>little place soho wonderful lamb sandwich and ...</td>\n",
              "      <td>924</td>\n",
              "      <td>0</td>\n",
              "      <td>2013-05-16</td>\n",
              "      <td>3.0</td>\n",
              "      <td>FAKE</td>\n",
              "      <td>52.0</td>\n",
              "      <td>41.0</td>\n",
              "    </tr>\n",
              "    <tr>\n",
              "      <th>1</th>\n",
              "      <td>then soho staff little snotty and rude</td>\n",
              "      <td>924</td>\n",
              "      <td>0</td>\n",
              "      <td>2013-05-16</td>\n",
              "      <td>3.0</td>\n",
              "      <td>FAKE</td>\n",
              "      <td>52.0</td>\n",
              "      <td>41.0</td>\n",
              "    </tr>\n",
              "    <tr>\n",
              "      <th>2</th>\n",
              "      <td>food great dont expect worldclass service</td>\n",
              "      <td>924</td>\n",
              "      <td>0</td>\n",
              "      <td>2013-05-16</td>\n",
              "      <td>3.0</td>\n",
              "      <td>FAKE</td>\n",
              "      <td>52.0</td>\n",
              "      <td>41.0</td>\n",
              "    </tr>\n",
              "    <tr>\n",
              "      <th>3</th>\n",
              "      <td>tiny able stand waited and glass wine narrow b...</td>\n",
              "      <td>931</td>\n",
              "      <td>0</td>\n",
              "      <td>2005-12-27</td>\n",
              "      <td>4.0</td>\n",
              "      <td>FAKE</td>\n",
              "      <td>104.0</td>\n",
              "      <td>68.0</td>\n",
              "    </tr>\n",
              "    <tr>\n",
              "      <th>4</th>\n",
              "      <td>cinnamon overpowered flavors friend stuffed to...</td>\n",
              "      <td>931</td>\n",
              "      <td>0</td>\n",
              "      <td>2005-12-27</td>\n",
              "      <td>4.0</td>\n",
              "      <td>FAKE</td>\n",
              "      <td>104.0</td>\n",
              "      <td>68.0</td>\n",
              "    </tr>\n",
              "  </tbody>\n",
              "</table>\n",
              "</div>"
            ],
            "text/plain": [
              "                                                text  ...  complexity\n",
              "0  little place soho wonderful lamb sandwich and ...  ...        41.0\n",
              "1            then soho staff little snotty and rude   ...        41.0\n",
              "2          food great dont expect worldclass service  ...        41.0\n",
              "3  tiny able stand waited and glass wine narrow b...  ...        68.0\n",
              "4  cinnamon overpowered flavors friend stuffed to...  ...        68.0\n",
              "\n",
              "[5 rows x 8 columns]"
            ]
          },
          "metadata": {
            "tags": []
          },
          "execution_count": 34
        }
      ]
    },
    {
      "cell_type": "code",
      "metadata": {
        "id": "qnPZ683ieTea",
        "colab_type": "code",
        "colab": {
          "base_uri": "https://localhost:8080/",
          "height": 281
        },
        "outputId": "383037ce-cb67-4fb3-fc05-64af318fe1f8"
      },
      "source": [
        "my_labels = ['FAKE','REAL']\n",
        "plt.figure(figsize=(10,4))\n",
        "df.label.value_counts().plot(kind='bar');"
      ],
      "execution_count": null,
      "outputs": [
        {
          "output_type": "display_data",
          "data": {
            "image/png": "[encoded data removed]",
            "text/plain": [
              "<Figure size 720x288 with 1 Axes>"
            ]
          },
          "metadata": {
            "tags": [],
            "needs_background": "light"
          }
        }
      ]
    },
    {
      "cell_type": "markdown",
      "metadata": {
        "id": "d5PoQIa5uxgs",
        "colab_type": "text"
      },
      "source": [
        "# make equal number of each label"
      ]
    },
    {
      "cell_type": "markdown",
      "metadata": {
        "id": "lBPZ6WaRsRmt",
        "colab_type": "text"
      },
      "source": [
        "![unbalanced](https://cdn-images-1.medium.com/max/1000/1*P93SeDGPGw0MhwvCcvVcXA.png)"
      ]
    },
    {
      "cell_type": "code",
      "metadata": {
        "id": "dkGuetTuwsX-",
        "colab_type": "code",
        "colab": {
          "base_uri": "https://localhost:8080/",
          "height": 68
        },
        "outputId": "8b9519da-3289-4b6e-ccb6-7cf91fe495f9"
      },
      "source": [
        "df['label'].value_counts()"
      ],
      "execution_count": null,
      "outputs": [
        {
          "output_type": "execute_result",
          "data": {
            "text/plain": [
              "REAL    248134\n",
              "FAKE     26009\n",
              "Name: label, dtype: int64"
            ]
          },
          "metadata": {
            "tags": []
          },
          "execution_count": 38
        }
      ]
    },
    {
      "cell_type": "code",
      "metadata": {
        "id": "ccNSGnCnuv_D",
        "colab_type": "code",
        "colab": {
          "base_uri": "https://localhost:8080/"
        },
        "outputId": "8c947b7d-887e-464f-db61-445599448d22"
      },
      "source": [
        "size = 100000 # sample size\n",
        "replace = True # with replacement (if you want it to select same row again)\n",
        "fn = lambda obj: obj.loc[np.random.choice(obj.index, size, replace),:]\n",
        "df = df.groupby('label', as_index=False).apply(fn)\n",
        "print(df['label'].value_counts())"
      ],
      "execution_count": null,
      "outputs": [
        {
          "output_type": "stream",
          "text": [
            "FAKE    100000\n",
            "REAL    100000\n",
            "Name: label, dtype: int64\n"
          ],
          "name": "stdout"
        }
      ]
    },
    {
      "cell_type": "code",
      "metadata": {
        "id": "t23V84UF818i",
        "colab_type": "code",
        "colab": {}
      },
      "source": [
        "# # SMOTE\n",
        "# from imblearn.over_sampling import SMOTE\n",
        "\n",
        "# # Resample the minority class. You can change the strategy to 'auto' if you are not sure.\n",
        "# sm = SMOTE(sampling_strategy='minority', random_state=7)\n",
        "\n",
        "# # Fit the model to generate the data.\n",
        "# oversampled_trainX, oversampled_trainY = sm.fit_sample(credit_df.drop('Class', axis=1), credit_df['Class'])\n",
        "# oversampled_train = pd.concat([pd.DataFrame(oversampled_trainY), pd.DataFrame(oversampled_trainX)], axis=1)\n",
        "# oversampled_train.columns = normalized_df.columns"
      ],
      "execution_count": null,
      "outputs": []
    },
    {
      "cell_type": "code",
      "metadata": {
        "id": "D_cKjktFzBYa",
        "colab_type": "code",
        "colab": {
          "base_uri": "https://localhost:8080/",
          "height": 281
        },
        "outputId": "136d0e48-ddea-4411-c9c2-ca62ffab3f69"
      },
      "source": [
        "my_labels = ['FAKE','REAL']\n",
        "plt.figure(figsize=(10,4))\n",
        "df.label.value_counts().plot(kind='bar');"
      ],
      "execution_count": null,
      "outputs": [
        {
          "output_type": "display_data",
          "data": {
            "image/png": "[encoded data removed]",
            "text/plain": [
              "<Figure size 720x288 with 1 Axes>"
            ]
          },
          "metadata": {
            "tags": [],
            "needs_background": "light"
          }
        }
      ]
    },
    {
      "cell_type": "code",
      "metadata": {
        "id": "K64_67xhphAD",
        "colab_type": "code",
        "colab": {}
      },
      "source": [
        "# # Stopwords\n",
        "# stopwords = STOPWORDS\n",
        "# stopwords = list(stopwords)\n",
        "# STOPWORDS = nltk.corpus.stopwords.words('english')\n",
        "# stopwords = stopwords + STOPWORDS"
      ],
      "execution_count": null,
      "outputs": []
    },
    {
      "cell_type": "code",
      "metadata": {
        "id": "568YgAMI7QvC",
        "colab_type": "code",
        "colab": {
          "base_uri": "https://localhost:8080/",
          "height": 248
        },
        "outputId": "c8b7a5a7-4fe6-454d-8b3b-0c3874f6a01a"
      },
      "source": [
        "count_Class = pd.value_counts(df.label, sort = True)\n",
        "\n",
        "# Data to Plot\n",
        "labels = 'Fake', 'Real'\n",
        "sizes = [count_Class[0], count_Class[1]]\n",
        "colors = ['lightskyblue', 'aqua']\n",
        "explode = (0.1, 0.1)\n",
        "\n",
        "# Plot\n",
        "plt.pie(sizes, explode = explode, labels = labels, colors = colors,\n",
        "        autopct = '%1.1f%%', shadow = True, startangle = 90)\n",
        "plt.axis('equal')\n",
        "plt.show()"
      ],
      "execution_count": null,
      "outputs": [
        {
          "output_type": "display_data",
          "data": {
            "image/png": "[encoded data removed]",
            "text/plain": [
              "<Figure size 432x288 with 1 Axes>"
            ]
          },
          "metadata": {
            "tags": []
          }
        }
      ]
    },
    {
      "cell_type": "code",
      "metadata": {
        "id": "DDz4VsGWIver",
        "colab_type": "code",
        "colab": {}
      },
      "source": [
        "X = df.text\n",
        "y = df.label\n",
        "\n",
        "X_train, X_test, y_train, y_test = train_test_split(X, y, test_size = 0.33, random_state = 42)"
      ],
      "execution_count": null,
      "outputs": []
    },
    {
      "cell_type": "code",
      "metadata": {
        "id": "geUMlf0y9szG",
        "colab_type": "code",
        "colab": {
          "base_uri": "https://localhost:8080/",
          "height": 187
        },
        "outputId": "92bcf269-f102-43fc-c766-beca981759f8"
      },
      "source": [
        "# Dictionary of all words from train corpus with their counts.\n",
        "words_counts = {}\n",
        "\n",
        "from collections import Counter\n",
        "words_counts = Counter([word for line in X_train for word in line.split(' ')])\n",
        "\n",
        "# Sorting \n",
        "most_common_words = sorted(words_counts.items(), key=lambda x: x[1], reverse=True)[:10]\n",
        "\n",
        "# Top 10\n",
        "most_common_words[:10]"
      ],
      "execution_count": null,
      "outputs": [
        {
          "output_type": "execute_result",
          "data": {
            "text/plain": [
              "[('', 118157),\n",
              " ('and', 42704),\n",
              " ('food', 22360),\n",
              " ('good', 20129),\n",
              " ('place', 18670),\n",
              " ('not', 17054),\n",
              " ('great', 15977),\n",
              " ('service', 8811),\n",
              " ('go', 7693),\n",
              " ('best', 7486)]"
            ]
          },
          "metadata": {
            "tags": []
          },
          "execution_count": 45
        }
      ]
    },
    {
      "cell_type": "code",
      "metadata": {
        "id": "2B_MgC2k9_Wd",
        "colab_type": "code",
        "colab": {
          "base_uri": "https://localhost:8080/",
          "height": 119
        },
        "outputId": "1c755cce-2516-4964-80e2-8db9b97d6ce3"
      },
      "source": [
        "#Initialize a TfidfVectorizer\n",
        "tfidf_vectorizer=TfidfVectorizer(stop_words='english', max_df=0.7)\n",
        "\n",
        "# Fit & transform train set, transform test set\n",
        "tfidf_train=tfidf_vectorizer.fit_transform(X_train) \n",
        "tfidf_test=tfidf_vectorizer.transform(X_test)\n",
        "\n",
        "# Initialize the PassiveAggressiveClassifier and fit training sets\n",
        "pa_classifier=PassiveAggressiveClassifier(max_iter=50)\n",
        "pa_classifier.fit(tfidf_train,y_train)"
      ],
      "execution_count": null,
      "outputs": [
        {
          "output_type": "execute_result",
          "data": {
            "text/plain": [
              "PassiveAggressiveClassifier(C=1.0, average=False, class_weight=None,\n",
              "                            early_stopping=False, fit_intercept=True,\n",
              "                            loss='hinge', max_iter=50, n_iter_no_change=5,\n",
              "                            n_jobs=None, random_state=None, shuffle=True,\n",
              "                            tol=0.001, validation_fraction=0.1, verbose=0,\n",
              "                            warm_start=False)"
            ]
          },
          "metadata": {
            "tags": []
          },
          "execution_count": 46
        }
      ]
    },
    {
      "cell_type": "code",
      "metadata": {
        "id": "ehSmzzZC-C2B",
        "colab_type": "code",
        "colab": {
          "base_uri": "https://localhost:8080/",
          "height": 34
        },
        "outputId": "1eafcb48-965c-44bf-9d3e-d6dbcaf9521e"
      },
      "source": [
        "# Predict and calculate accuracy\n",
        "y_pred=pa_classifier.predict(tfidf_test)\n",
        "score=accuracy_score(y_test,y_pred)\n",
        "print(f'Accuracy: {round(score*100,2)}%')"
      ],
      "execution_count": null,
      "outputs": [
        {
          "output_type": "stream",
          "text": [
            "Accuracy: 67.22%\n"
          ],
          "name": "stdout"
        }
      ]
    },
    {
      "cell_type": "code",
      "metadata": {
        "id": "ckfeeM7b-EeE",
        "colab_type": "code",
        "colab": {
          "base_uri": "https://localhost:8080/",
          "height": 51
        },
        "outputId": "53cdf2dd-3327-4c7c-ece5-ae32ef5149bb"
      },
      "source": [
        "# Build confusion matrix\n",
        "confusion_matrix(y_test,y_pred, labels=['FAKE','REAL'])"
      ],
      "execution_count": null,
      "outputs": [
        {
          "output_type": "execute_result",
          "data": {
            "text/plain": [
              "array([[23360,  9453],\n",
              "       [12180, 21007]])"
            ]
          },
          "metadata": {
            "tags": []
          },
          "execution_count": 48
        }
      ]
    },
    {
      "cell_type": "markdown",
      "metadata": {
        "id": "e0NUeqDjCD8z",
        "colab_type": "text"
      },
      "source": [
        "# Split train and test data"
      ]
    },
    {
      "cell_type": "code",
      "metadata": {
        "id": "n9bG3PX6CCpr",
        "colab_type": "code",
        "colab": {
          "base_uri": "https://localhost:8080/",
          "height": 119
        },
        "outputId": "c34c5829-d3c8-46d0-dae7-83e786b9e442"
      },
      "source": [
        "X = df.text\n",
        "y = df.label\n",
        "train_set, test_set, train_label, test_label = train_test_split(df, df['label'], test_size=0.33, random_state = 42)\n",
        "print(train_set.shape)\n",
        "print(test_set.shape)\n",
        "print(\"\\nThe Trainset consists of {} records and {} features\".format(train_set.shape[0],train_set.shape[1]))\n",
        "print(\"\\nThe Testset consists of {} records and {} features\".format(test_set.shape[0],train_set.shape[1]))"
      ],
      "execution_count": null,
      "outputs": [
        {
          "output_type": "stream",
          "text": [
            "(134000, 8)\n",
            "(66000, 8)\n",
            "\n",
            "The Trainset consists of 134000 records and 8 features\n",
            "\n",
            "The Testset consists of 66000 records and 8 features\n"
          ],
          "name": "stdout"
        }
      ]
    },
    {
      "cell_type": "markdown",
      "metadata": {
        "id": "rjhKYyRWCK1m",
        "colab_type": "text"
      },
      "source": [
        "# Extract N-grams from Text data"
      ]
    },
    {
      "cell_type": "code",
      "metadata": {
        "id": "VUr3pVuHCIVr",
        "colab_type": "code",
        "colab": {}
      },
      "source": [
        "countvect = CountVectorizer(ngram_range = (2,2), )\n",
        "x_counts = countvect.fit(train_set.text)\n",
        "\n",
        "# preparing for training set\n",
        "x_train_df = countvect.transform(train_set.text)\n",
        "\n",
        "# preparing for test set\n",
        "x_test_df = countvect.transform(test_set.text)"
      ],
      "execution_count": null,
      "outputs": []
    },
    {
      "cell_type": "markdown",
      "metadata": {
        "id": "L4SZ4B6dCPTz",
        "colab_type": "text"
      },
      "source": [
        "#Let's create models"
      ]
    },
    {
      "cell_type": "markdown",
      "metadata": {
        "id": "-JTO_DpHCUxT",
        "colab_type": "text"
      },
      "source": [
        "## Naive Bayes classifier "
      ]
    },
    {
      "cell_type": "code",
      "metadata": {
        "id": "gH5Vs_9CCOf-",
        "colab_type": "code",
        "colab": {}
      },
      "source": [
        "clf = MultinomialNB()\n",
        "clf.fit(x_train_df,train_set.label)\n",
        "predicted_values_NB = clf.predict(x_test_df)"
      ],
      "execution_count": null,
      "outputs": []
    },
    {
      "cell_type": "code",
      "metadata": {
        "id": "wTe24CM0CeSN",
        "colab_type": "code",
        "colab": {}
      },
      "source": [
        "predictions = dict()"
      ],
      "execution_count": null,
      "outputs": []
    },
    {
      "cell_type": "code",
      "metadata": {
        "id": "9SySScGUCfsK",
        "colab_type": "code",
        "colab": {
          "base_uri": "https://localhost:8080/",
          "height": 85
        },
        "outputId": "6fdc4a87-8371-444f-b1d3-9412aced7e4d"
      },
      "source": [
        "accuracy = accuracy_score(test_set.label, predicted_values_NB)\n",
        "predictions['Naive Bayes'] = accuracy * 100\n",
        "confusionmatrix = confusion_matrix(test_set.label, predicted_values_NB)\n",
        "print(\"The accuracy of Naive Bayes clasifier is {}%\".format(accuracy * 100))\n",
        "print(\"\\n\", confusionmatrix)"
      ],
      "execution_count": null,
      "outputs": [
        {
          "output_type": "stream",
          "text": [
            "The accuracy of Naive Bayes clasifier is 78.75%\n",
            "\n",
            " [[30314  2499]\n",
            " [11526 21661]]\n"
          ],
          "name": "stdout"
        }
      ]
    },
    {
      "cell_type": "code",
      "metadata": {
        "id": "Kxlr4hwOCgpx",
        "colab_type": "code",
        "colab": {
          "base_uri": "https://localhost:8080/",
          "height": 295
        },
        "outputId": "9a0fea82-5bbf-416c-9194-57c2d2d0c31c"
      },
      "source": [
        "skplt.metrics.plot_confusion_matrix(test_set.label, predicted_values_NB, normalize = True)\n",
        "plt.show()"
      ],
      "execution_count": null,
      "outputs": [
        {
          "output_type": "display_data",
          "data": {
            "image/png": "[encoded data removed]",
            "text/plain": [
              "<Figure size 432x288 with 2 Axes>"
            ]
          },
          "metadata": {
            "tags": [],
            "needs_background": "light"
          }
        }
      ]
    },
    {
      "cell_type": "markdown",
      "metadata": {
        "id": "zYvEextmCibI",
        "colab_type": "text"
      },
      "source": [
        "## K-Nearest Neighbors algorithm"
      ]
    },
    {
      "cell_type": "code",
      "metadata": {
        "id": "ZdKYkCgXCg_i",
        "colab_type": "code",
        "colab": {
          "base_uri": "https://localhost:8080/",
          "height": 34
        },
        "outputId": "03f2cae6-04ce-4fd6-afd0-6dd60a32585d"
      },
      "source": [
        "#KNN = KNeighborsClassifier(metric = 'euclidean')\n",
        "KNN = KNeighborsClassifier()\n",
        "KNN.fit(x_train_df, train_set.label)\n",
        "predicted_values_KNN = KNN.predict(x_test_df)\n",
        "print(predicted_values_KNN)"
      ],
      "execution_count": null,
      "outputs": [
        {
          "output_type": "stream",
          "text": [
            "['FAKE' 'FAKE' 'REAL' ... 'FAKE' 'FAKE' 'FAKE']\n"
          ],
          "name": "stdout"
        }
      ]
    },
    {
      "cell_type": "code",
      "metadata": {
        "id": "BSHJYZ0KCm4L",
        "colab_type": "code",
        "colab": {
          "base_uri": "https://localhost:8080/",
          "height": 102
        },
        "outputId": "59a19ca1-2771-444f-9c46-b096b050401d"
      },
      "source": [
        "accuracy_KNN = accuracy_score(test_set.label, predicted_values_KNN)\n",
        "predictions['K-Nearest Neighbors algorithm'] = accuracy_KNN * 100\n",
        "print(\"\\nThe accuracy of K-Nearest Neighbors algorithm is {}%\".format(accuracy_KNN * 100))\n",
        "confusion_matrix_KNN = confusion_matrix(test_set.label, predicted_values_KNN)\n",
        "print(\"\\n\", confusion_matrix_KNN)"
      ],
      "execution_count": null,
      "outputs": [
        {
          "output_type": "stream",
          "text": [
            "\n",
            "The accuracy of K-Nearest Neighbors algorithm is 64.47878787878788%\n",
            "\n",
            " [[29883  2930]\n",
            " [20514 12673]]\n"
          ],
          "name": "stdout"
        }
      ]
    },
    {
      "cell_type": "code",
      "metadata": {
        "id": "8eKoIQVMCpsC",
        "colab_type": "code",
        "colab": {
          "base_uri": "https://localhost:8080/",
          "height": 295
        },
        "outputId": "1255334b-cd09-4975-f4f2-d213c672b3d2"
      },
      "source": [
        "skplt.metrics.plot_confusion_matrix(test_set.label, predicted_values_KNN, normalize = True)\n",
        "plt.show()"
      ],
      "execution_count": null,
      "outputs": [
        {
          "output_type": "display_data",
          "data": {
            "image/png": "[encoded data removed]",
            "text/plain": [
              "<Figure size 432x288 with 2 Axes>"
            ]
          },
          "metadata": {
            "tags": [],
            "needs_background": "light"
          }
        }
      ]
    },
    {
      "cell_type": "markdown",
      "metadata": {
        "id": "oesBrHgsCrua",
        "colab_type": "text"
      },
      "source": [
        "## Decision Tree"
      ]
    },
    {
      "cell_type": "code",
      "metadata": {
        "id": "6MeMCz89Cp6E",
        "colab_type": "code",
        "colab": {
          "base_uri": "https://localhost:8080/",
          "height": 34
        },
        "outputId": "b7ba03eb-349d-4406-b657-f1b5bfd804eb"
      },
      "source": [
        "DT = DecisionTreeClassifier()\n",
        "DT.fit(x_train_df, train_set.label)\n",
        "predicted_values_DT = DT.predict(x_test_df)\n",
        "print(predicted_values_DT)"
      ],
      "execution_count": null,
      "outputs": [
        {
          "output_type": "stream",
          "text": [
            "['REAL' 'FAKE' 'REAL' ... 'FAKE' 'FAKE' 'REAL']\n"
          ],
          "name": "stdout"
        }
      ]
    },
    {
      "cell_type": "code",
      "metadata": {
        "id": "yY5VlDKVCvwN",
        "colab_type": "code",
        "colab": {
          "base_uri": "https://localhost:8080/",
          "height": 102
        },
        "outputId": "bdde046b-96b9-4cfd-b8b5-9bb1b1581a4c"
      },
      "source": [
        "accuracy_DT = accuracy_score(test_set.label, predicted_values_DT)\n",
        "predictions['Decision Tree learning'] = accuracy_DT * 100\n",
        "print(\"\\nThe accuracy of Decision Tree learning is {}%\".format(accuracy_DT * 100))\n",
        "confusion_matrix_DT = confusion_matrix(test_set.label, predicted_values_DT)\n",
        "print(\"\\n\", confusion_matrix_DT)"
      ],
      "execution_count": null,
      "outputs": [
        {
          "output_type": "stream",
          "text": [
            "\n",
            "The accuracy of Decision Tree learning is 79.32272727272728%\n",
            "\n",
            " [[31527  1286]\n",
            " [12361 20826]]\n"
          ],
          "name": "stdout"
        }
      ]
    },
    {
      "cell_type": "code",
      "metadata": {
        "id": "NW-oLjKpCwjr",
        "colab_type": "code",
        "colab": {
          "base_uri": "https://localhost:8080/",
          "height": 295
        },
        "outputId": "fdb62b7c-7448-431d-df7a-15c9e0408c05"
      },
      "source": [
        "skplt.metrics.plot_confusion_matrix(test_set.label, predicted_values_DT, normalize = True)\n",
        "plt.show()"
      ],
      "execution_count": null,
      "outputs": [
        {
          "output_type": "display_data",
          "data": {
            "image/png": "[encoded data removed]",
            "text/plain": [
              "<Figure size 432x288 with 2 Axes>"
            ]
          },
          "metadata": {
            "tags": [],
            "needs_background": "light"
          }
        }
      ]
    },
    {
      "cell_type": "markdown",
      "metadata": {
        "id": "AcJmvhiBCzMP",
        "colab_type": "text"
      },
      "source": [
        "## Support Vector Machine (SVM)"
      ]
    },
    {
      "cell_type": "code",
      "metadata": {
        "id": "XbeUBRm1CwxP",
        "colab_type": "code",
        "colab": {
          "base_uri": "https://localhost:8080/",
          "height": 34
        },
        "outputId": "6b12d097-3014-4fa2-c7e3-8f4bfb41fc28"
      },
      "source": [
        "SVM = svm.SVC()\n",
        "SVM.fit(x_train_df, train_set.label)\n",
        "predicted_values_SVM = SVM.predict(x_test_df)\n",
        "print(predicted_values_SVM)"
      ],
      "execution_count": null,
      "outputs": [
        {
          "output_type": "stream",
          "text": [
            "['REAL' 'FAKE' 'FAKE' ... 'FAKE' 'FAKE' 'REAL']\n"
          ],
          "name": "stdout"
        }
      ]
    },
    {
      "cell_type": "code",
      "metadata": {
        "id": "LaZbc4L7C2nb",
        "colab_type": "code",
        "colab": {
          "base_uri": "https://localhost:8080/",
          "height": 102
        },
        "outputId": "508ac89e-c008-4726-ba9c-7a4f03ae54e4"
      },
      "source": [
        "accuracy_SVM = accuracy_score(test_set.label, predicted_values_SVM)\n",
        "predictions['Support Vector Machine (SVM)'] = accuracy_SVM * 100\n",
        "print(\"\\nThe accuracy of Support Vector Machine (SVM) is {}%\".format(accuracy_SVM * 100))\n",
        "confusion_matrix_SVM = confusion_matrix(test_set.label, predicted_values_SVM)\n",
        "print(\"\\n\", confusion_matrix_SVM)"
      ],
      "execution_count": null,
      "outputs": [
        {
          "output_type": "stream",
          "text": [
            "\n",
            "The accuracy of Support Vector Machine (SVM) is 85.08181818181818%\n",
            "\n",
            " [[30287  2526]\n",
            " [ 7320 25867]]\n"
          ],
          "name": "stdout"
        }
      ]
    },
    {
      "cell_type": "code",
      "metadata": {
        "id": "zNlc7RoPC3jy",
        "colab_type": "code",
        "colab": {
          "base_uri": "https://localhost:8080/",
          "height": 295
        },
        "outputId": "66755939-bd79-42b9-cae7-e1b9770c89b8"
      },
      "source": [
        "skplt.metrics.plot_confusion_matrix(test_set.label, predicted_values_SVM, normalize = True)\n",
        "plt.show()"
      ],
      "execution_count": null,
      "outputs": [
        {
          "output_type": "display_data",
          "data": {
            "image/png": "[encoded data removed]",
            "text/plain": [
              "<Figure size 432x288 with 2 Axes>"
            ]
          },
          "metadata": {
            "tags": [],
            "needs_background": "light"
          }
        }
      ]
    },
    {
      "cell_type": "markdown",
      "metadata": {
        "id": "hKeyvtvxC42u",
        "colab_type": "text"
      },
      "source": [
        "## Random Forest"
      ]
    },
    {
      "cell_type": "code",
      "metadata": {
        "id": "hsRzUhFcC35M",
        "colab_type": "code",
        "colab": {
          "base_uri": "https://localhost:8080/"
        },
        "outputId": "fd4b3dcb-0ff1-4325-eb7a-d551999ffbab"
      },
      "source": [
        "RF = RandomForestClassifier(n_estimators = 100, oob_score = True, random_state = 123456)\n",
        "RF.fit(x_train_df, train_set.label)\n",
        "predicted_values_RF = RF.predict(x_test_df)\n",
        "print(predicted_values_RF)"
      ],
      "execution_count": null,
      "outputs": [
        {
          "output_type": "stream",
          "text": [
            "['REAL' 'FAKE' 'REAL' ... 'FAKE' 'FAKE' 'REAL']\n"
          ],
          "name": "stdout"
        }
      ]
    },
    {
      "cell_type": "code",
      "metadata": {
        "id": "6YqOqoW3DBxt",
        "colab_type": "code",
        "colab": {
          "base_uri": "https://localhost:8080/"
        },
        "outputId": "052322b7-c3af-4982-af51-783de9e43b62"
      },
      "source": [
        "accuracy_RF = accuracy_score(test_set.label, predicted_values_RF)\n",
        "predictions['Random Forest'] = accuracy_RF * 100\n",
        "print(\"\\nThe accuracy of Random Forest is {}%\".format(accuracy_RF * 100))\n",
        "confusion_matrix_RF = confusion_matrix(test_set.label, predicted_values_RF)"
      ],
      "execution_count": null,
      "outputs": [
        {
          "output_type": "stream",
          "text": [
            "\n",
            "The accuracy of Random Forest is 81.36515151515151%\n"
          ],
          "name": "stdout"
        }
      ]
    },
    {
      "cell_type": "code",
      "metadata": {
        "id": "bd-Y8lofDC4-",
        "colab_type": "code",
        "colab": {
          "base_uri": "https://localhost:8080/"
        },
        "outputId": "e2c7542f-79fd-400e-d613-6e08d171154f"
      },
      "source": [
        "print(\"\\n\", confusion_matrix_RF)\n",
        "skplt.metrics.plot_confusion_matrix(test_set.label, predicted_values_RF, normalize = True)\n",
        "plt.show()"
      ],
      "execution_count": null,
      "outputs": [
        {
          "output_type": "stream",
          "text": [
            "\n",
            " [[31410  1403]\n",
            " [10896 22291]]\n"
          ],
          "name": "stdout"
        },
        {
          "output_type": "display_data",
          "data": {
            "image/png": "[encoded data removed]",
            "text/plain": [
              "<Figure size 432x288 with 2 Axes>"
            ]
          },
          "metadata": {
            "tags": [],
            "needs_background": "light"
          }
        }
      ]
    },
    {
      "cell_type": "markdown",
      "metadata": {
        "id": "Z8I5HoIHDHn4",
        "colab_type": "text"
      },
      "source": [
        "Let's compare the models"
      ]
    },
    {
      "cell_type": "code",
      "metadata": {
        "id": "jNsF5rYVDDQD",
        "colab_type": "code",
        "colab": {
          "base_uri": "https://localhost:8080/",
          "height": 521
        },
        "outputId": "2c68c805-b7b2-41cc-b8ca-aba373490cde"
      },
      "source": [
        "fig, (ax1) = plt.subplots(ncols = 1, sharey = True,figsize = (15,5))\n",
        "df = pd.DataFrame(list(predictions.items()),columns = ['Algorithms','Percentage'])\n",
        "display(df)\n",
        "sns.pointplot(x = \"Algorithms\", y = \"Percentage\", data = df,ax = ax1);"
      ],
      "execution_count": null,
      "outputs": [
        {
          "output_type": "display_data",
          "data": {
            "text/html": [
              "<div>\n",
              "<style scoped>\n",
              "    .dataframe tbody tr th:only-of-type {\n",
              "        vertical-align: middle;\n",
              "    }\n",
              "\n",
              "    .dataframe tbody tr th {\n",
              "        vertical-align: top;\n",
              "    }\n",
              "\n",
              "    .dataframe thead th {\n",
              "        text-align: right;\n",
              "    }\n",
              "</style>\n",
              "<table border=\"1\" class=\"dataframe\">\n",
              "  <thead>\n",
              "    <tr style=\"text-align: right;\">\n",
              "      <th></th>\n",
              "      <th>Algorithms</th>\n",
              "      <th>Percentage</th>\n",
              "    </tr>\n",
              "  </thead>\n",
              "  <tbody>\n",
              "    <tr>\n",
              "      <th>0</th>\n",
              "      <td>Naive Bayes</td>\n",
              "      <td>78.750000</td>\n",
              "    </tr>\n",
              "    <tr>\n",
              "      <th>1</th>\n",
              "      <td>K-Nearest Neighbors algorithm</td>\n",
              "      <td>64.478788</td>\n",
              "    </tr>\n",
              "    <tr>\n",
              "      <th>2</th>\n",
              "      <td>Decision Tree learning</td>\n",
              "      <td>79.322727</td>\n",
              "    </tr>\n",
              "    <tr>\n",
              "      <th>3</th>\n",
              "      <td>Support Vector Machine (SVM)</td>\n",
              "      <td>85.081818</td>\n",
              "    </tr>\n",
              "    <tr>\n",
              "      <th>4</th>\n",
              "      <td>Random Forest</td>\n",
              "      <td>81.365152</td>\n",
              "    </tr>\n",
              "  </tbody>\n",
              "</table>\n",
              "</div>"
            ],
            "text/plain": [
              "                      Algorithms  Percentage\n",
              "0                    Naive Bayes   78.750000\n",
              "1  K-Nearest Neighbors algorithm   64.478788\n",
              "2         Decision Tree learning   79.322727\n",
              "3   Support Vector Machine (SVM)   85.081818\n",
              "4                  Random Forest   81.365152"
            ]
          },
          "metadata": {
            "tags": []
          }
        },
        {
          "output_type": "display_data",
          "data": {
            "image/png": "[encoded data removed]",
            "text/plain": [
              "<Figure size 1080x360 with 1 Axes>"
            ]
          },
          "metadata": {
            "tags": [],
            "needs_background": "light"
          }
        }
      ]
    },
    {
      "cell_type": "markdown",
      "metadata": {
        "id": "7ENYDBNaDcTF",
        "colab_type": "text"
      },
      "source": [
        "## Check the accuracy"
      ]
    },
    {
      "cell_type": "code",
      "metadata": {
        "id": "sy7BKf2fDK1V",
        "colab_type": "code",
        "colab": {
          "base_uri": "https://localhost:8080/",
          "height": 34
        },
        "outputId": "60ac34da-fbef-45b9-9f46-1e6fe41d50f4"
      },
      "source": [
        "#pr, tpr, thresholds = roc_curve(testset.v1,predicted_values_XGB, pos_label=2)\n",
        "test_prediction = test_set.label.tolist()\n",
        "predicted_values = predicted_values_SVM.tolist()\n",
        "test_prediction = [1 if pred==\"REAL\" else 0 for pred in test_prediction]\n",
        "predicted_values = [1 if pred==\"REAL\" else 0 for pred in predicted_values]\n",
        "fpr, tpr, thresholds = roc_curve(test_prediction,predicted_values)\n",
        "roc_auc = auc(fpr, tpr)\n",
        "print(\"The ROC Accuracy is {}\".format(roc_auc))"
      ],
      "execution_count": 86,
      "outputs": [
        {
          "output_type": "stream",
          "text": [
            "The ROC Accuracy is 0.8512250105485711\n"
          ],
          "name": "stdout"
        }
      ]
    },
    {
      "cell_type": "code",
      "metadata": {
        "id": "US_LHfla1Zcu",
        "colab_type": "code",
        "colab": {
          "base_uri": "https://localhost:8080/",
          "height": 295
        },
        "outputId": "0812c491-4594-4450-f435-634ab12227ce"
      },
      "source": [
        "plt.title('Receiver Operating Characteristic')\n",
        "plt.plot(fpr, tpr, 'b',\n",
        "label='AUC = %0.2f'% roc_auc)\n",
        "plt.legend(loc='lower right')\n",
        "plt.plot([0,1],[0,1],'r--')\n",
        "plt.xlim([-0.1,1.2])\n",
        "plt.ylim([-0.1,1.2])\n",
        "plt.ylabel('True Positive Rate')\n",
        "plt.xlabel('False Positive Rate')\n",
        "plt.show()"
      ],
      "execution_count": 87,
      "outputs": [
        {
          "output_type": "display_data",
          "data": {
            "image/png": "[encoded data removed]",
            "text/plain": [
              "<Figure size 432x288 with 1 Axes>"
            ]
          },
          "metadata": {
            "tags": [],
            "needs_background": "light"
          }
        }
      ]
    }
  ]
}