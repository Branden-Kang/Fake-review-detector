{
  "nbformat": 4,
  "nbformat_minor": 0,
  "metadata": {
    "colab": {
      "name": "Detect Fake Reviews_General.ipynb",
      "provenance": [],
      "collapsed_sections": [],
      "authorship_tag": "ABX9TyODFKH6ZVOmrXlICI98m11s"
    },
    "kernelspec": {
      "name": "python3",
      "display_name": "Python 3"
    }
  },
  "cells": [
    {
      "cell_type": "markdown",
      "metadata": {
        "id": "iF2WkhWN-s6C",
        "colab_type": "text"
      },
      "source": [
        "[Reference](https://medium.com/swlh/detecting-fake-news-with-python-and-machine-learning-f78421d29a06) <br>\n",
        "[Text Classification](https://scikit-learn.org/stable/tutorial/text_analytics/working_with_text_data.html)\n",
        "\n"
      ]
    },
    {
      "cell_type": "code",
      "metadata": {
        "id": "w4DOBYGL38K6",
        "colab_type": "code",
        "colab": {
          "base_uri": "https://localhost:8080/",
          "height": 37
        },
        "outputId": "a390e9f2-b5da-46e8-998f-afa8863f9ebd"
      },
      "source": [
        "# -*- coding: utf-8 -*-\n",
        "\"\"\"\n",
        "Created on Thu Sep 3 08:06:15 2020\n",
        "\n",
        "@author: Sangyun\n",
        "\"\"\""
      ],
      "execution_count": 1,
      "outputs": [
        {
          "output_type": "execute_result",
          "data": {
            "application/vnd.google.colaboratory.intrinsic+json": {
              "type": "string"
            },
            "text/plain": [
              "'\\nCreated on Thu Sep 3 08:06:15 2020\\n\\n@author: Sangyun\\n'"
            ]
          },
          "metadata": {
            "tags": []
          },
          "execution_count": 1
        }
      ]
    },
    {
      "cell_type": "markdown",
      "metadata": {
        "id": "nJ84SAfAnXA9",
        "colab_type": "text"
      },
      "source": [
        "![WorkFlow](https://miro.medium.com/max/1400/1*6ku25gAB-_SLtxVNyBkl9w.jpeg)"
      ]
    },
    {
      "cell_type": "code",
      "metadata": {
        "id": "cyeQ0gl0_8V2",
        "colab_type": "code",
        "colab": {
          "base_uri": "https://localhost:8080/",
          "height": 309
        },
        "outputId": "f6ffda09-eb26-411a-90aa-d9623b04e687"
      },
      "source": [
        "import re\n",
        "import string\n",
        "\n",
        "import numpy as np \n",
        "import pandas as pd\n",
        "from wordcloud import WordCloud\n",
        "from wordcloud import STOPWORDS\n",
        "from nltk.corpus import stopwords\n",
        "import nltk\n",
        "from sklearn.metrics import roc_curve\n",
        "from sklearn.metrics import auc\n",
        "import matplotlib.pyplot as plt\n",
        "import seaborn as sns\n",
        "!pip install scikit-plot\n",
        "import scikitplot as skplt\n",
        "from sklearn.model_selection import train_test_split\n",
        "\n",
        "from sklearn.feature_extraction.text import CountVectorizer, TfidfTransformer\n",
        "from sklearn.metrics import accuracy_score, confusion_matrix, classification_report\n",
        "\n",
        "#import methods\n",
        "from sklearn.naive_bayes import MultinomialNB \n",
        "from sklearn import svm\n",
        "from sklearn.neighbors import KNeighborsClassifier\n",
        "from sklearn.tree import DecisionTreeClassifier\n",
        "from sklearn.ensemble import RandomForestClassifier\n",
        "#from sklearn.neural_network import MLPClassifier\n",
        "#from xgboost import XGBClassifier\n",
        "\n",
        "import itertools\n",
        "import pandas as pd\n",
        "import numpy as np\n",
        "from sklearn.linear_model import PassiveAggressiveClassifier\n",
        "from sklearn.model_selection import train_test_split\n",
        "from sklearn.feature_extraction.text import TfidfVectorizer\n",
        "from sklearn.metrics import accuracy_score\n",
        "from sklearn.metrics import confusion_matrix\n",
        "\n",
        "from itertools import islice\n",
        "import logging\n",
        "import gensim\n",
        "from gensim.models import Word2Vec"
      ],
      "execution_count": null,
      "outputs": [
        {
          "output_type": "stream",
          "text": [
            "/usr/local/lib/python3.6/dist-packages/statsmodels/tools/_testing.py:19: FutureWarning: pandas.util.testing is deprecated. Use the functions in the public API at pandas.testing instead.\n",
            "  import pandas.util.testing as tm\n"
          ],
          "name": "stderr"
        },
        {
          "output_type": "stream",
          "text": [
            "Collecting scikit-plot\n",
            "  Downloading https://files.pythonhosted.org/packages/7c/47/32520e259340c140a4ad27c1b97050dd3254fdc517b1d59974d47037510e/scikit_plot-0.3.7-py3-none-any.whl\n",
            "Requirement already satisfied: matplotlib>=1.4.0 in /usr/local/lib/python3.6/dist-packages (from scikit-plot) (3.2.2)\n",
            "Requirement already satisfied: scikit-learn>=0.18 in /usr/local/lib/python3.6/dist-packages (from scikit-plot) (0.22.2.post1)\n",
            "Requirement already satisfied: scipy>=0.9 in /usr/local/lib/python3.6/dist-packages (from scikit-plot) (1.4.1)\n",
            "Requirement already satisfied: joblib>=0.10 in /usr/local/lib/python3.6/dist-packages (from scikit-plot) (0.16.0)\n",
            "Requirement already satisfied: python-dateutil>=2.1 in /usr/local/lib/python3.6/dist-packages (from matplotlib>=1.4.0->scikit-plot) (2.8.1)\n",
            "Requirement already satisfied: cycler>=0.10 in /usr/local/lib/python3.6/dist-packages (from matplotlib>=1.4.0->scikit-plot) (0.10.0)\n",
            "Requirement already satisfied: numpy>=1.11 in /usr/local/lib/python3.6/dist-packages (from matplotlib>=1.4.0->scikit-plot) (1.18.5)\n",
            "Requirement already satisfied: pyparsing!=2.0.4,!=2.1.2,!=2.1.6,>=2.0.1 in /usr/local/lib/python3.6/dist-packages (from matplotlib>=1.4.0->scikit-plot) (2.4.7)\n",
            "Requirement already satisfied: kiwisolver>=1.0.1 in /usr/local/lib/python3.6/dist-packages (from matplotlib>=1.4.0->scikit-plot) (1.2.0)\n",
            "Requirement already satisfied: six>=1.5 in /usr/local/lib/python3.6/dist-packages (from python-dateutil>=2.1->matplotlib>=1.4.0->scikit-plot) (1.15.0)\n",
            "Installing collected packages: scikit-plot\n",
            "Successfully installed scikit-plot-0.3.7\n"
          ],
          "name": "stdout"
        }
      ]
    },
    {
      "cell_type": "code",
      "metadata": {
        "id": "NhreyQOtAGp6",
        "colab_type": "code",
        "colab": {
          "base_uri": "https://localhost:8080/",
          "height": 102
        },
        "outputId": "f79c84ac-dd0a-462c-ea8d-caea49c598e3"
      },
      "source": [
        "nltk.download(\"stopwords\")\n",
        "nltk.download('punkt')"
      ],
      "execution_count": null,
      "outputs": [
        {
          "output_type": "stream",
          "text": [
            "[nltk_data] Downloading package stopwords to /root/nltk_data...\n",
            "[nltk_data]   Unzipping corpora/stopwords.zip.\n",
            "[nltk_data] Downloading package punkt to /root/nltk_data...\n",
            "[nltk_data]   Unzipping tokenizers/punkt.zip.\n"
          ],
          "name": "stdout"
        },
        {
          "output_type": "execute_result",
          "data": {
            "text/plain": [
              "True"
            ]
          },
          "metadata": {
            "tags": []
          },
          "execution_count": 2
        }
      ]
    },
    {
      "cell_type": "code",
      "metadata": {
        "id": "RSSP1abzAkeo",
        "colab_type": "code",
        "colab": {
          "base_uri": "https://localhost:8080/",
          "height": 156
        },
        "outputId": "3b501d96-5590-4ad5-c871-4ab8673df5d0"
      },
      "source": [
        "import os\n",
        "from google.colab import drive\n",
        "drive.mount('/content/gdrive',force_remount=True)\n",
        "!pwd\n",
        "os.chdir('gdrive/My Drive/Colab Notebooks/')\n",
        "!pwd"
      ],
      "execution_count": null,
      "outputs": [
        {
          "output_type": "stream",
          "text": [
            "Go to this URL in a browser: https://accounts.google.com/o/oauth2/auth?client_id=947318989803-6bn6qk8qdgf4n4g3pfee6491hc0brc4i.apps.googleusercontent.com&redirect_uri=urn%3aietf%3awg%3aoauth%3a2.0%3aoob&scope=email%20https%3a%2f%2fwww.googleapis.com%2fauth%2fdocs.test%20https%3a%2f%2fwww.googleapis.com%2fauth%2fdrive%20https%3a%2f%2fwww.googleapis.com%2fauth%2fdrive.photos.readonly%20https%3a%2f%2fwww.googleapis.com%2fauth%2fpeopleapi.readonly&response_type=code\n",
            "\n",
            "Enter your authorization code:\n",
            "··········\n",
            "Mounted at /content/gdrive\n",
            "/content\n",
            "/content/gdrive/My Drive/Colab Notebooks\n"
          ],
          "name": "stdout"
        }
      ]
    },
    {
      "cell_type": "code",
      "metadata": {
        "id": "5BPrhAcWBKm5",
        "colab_type": "code",
        "colab": {}
      },
      "source": [
        "df = pd.read_csv(\"review_complexity.csv\", encoding = 'latin-1')"
      ],
      "execution_count": null,
      "outputs": []
    },
    {
      "cell_type": "code",
      "metadata": {
        "id": "fRV3qh8DvKHN",
        "colab_type": "code",
        "colab": {
          "base_uri": "https://localhost:8080/",
          "height": 34
        },
        "outputId": "0dbef822-9f3f-4a93-c8cf-acd1a6b6680d"
      },
      "source": [
        "# DROP DUPLICATES\n",
        "df.drop_duplicates(subset=['text'], keep='first',inplace=True)\n",
        "df.shape"
      ],
      "execution_count": null,
      "outputs": [
        {
          "output_type": "execute_result",
          "data": {
            "text/plain": [
              "(358081, 9)"
            ]
          },
          "metadata": {
            "tags": []
          },
          "execution_count": 5
        }
      ]
    },
    {
      "cell_type": "code",
      "metadata": {
        "id": "YnIVZaxZBf6L",
        "colab_type": "code",
        "colab": {
          "base_uri": "https://localhost:8080/",
          "height": 359
        },
        "outputId": "f2fa65a0-3a18-4dcc-f65e-87533142db2f"
      },
      "source": [
        "# \"-1\" label: Fake / \"1\" label: Real\n",
        "df.head(10)"
      ],
      "execution_count": null,
      "outputs": [
        {
          "output_type": "execute_result",
          "data": {
            "text/html": [
              "<div>\n",
              "<style scoped>\n",
              "    .dataframe tbody tr th:only-of-type {\n",
              "        vertical-align: middle;\n",
              "    }\n",
              "\n",
              "    .dataframe tbody tr th {\n",
              "        vertical-align: top;\n",
              "    }\n",
              "\n",
              "    .dataframe thead th {\n",
              "        text-align: right;\n",
              "    }\n",
              "</style>\n",
              "<table border=\"1\" class=\"dataframe\">\n",
              "  <thead>\n",
              "    <tr style=\"text-align: right;\">\n",
              "      <th></th>\n",
              "      <th>user_id</th>\n",
              "      <th>prod_id</th>\n",
              "      <th>date</th>\n",
              "      <th>text</th>\n",
              "      <th>rating</th>\n",
              "      <th>label</th>\n",
              "      <th>length</th>\n",
              "      <th>words</th>\n",
              "      <th>complexity</th>\n",
              "    </tr>\n",
              "  </thead>\n",
              "  <tbody>\n",
              "    <tr>\n",
              "      <th>0</th>\n",
              "      <td>923</td>\n",
              "      <td>0</td>\n",
              "      <td>2014-12-08</td>\n",
              "      <td>The food at snack is a selection of popular Gr...</td>\n",
              "      <td>3.0</td>\n",
              "      <td>-1</td>\n",
              "      <td>40.0</td>\n",
              "      <td>['the', 'food', 'at', 'snack', 'be', 'a', 'sel...</td>\n",
              "      <td>30.0</td>\n",
              "    </tr>\n",
              "    <tr>\n",
              "      <th>1</th>\n",
              "      <td>924</td>\n",
              "      <td>0</td>\n",
              "      <td>2013-05-16</td>\n",
              "      <td>This little place in Soho is wonderful. I had ...</td>\n",
              "      <td>3.0</td>\n",
              "      <td>-1</td>\n",
              "      <td>52.0</td>\n",
              "      <td>['this', 'little', 'place', 'in', 'soho', 'be'...</td>\n",
              "      <td>41.0</td>\n",
              "    </tr>\n",
              "    <tr>\n",
              "      <th>2</th>\n",
              "      <td>925</td>\n",
              "      <td>0</td>\n",
              "      <td>2013-07-01</td>\n",
              "      <td>ordered lunch for 15 from Snack last Friday. Â...</td>\n",
              "      <td>4.0</td>\n",
              "      <td>-1</td>\n",
              "      <td>32.0</td>\n",
              "      <td>['order', 'lunch', 'for', 'from', 'snack', 'la...</td>\n",
              "      <td>29.0</td>\n",
              "    </tr>\n",
              "    <tr>\n",
              "      <th>3</th>\n",
              "      <td>926</td>\n",
              "      <td>0</td>\n",
              "      <td>2011-07-28</td>\n",
              "      <td>This is a beautiful quaint little restaurant o...</td>\n",
              "      <td>4.0</td>\n",
              "      <td>-1</td>\n",
              "      <td>90.0</td>\n",
              "      <td>['this', 'be', 'a', 'beautiful', 'quaint', 'li...</td>\n",
              "      <td>63.0</td>\n",
              "    </tr>\n",
              "    <tr>\n",
              "      <th>4</th>\n",
              "      <td>927</td>\n",
              "      <td>0</td>\n",
              "      <td>2010-11-01</td>\n",
              "      <td>Snack is great place for a Â casual sit down l...</td>\n",
              "      <td>4.0</td>\n",
              "      <td>-1</td>\n",
              "      <td>102.0</td>\n",
              "      <td>['snack', 'be', 'great', 'place', 'for', 'a', ...</td>\n",
              "      <td>81.0</td>\n",
              "    </tr>\n",
              "    <tr>\n",
              "      <th>5</th>\n",
              "      <td>928</td>\n",
              "      <td>0</td>\n",
              "      <td>2009-09-02</td>\n",
              "      <td>A solid 4 stars for this greek food spot. Â If...</td>\n",
              "      <td>4.0</td>\n",
              "      <td>-1</td>\n",
              "      <td>41.0</td>\n",
              "      <td>['a', 'solid', 'star', 'for', 'this', 'greek',...</td>\n",
              "      <td>34.0</td>\n",
              "    </tr>\n",
              "    <tr>\n",
              "      <th>6</th>\n",
              "      <td>929</td>\n",
              "      <td>0</td>\n",
              "      <td>2009-08-25</td>\n",
              "      <td>Let me start with a shout-out to everyone who ...</td>\n",
              "      <td>4.0</td>\n",
              "      <td>-1</td>\n",
              "      <td>133.0</td>\n",
              "      <td>['let', 'me', 'start', 'with', 'a', 'shout', '...</td>\n",
              "      <td>98.0</td>\n",
              "    </tr>\n",
              "    <tr>\n",
              "      <th>7</th>\n",
              "      <td>930</td>\n",
              "      <td>0</td>\n",
              "      <td>2007-05-20</td>\n",
              "      <td>Love this place! Â Try the Chicken sandwich or...</td>\n",
              "      <td>4.0</td>\n",
              "      <td>-1</td>\n",
              "      <td>22.0</td>\n",
              "      <td>['love', 'this', 'place', 'try', 'the', 'chick...</td>\n",
              "      <td>19.0</td>\n",
              "    </tr>\n",
              "    <tr>\n",
              "      <th>8</th>\n",
              "      <td>931</td>\n",
              "      <td>0</td>\n",
              "      <td>2005-12-27</td>\n",
              "      <td>My friend and I were intrigued by the nightly ...</td>\n",
              "      <td>4.0</td>\n",
              "      <td>-1</td>\n",
              "      <td>104.0</td>\n",
              "      <td>['my', 'friend', 'and', 'i', 'be', 'intrigue',...</td>\n",
              "      <td>68.0</td>\n",
              "    </tr>\n",
              "    <tr>\n",
              "      <th>9</th>\n",
              "      <td>932</td>\n",
              "      <td>0</td>\n",
              "      <td>2014-05-09</td>\n",
              "      <td>Stopped in for lunch today and couldn't believ...</td>\n",
              "      <td>5.0</td>\n",
              "      <td>-1</td>\n",
              "      <td>45.0</td>\n",
              "      <td>['stop', 'in', 'for', 'lunch', 'today', 'and',...</td>\n",
              "      <td>41.0</td>\n",
              "    </tr>\n",
              "  </tbody>\n",
              "</table>\n",
              "</div>"
            ],
            "text/plain": [
              "   user_id  ...  complexity\n",
              "0      923  ...        30.0\n",
              "1      924  ...        41.0\n",
              "2      925  ...        29.0\n",
              "3      926  ...        63.0\n",
              "4      927  ...        81.0\n",
              "5      928  ...        34.0\n",
              "6      929  ...        98.0\n",
              "7      930  ...        19.0\n",
              "8      931  ...        68.0\n",
              "9      932  ...        41.0\n",
              "\n",
              "[10 rows x 9 columns]"
            ]
          },
          "metadata": {
            "tags": []
          },
          "execution_count": 6
        }
      ]
    },
    {
      "cell_type": "code",
      "metadata": {
        "id": "OJ6kQJxxF8u-",
        "colab_type": "code",
        "colab": {
          "base_uri": "https://localhost:8080/",
          "height": 289
        },
        "outputId": "16914c2d-6cf3-4a31-d325-f1d8894daeaa"
      },
      "source": [
        "df.info()"
      ],
      "execution_count": null,
      "outputs": [
        {
          "output_type": "stream",
          "text": [
            "<class 'pandas.core.frame.DataFrame'>\n",
            "Int64Index: 358081 entries, 0 to 358957\n",
            "Data columns (total 9 columns):\n",
            " #   Column      Non-Null Count   Dtype  \n",
            "---  ------      --------------   -----  \n",
            " 0   user_id     358081 non-null  int64  \n",
            " 1   prod_id     358081 non-null  int64  \n",
            " 2   date        358081 non-null  object \n",
            " 3   text        358080 non-null  object \n",
            " 4   rating      358081 non-null  float64\n",
            " 5   label       358081 non-null  int64  \n",
            " 6   length      358080 non-null  float64\n",
            " 7   words       358080 non-null  object \n",
            " 8   complexity  358080 non-null  float64\n",
            "dtypes: float64(3), int64(3), object(3)\n",
            "memory usage: 27.3+ MB\n"
          ],
          "name": "stdout"
        }
      ]
    },
    {
      "cell_type": "code",
      "metadata": {
        "id": "ZvEv9tQR6IsI",
        "colab_type": "code",
        "colab": {
          "base_uri": "https://localhost:8080/",
          "height": 34
        },
        "outputId": "040a9b85-a4cc-4f94-e251-35e6bceca36b"
      },
      "source": [
        "df.shape"
      ],
      "execution_count": null,
      "outputs": [
        {
          "output_type": "execute_result",
          "data": {
            "text/plain": [
              "(358081, 9)"
            ]
          },
          "metadata": {
            "tags": []
          },
          "execution_count": 8
        }
      ]
    },
    {
      "cell_type": "code",
      "metadata": {
        "id": "jVpOcc-B8SQJ",
        "colab_type": "code",
        "colab": {}
      },
      "source": [
        "# df = df[:10000]\n",
        "# df.reset_index(inplace=True)"
      ],
      "execution_count": null,
      "outputs": []
    },
    {
      "cell_type": "code",
      "metadata": {
        "id": "Jatyq6oSELhD",
        "colab_type": "code",
        "colab": {}
      },
      "source": [
        "STOPWORDS = stopwords.words('english')\n",
        "STOPWORDS.extend(['rt', 'http']) # extend stopwords; rt means re-tweet\n",
        "STOPWORDS = set(STOPWORDS)"
      ],
      "execution_count": null,
      "outputs": []
    },
    {
      "cell_type": "code",
      "metadata": {
        "id": "FsP2fNuGhCUs",
        "colab_type": "code",
        "colab": {}
      },
      "source": [
        "def tokenization(text):\n",
        "    text = str(text)\n",
        "    word = text.split()\n",
        "    return word\n",
        "df['text'] = df['text'].apply(tokenization)"
      ],
      "execution_count": null,
      "outputs": []
    },
    {
      "cell_type": "code",
      "metadata": {
        "id": "dI_xeOlGUVVk",
        "colab_type": "code",
        "colab": {}
      },
      "source": [
        "def lowercase(word):\n",
        "    new_word = list()\n",
        "    for i in word:\n",
        "        i = i.lower()\n",
        "        new_word.append(i)\n",
        "    return new_word\n",
        "df['text'] = df['text'].apply(lowercase)"
      ],
      "execution_count": null,
      "outputs": []
    },
    {
      "cell_type": "code",
      "metadata": {
        "id": "6Xd8ejWgUZLO",
        "colab_type": "code",
        "colab": {}
      },
      "source": [
        "import string as s\n",
        "\n",
        "def remove_punctuations(word):\n",
        "    new_word = list() \n",
        "    for i in word:\n",
        "        for j in s.punctuation:\n",
        "            i = i.replace(j,'')\n",
        "        new_word.append(i)\n",
        "    return new_word\n",
        "df['text'] = df['text'].apply(remove_punctuations)"
      ],
      "execution_count": null,
      "outputs": []
    },
    {
      "cell_type": "code",
      "metadata": {
        "id": "kAA_evyiUcD6",
        "colab_type": "code",
        "colab": {}
      },
      "source": [
        "def remove_stopwords(word):\n",
        "    # to_remove = ['but','no', 'not','isn']\n",
        "    # stop_words_ = set(stopwords.words('english')).difference(to_remove)\n",
        "    stop_words_ = ['i', 'me', 'my', 'myself', 'we', 'our', 'ours', 'ourselves', 'you', \"you're\",\n",
        "                 \"you've\", \"you'll\", \"you'd\", 'your', 'yours', 'yourself', 'yourselves', 'he',\n",
        "                 'him', 'his', 'himself', 'she', \"she's\", 'her', 'hers', 'herself', 'it', \"it's\",\n",
        "                 'its', 'itself', 'they', 'them', 'their', 'theirs', 'themselves', 'what', 'which',\n",
        "                 'who', 'whom', 'this', 'that', \"that'll\", 'these', 'those', 'am', 'is', 'are', 'was',\n",
        "                 'were', 'be', 'been', 'being', 'have', 'has', 'had', 'having', 'do', 'does', 'did', 'doing',\n",
        "                 'a', 'an', 'the', 'if', 'or', 'because', 'as', 'until', 'while', 'of', 'at', 'by',\n",
        "                 'for', 'with', 'about', 'against', 'between', 'into', 'through', 'during', 'before', 'after', 'above',\n",
        "                 'below', 'to', 'from', 'up', 'down', 'in', 'out', 'on', 'off', 'over', 'under', 'again', 'further',\n",
        "                 'once', 'here', 'there', 'when', 'where', 'why', 'how', 'all', 'any', 'both', 'each',\n",
        "                 'more', 'most', 'other', 'some', 'such', 'only', 'own', 'same', 'so', 'than',\n",
        "                 'too', 'very', 's', 't', 'can', 'will', 'just', 'should', \"should've\", 'now', 'd', 'll', 'm',\n",
        "                 'o', 're', 've', 'y']\n",
        "    new_word = list()\n",
        "    for i in word:\n",
        "        if i not in stop_words_:\n",
        "            new_word.append(i)\n",
        "    return new_word\n",
        "\n",
        "df['text'] = df['text'].apply(remove_stopwords)"
      ],
      "execution_count": null,
      "outputs": []
    },
    {
      "cell_type": "code",
      "metadata": {
        "id": "5GvOnapIVxdo",
        "colab_type": "code",
        "colab": {}
      },
      "source": [
        "def remove_numbers(word):\n",
        "    no_num_word = list()\n",
        "    new_word = list()\n",
        "    for i in word:\n",
        "        for j in s.digits:    \n",
        "            i = i.replace(j,'')\n",
        "        no_num_word.append(i)\n",
        "    for i in no_num_word:\n",
        "        if i!='':\n",
        "            new_word.append(i)\n",
        "    return new_word\n",
        "df['text'] = df['text'].apply(remove_numbers)"
      ],
      "execution_count": null,
      "outputs": []
    },
    {
      "cell_type": "code",
      "metadata": {
        "id": "_sD6_fzCV0As",
        "colab_type": "code",
        "colab": {}
      },
      "source": [
        "def remove_spaces(word):\n",
        "    new_word = list()\n",
        "    for i in word:\n",
        "        i = i.strip()\n",
        "        new_word.append(i)\n",
        "    return new_word\n",
        "df['text'] = df['text'].apply(remove_spaces)"
      ],
      "execution_count": null,
      "outputs": []
    },
    {
      "cell_type": "code",
      "metadata": {
        "id": "nwYsCxP4V3RC",
        "colab_type": "code",
        "colab": {}
      },
      "source": [
        "df['text'] = df['text'].apply(lambda x: ''.join(i+' ' for i in x))"
      ],
      "execution_count": null,
      "outputs": []
    },
    {
      "cell_type": "code",
      "metadata": {
        "id": "n7GBnC3IV5r_",
        "colab_type": "code",
        "colab": {}
      },
      "source": [
        "# change these to periods (nltk tokenizer uses periods to tokenize)\n",
        "# and we really want to tokenize the hell out of the text\n",
        "contra_words = ['however ','but ','although','nevertheless']\n",
        "df['text'] = df['text'].str.replace('|'.join(contra_words), '. ')\n",
        "# remove the words associated for when google translated a review\n",
        "translated_terms = ['(translated google)', '(original)',\n",
        "                    'translated by google''translate by google']\n",
        "df['text'] = df['text'].str.replace('|'.join(translated_terms), ' ')"
      ],
      "execution_count": null,
      "outputs": []
    },
    {
      "cell_type": "code",
      "metadata": {
        "id": "MD8k4pZKV-Uo",
        "colab_type": "code",
        "colab": {}
      },
      "source": [
        "# replace punctuation with period\n",
        "df['text'] = df['text'].apply(lambda x: re.sub('[^\\w\\s]', '. ', x))"
      ],
      "execution_count": null,
      "outputs": []
    },
    {
      "cell_type": "code",
      "metadata": {
        "id": "NB9qg7bZV_gU",
        "colab_type": "code",
        "colab": {}
      },
      "source": [
        "# remove more than one space\n",
        "df.text = df.text.replace('\\s+', ' ', regex=True)"
      ],
      "execution_count": null,
      "outputs": []
    },
    {
      "cell_type": "code",
      "metadata": {
        "id": "v-Gjys-TWCPu",
        "colab_type": "code",
        "colab": {}
      },
      "source": [
        "# remove all single characters\n",
        "df['text'] = df['text'].apply(lambda x: re.sub(r'\\s+[a-zA-Z]\\s+', ' ', x))"
      ],
      "execution_count": null,
      "outputs": []
    },
    {
      "cell_type": "code",
      "metadata": {
        "id": "VmR4kV5CWC-q",
        "colab_type": "code",
        "colab": {}
      },
      "source": [
        "# remove non ascii (non english words)\n",
        "def remove_non_ascii(text):\n",
        "    return ''.join([i if ord(i) < 128 else ' ' for i in text])\n",
        "df['text'] = df['text'].apply(remove_non_ascii)"
      ],
      "execution_count": null,
      "outputs": []
    },
    {
      "cell_type": "code",
      "metadata": {
        "id": "Qlgd-o1SWFgH",
        "colab_type": "code",
        "colab": {}
      },
      "source": [
        "def tokenize_eng_text(col):\n",
        "   col = nltk.sent_tokenize(col)\n",
        "   # col = ' '.join(col)\n",
        "  #  print(col)\n",
        "   return col\n",
        "df['text'] = df['text'].apply(tokenize_eng_text)\n",
        "# now remove periods (nltk tokenizes with periods)\n",
        "df['text'] = df['text'].apply(lambda x: [y.replace('.', '') for y in x])"
      ],
      "execution_count": null,
      "outputs": []
    },
    {
      "cell_type": "code",
      "metadata": {
        "id": "VbIkWN93YkaZ",
        "colab_type": "code",
        "colab": {
          "base_uri": "https://localhost:8080/"
        },
        "outputId": "1b0b9889-5de3-4b31-8086-dcbb79e914ba"
      },
      "source": [
        "# explode dataframe using tokenized list\n",
        "# create df to explode\n",
        "df.reset_index(drop=True,inplace=True)\n",
        "df['extra_id'] = df.index\n",
        "dfe = df[['extra_id','text']]\n",
        "print('exploding text')\n",
        "dfe = dfe.explode('text')\n",
        "print(dfe)\n",
        "# clean up for outputting\n",
        "# before merging - erase text columns on df\n",
        "del df['text']\n",
        "# join exploded df to original data\n",
        "df = pd.merge(dfe, df, how='left', on='extra_id')"
      ],
      "execution_count": null,
      "outputs": [
        {
          "output_type": "stream",
          "text": [
            "exploding text\n",
            "        extra_id                                               text\n",
            "0              0  food snack selection popular greek dishes appe...\n",
            "1              1  little place soho wonderful lamb sandwich and ...\n",
            "1              1            then soho staff little snotty and rude \n",
            "1              1          food great dont expect worldclass service\n",
            "2              2  ordered lunch snack last friday   time nothing...\n",
            "...          ...                                                ...\n",
            "358079    358079  appreciate good thin chewy crust love emily sa...\n",
            "358079    358079  even without getting know must get smores calz...\n",
            "358079    358079  one among best and great friendly service welc...\n",
            "358079    358079  atmosphere and service really elevated experie...\n",
            "358080    358080                                                nan\n",
            "\n",
            "[811159 rows x 2 columns]\n"
          ],
          "name": "stdout"
        }
      ]
    },
    {
      "cell_type": "code",
      "metadata": {
        "id": "Z3Y-p0dbWI3x",
        "colab_type": "code",
        "colab": {}
      },
      "source": [
        "# remove more than one space\n",
        "dfe.text = dfe.text.replace('\\s+', ' ', regex=True)\n",
        "dfe = dfe[~pd.isnull(dfe['text'])]"
      ],
      "execution_count": null,
      "outputs": []
    },
    {
      "cell_type": "code",
      "metadata": {
        "id": "_i4TmOxCWQ82",
        "colab_type": "code",
        "colab": {
          "base_uri": "https://localhost:8080/"
        },
        "outputId": "1b2b8777-e326-4ec2-9c45-8d62a592ee0f"
      },
      "source": [
        "df['text'].str.len().hist()"
      ],
      "execution_count": null,
      "outputs": [
        {
          "output_type": "execute_result",
          "data": {
            "text/plain": [
              "<matplotlib.axes._subplots.AxesSubplot at 0x7f55dc8de828>"
            ]
          },
          "metadata": {
            "tags": []
          },
          "execution_count": 26
        },
        {
          "output_type": "display_data",
          "data": {
            "image/png": "[encoded data removed]",
            "text/plain": [
              "<Figure size 432x288 with 1 Axes>"
            ]
          },
          "metadata": {
            "tags": [],
            "needs_background": "light"
          }
        }
      ]
    },
    {
      "cell_type": "code",
      "metadata": {
        "id": "kZHzd2XUdyN8",
        "colab_type": "code",
        "colab": {}
      },
      "source": [
        "df = df[pd.notnull(df['text'])]\n",
        "df = df[df['text'].str.len() < 90]\n",
        "df = df[df['text'].str.len() > 3]"
      ],
      "execution_count": null,
      "outputs": []
    },
    {
      "cell_type": "code",
      "metadata": {
        "id": "W4d6u6LBY4BD",
        "colab_type": "code",
        "colab": {
          "base_uri": "https://localhost:8080/"
        },
        "outputId": "03bb17c1-c8b1-4c70-e762-e5856fa3d00b"
      },
      "source": [
        "df.head()"
      ],
      "execution_count": null,
      "outputs": [
        {
          "output_type": "execute_result",
          "data": {
            "text/html": [
              "<div>\n",
              "<style scoped>\n",
              "    .dataframe tbody tr th:only-of-type {\n",
              "        vertical-align: middle;\n",
              "    }\n",
              "\n",
              "    .dataframe tbody tr th {\n",
              "        vertical-align: top;\n",
              "    }\n",
              "\n",
              "    .dataframe thead th {\n",
              "        text-align: right;\n",
              "    }\n",
              "</style>\n",
              "<table border=\"1\" class=\"dataframe\">\n",
              "  <thead>\n",
              "    <tr style=\"text-align: right;\">\n",
              "      <th></th>\n",
              "      <th>extra_id</th>\n",
              "      <th>text</th>\n",
              "      <th>user_id</th>\n",
              "      <th>prod_id</th>\n",
              "      <th>date</th>\n",
              "      <th>rating</th>\n",
              "      <th>label</th>\n",
              "      <th>length</th>\n",
              "      <th>words</th>\n",
              "      <th>complexity</th>\n",
              "    </tr>\n",
              "  </thead>\n",
              "  <tbody>\n",
              "    <tr>\n",
              "      <th>1</th>\n",
              "      <td>1</td>\n",
              "      <td>little place soho wonderful lamb sandwich and ...</td>\n",
              "      <td>924</td>\n",
              "      <td>0</td>\n",
              "      <td>2013-05-16</td>\n",
              "      <td>3.0</td>\n",
              "      <td>-1</td>\n",
              "      <td>52.0</td>\n",
              "      <td>['this', 'little', 'place', 'in', 'soho', 'be'...</td>\n",
              "      <td>41.0</td>\n",
              "    </tr>\n",
              "    <tr>\n",
              "      <th>2</th>\n",
              "      <td>1</td>\n",
              "      <td>then soho staff little snotty and rude</td>\n",
              "      <td>924</td>\n",
              "      <td>0</td>\n",
              "      <td>2013-05-16</td>\n",
              "      <td>3.0</td>\n",
              "      <td>-1</td>\n",
              "      <td>52.0</td>\n",
              "      <td>['this', 'little', 'place', 'in', 'soho', 'be'...</td>\n",
              "      <td>41.0</td>\n",
              "    </tr>\n",
              "    <tr>\n",
              "      <th>3</th>\n",
              "      <td>1</td>\n",
              "      <td>food great dont expect worldclass service</td>\n",
              "      <td>924</td>\n",
              "      <td>0</td>\n",
              "      <td>2013-05-16</td>\n",
              "      <td>3.0</td>\n",
              "      <td>-1</td>\n",
              "      <td>52.0</td>\n",
              "      <td>['this', 'little', 'place', 'in', 'soho', 'be'...</td>\n",
              "      <td>41.0</td>\n",
              "    </tr>\n",
              "    <tr>\n",
              "      <th>12</th>\n",
              "      <td>8</td>\n",
              "      <td>tiny able stand waited and glass wine narrow b...</td>\n",
              "      <td>931</td>\n",
              "      <td>0</td>\n",
              "      <td>2005-12-27</td>\n",
              "      <td>4.0</td>\n",
              "      <td>-1</td>\n",
              "      <td>104.0</td>\n",
              "      <td>['my', 'friend', 'and', 'i', 'be', 'intrigue',...</td>\n",
              "      <td>68.0</td>\n",
              "    </tr>\n",
              "    <tr>\n",
              "      <th>14</th>\n",
              "      <td>8</td>\n",
              "      <td>cinnamon overpowered flavors friend stuffed to...</td>\n",
              "      <td>931</td>\n",
              "      <td>0</td>\n",
              "      <td>2005-12-27</td>\n",
              "      <td>4.0</td>\n",
              "      <td>-1</td>\n",
              "      <td>104.0</td>\n",
              "      <td>['my', 'friend', 'and', 'i', 'be', 'intrigue',...</td>\n",
              "      <td>68.0</td>\n",
              "    </tr>\n",
              "  </tbody>\n",
              "</table>\n",
              "</div>"
            ],
            "text/plain": [
              "    extra_id  ... complexity\n",
              "1          1  ...       41.0\n",
              "2          1  ...       41.0\n",
              "3          1  ...       41.0\n",
              "12         8  ...       68.0\n",
              "14         8  ...       68.0\n",
              "\n",
              "[5 rows x 10 columns]"
            ]
          },
          "metadata": {
            "tags": []
          },
          "execution_count": 28
        }
      ]
    },
    {
      "cell_type": "code",
      "metadata": {
        "id": "RB_9DfyVZE2t",
        "colab_type": "code",
        "colab": {}
      },
      "source": [
        "df.reset_index(inplace=True)"
      ],
      "execution_count": null,
      "outputs": []
    },
    {
      "cell_type": "code",
      "metadata": {
        "id": "B6o46adTZM7r",
        "colab_type": "code",
        "colab": {}
      },
      "source": [
        "df.drop(['index','extra_id','words'],axis=1, inplace=True)"
      ],
      "execution_count": null,
      "outputs": []
    },
    {
      "cell_type": "code",
      "metadata": {
        "id": "7n6toOmGbuBV",
        "colab_type": "code",
        "colab": {
          "base_uri": "https://localhost:8080/"
        },
        "outputId": "cf3ade04-5f02-4854-b3ad-542b6d97615f"
      },
      "source": [
        "df.head()"
      ],
      "execution_count": null,
      "outputs": [
        {
          "output_type": "execute_result",
          "data": {
            "text/html": [
              "<div>\n",
              "<style scoped>\n",
              "    .dataframe tbody tr th:only-of-type {\n",
              "        vertical-align: middle;\n",
              "    }\n",
              "\n",
              "    .dataframe tbody tr th {\n",
              "        vertical-align: top;\n",
              "    }\n",
              "\n",
              "    .dataframe thead th {\n",
              "        text-align: right;\n",
              "    }\n",
              "</style>\n",
              "<table border=\"1\" class=\"dataframe\">\n",
              "  <thead>\n",
              "    <tr style=\"text-align: right;\">\n",
              "      <th></th>\n",
              "      <th>text</th>\n",
              "      <th>user_id</th>\n",
              "      <th>prod_id</th>\n",
              "      <th>date</th>\n",
              "      <th>rating</th>\n",
              "      <th>label</th>\n",
              "      <th>length</th>\n",
              "      <th>complexity</th>\n",
              "    </tr>\n",
              "  </thead>\n",
              "  <tbody>\n",
              "    <tr>\n",
              "      <th>0</th>\n",
              "      <td>little place soho wonderful lamb sandwich and ...</td>\n",
              "      <td>924</td>\n",
              "      <td>0</td>\n",
              "      <td>2013-05-16</td>\n",
              "      <td>3.0</td>\n",
              "      <td>-1</td>\n",
              "      <td>52.0</td>\n",
              "      <td>41.0</td>\n",
              "    </tr>\n",
              "    <tr>\n",
              "      <th>1</th>\n",
              "      <td>then soho staff little snotty and rude</td>\n",
              "      <td>924</td>\n",
              "      <td>0</td>\n",
              "      <td>2013-05-16</td>\n",
              "      <td>3.0</td>\n",
              "      <td>-1</td>\n",
              "      <td>52.0</td>\n",
              "      <td>41.0</td>\n",
              "    </tr>\n",
              "    <tr>\n",
              "      <th>2</th>\n",
              "      <td>food great dont expect worldclass service</td>\n",
              "      <td>924</td>\n",
              "      <td>0</td>\n",
              "      <td>2013-05-16</td>\n",
              "      <td>3.0</td>\n",
              "      <td>-1</td>\n",
              "      <td>52.0</td>\n",
              "      <td>41.0</td>\n",
              "    </tr>\n",
              "    <tr>\n",
              "      <th>3</th>\n",
              "      <td>tiny able stand waited and glass wine narrow b...</td>\n",
              "      <td>931</td>\n",
              "      <td>0</td>\n",
              "      <td>2005-12-27</td>\n",
              "      <td>4.0</td>\n",
              "      <td>-1</td>\n",
              "      <td>104.0</td>\n",
              "      <td>68.0</td>\n",
              "    </tr>\n",
              "    <tr>\n",
              "      <th>4</th>\n",
              "      <td>cinnamon overpowered flavors friend stuffed to...</td>\n",
              "      <td>931</td>\n",
              "      <td>0</td>\n",
              "      <td>2005-12-27</td>\n",
              "      <td>4.0</td>\n",
              "      <td>-1</td>\n",
              "      <td>104.0</td>\n",
              "      <td>68.0</td>\n",
              "    </tr>\n",
              "  </tbody>\n",
              "</table>\n",
              "</div>"
            ],
            "text/plain": [
              "                                                text  ...  complexity\n",
              "0  little place soho wonderful lamb sandwich and ...  ...        41.0\n",
              "1            then soho staff little snotty and rude   ...        41.0\n",
              "2          food great dont expect worldclass service  ...        41.0\n",
              "3  tiny able stand waited and glass wine narrow b...  ...        68.0\n",
              "4  cinnamon overpowered flavors friend stuffed to...  ...        68.0\n",
              "\n",
              "[5 rows x 8 columns]"
            ]
          },
          "metadata": {
            "tags": []
          },
          "execution_count": 31
        }
      ]
    },
    {
      "cell_type": "code",
      "metadata": {
        "id": "g24W-Atk_ZUQ",
        "colab_type": "code",
        "colab": {
          "base_uri": "https://localhost:8080/"
        },
        "outputId": "4dca0384-68f7-4a01-bf9c-8d73dfa2c4d1"
      },
      "source": [
        "df[\"num_words\"] = df[\"text\"].apply(lambda s: len(re.findall(r'\\w+', s))) # Count the number of words in the message\n",
        "df[\"message_len\"] = df[\"text\"].apply(len) # get the length of the text message\n",
        "\n",
        "f,ax = plt.subplots(figsize=(16,10))\n",
        "sns.kdeplot(df.loc[df.label == -1, \"message_len\"], shade=True, label=\"Fake\")\n",
        "sns.kdeplot(df.loc[df.label == 1, \"message_len\"], shade=True, label=\"Real\", clip=(0, 250)) ## removing observations with message length above 250 because there is an outlier\n",
        "ax.set(xlabel = \"Message length\", ylabel = \"Density\",title = \"Real messages have more words than Fake messages\")\n",
        "plt.show()"
      ],
      "execution_count": null,
      "outputs": [
        {
          "output_type": "display_data",
          "data": {
            "image/png": "[encoded data removed]",
            "text/plain": [
              "<Figure size 1152x720 with 1 Axes>"
            ]
          },
          "metadata": {
            "tags": [],
            "needs_background": "light"
          }
        }
      ]
    },
    {
      "cell_type": "code",
      "metadata": {
        "id": "djaOlH2s_1Z9",
        "colab_type": "code",
        "colab": {
          "base_uri": "https://localhost:8080/",
          "height": 621
        },
        "outputId": "7b84b993-2ae8-413e-a899-9fdf9a3bb6eb"
      },
      "source": [
        "f,ax = plt.subplots(figsize=(16,10))\n",
        "sns.kdeplot(df.loc[df.label == -1, \"num_words\"], shade=True, label=\"Fake\")\n",
        "sns.kdeplot(df.loc[df.label == 1, \"num_words\"], shade=True, label=\"Real\", clip=(0, 35)) # removing observations with message length above 35 because there is an outlier\n",
        "ax.set(xlabel = \"Number of words\", ylabel = \"Density\",title = \"Real messages have more words than fake messages\")\n",
        "plt.show()"
      ],
      "execution_count": null,
      "outputs": [
        {
          "output_type": "display_data",
          "data": {
            "image/png": "[encoded data removed]",
            "text/plain": [
              "<Figure size 1152x720 with 1 Axes>"
            ]
          },
          "metadata": {
            "tags": [],
            "needs_background": "light"
          }
        }
      ]
    },
    {
      "cell_type": "code",
      "metadata": {
        "id": "Qcqckeg4_s-t",
        "colab_type": "code",
        "colab": {}
      },
      "source": [
        "# Change the labels\n",
        "df.loc[(df['label'] == -1) , ['label']] = 'FAKE'\n",
        "df.loc[(df['label'] == 1) , ['label']] = 'REAL'"
      ],
      "execution_count": null,
      "outputs": []
    },
    {
      "cell_type": "code",
      "metadata": {
        "id": "jrIQQn0Q_yPO",
        "colab_type": "code",
        "colab": {
          "base_uri": "https://localhost:8080/",
          "height": 119
        },
        "outputId": "3dd108ef-3ba8-4633-e886-8cf65d03fd79"
      },
      "source": [
        "# Isolate the labels\n",
        "labels = df.label\n",
        "labels.head()"
      ],
      "execution_count": null,
      "outputs": [
        {
          "output_type": "execute_result",
          "data": {
            "text/plain": [
              "0    FAKE\n",
              "1    FAKE\n",
              "2    FAKE\n",
              "3    FAKE\n",
              "4    FAKE\n",
              "Name: label, dtype: object"
            ]
          },
          "metadata": {
            "tags": []
          },
          "execution_count": 35
        }
      ]
    },
    {
      "cell_type": "code",
      "metadata": {
        "id": "Tzo5SE1d_wP9",
        "colab_type": "code",
        "colab": {
          "base_uri": "https://localhost:8080/",
          "height": 68
        },
        "outputId": "7190c18d-c12a-40d1-d46f-ca177a76f433"
      },
      "source": [
        "df.label.value_counts()"
      ],
      "execution_count": null,
      "outputs": [
        {
          "output_type": "execute_result",
          "data": {
            "text/plain": [
              "REAL    248134\n",
              "FAKE     26009\n",
              "Name: label, dtype: int64"
            ]
          },
          "metadata": {
            "tags": []
          },
          "execution_count": 36
        }
      ]
    },
    {
      "cell_type": "code",
      "metadata": {
        "id": "yq6yrrFc_usW",
        "colab_type": "code",
        "colab": {
          "base_uri": "https://localhost:8080/",
          "height": 295
        },
        "outputId": "689bf4fa-b35d-4902-859b-a6ab56722b1b"
      },
      "source": [
        "df.groupby('label').text.count().plot.bar(ylim=0)\n",
        "plt.show()"
      ],
      "execution_count": null,
      "outputs": [
        {
          "output_type": "display_data",
          "data": {
            "image/png": "[encoded data removed]",
            "text/plain": [
              "<Figure size 432x288 with 1 Axes>"
            ]
          },
          "metadata": {
            "tags": [],
            "needs_background": "light"
          }
        }
      ]
    },
    {
      "cell_type": "markdown",
      "metadata": {
        "id": "C5t1Z4A0AsRs",
        "colab_type": "text"
      },
      "source": [
        "# make equal number of each label\n",
        "[Reference1](https://elitedatascience.com/imbalanced-classes) <br>\n",
        "[Reference2](https://www.analyticsvidhya.com/blog/2020/07/10-techniques-to-deal-with-class-imbalance-in-machine-learning/)\n",
        "\n",
        "![unbalanced](https://cdn-images-1.medium.com/max/1000/1*P93SeDGPGw0MhwvCcvVcXA.png)"
      ]
    },
    {
      "cell_type": "markdown",
      "metadata": {
        "id": "4u2fi04wBTYc",
        "colab_type": "text"
      },
      "source": [
        "There are also other methods such as Create Synthetic Samples (Data Augmentation), Combine Minority Classes, and Reframe as Anomaly Detection."
      ]
    },
    {
      "cell_type": "markdown",
      "metadata": {
        "id": "KkYMMX8OA-9Y",
        "colab_type": "text"
      },
      "source": [
        "We can penalize Algorithms (Cost-Sensitive Training)\n",
        "\n",
        "Here is an example below.\n",
        "```python\n",
        "clf_3 = SVC(kernel='linear', \n",
        "            class_weight='balanced', # penalize\n",
        "            probability=True)\n",
        "```  "
      ]
    },
    {
      "cell_type": "code",
      "metadata": {
        "id": "wKFbU4jU_VnW",
        "colab_type": "code",
        "colab": {
          "base_uri": "https://localhost:8080/",
          "height": 68
        },
        "outputId": "da14bf1b-3901-4cf5-84fa-a16b2eeb57bc"
      },
      "source": [
        "size = 100000 # sample size\n",
        "replace = True # with replacement (if you want it to select same row again)\n",
        "fn = lambda obj: obj.loc[np.random.choice(obj.index, size, replace),:]\n",
        "df = df.groupby('label', as_index=False).apply(fn)\n",
        "print(df['label'].value_counts())"
      ],
      "execution_count": null,
      "outputs": [
        {
          "output_type": "stream",
          "text": [
            "FAKE    100000\n",
            "REAL    100000\n",
            "Name: label, dtype: int64\n"
          ],
          "name": "stdout"
        }
      ]
    },
    {
      "cell_type": "code",
      "metadata": {
        "id": "qnPZ683ieTea",
        "colab_type": "code",
        "colab": {
          "base_uri": "https://localhost:8080/",
          "height": 281
        },
        "outputId": "7a8ec88e-048c-40a8-ee35-5547a3bbdef7"
      },
      "source": [
        "my_labels = ['FAKE','REAL']\n",
        "plt.figure(figsize=(10,4))\n",
        "df.label.value_counts().plot(kind='bar');"
      ],
      "execution_count": null,
      "outputs": [
        {
          "output_type": "display_data",
          "data": {
            "image/png": "[encoded data removed]",
            "text/plain": [
              "<Figure size 720x288 with 1 Axes>"
            ]
          },
          "metadata": {
            "tags": [],
            "needs_background": "light"
          }
        }
      ]
    },
    {
      "cell_type": "code",
      "metadata": {
        "id": "K64_67xhphAD",
        "colab_type": "code",
        "colab": {}
      },
      "source": [
        "# Stopwords\n",
        "stopwords = STOPWORDS\n",
        "stopwords = list(stopwords)\n",
        "STOPWORDS = nltk.corpus.stopwords.words('english')\n",
        "stopwords = stopwords + STOPWORDS"
      ],
      "execution_count": null,
      "outputs": []
    },
    {
      "cell_type": "code",
      "metadata": {
        "id": "Ge_W99kaqqHE",
        "colab_type": "code",
        "colab": {
          "base_uri": "https://localhost:8080/",
          "height": 374
        },
        "outputId": "881da953-ac24-4d71-a317-c6903a428424"
      },
      "source": [
        "df_labels = df['label']\n",
        "df_labels.head(20)"
      ],
      "execution_count": null,
      "outputs": [
        {
          "output_type": "execute_result",
          "data": {
            "text/plain": [
              "0  172712    FAKE\n",
              "   3345      FAKE\n",
              "   9557      FAKE\n",
              "   138662    FAKE\n",
              "   1220      FAKE\n",
              "   210520    FAKE\n",
              "   13344     FAKE\n",
              "   170516    FAKE\n",
              "   114955    FAKE\n",
              "   145072    FAKE\n",
              "   228103    FAKE\n",
              "   56853     FAKE\n",
              "   159774    FAKE\n",
              "   134749    FAKE\n",
              "   113476    FAKE\n",
              "   195578    FAKE\n",
              "   109886    FAKE\n",
              "   84751     FAKE\n",
              "   260137    FAKE\n",
              "   251949    FAKE\n",
              "Name: label, dtype: object"
            ]
          },
          "metadata": {
            "tags": []
          },
          "execution_count": 41
        }
      ]
    },
    {
      "cell_type": "code",
      "metadata": {
        "id": "J3ix_sAHqseb",
        "colab_type": "code",
        "colab": {}
      },
      "source": [
        "fake_dataset = df[df.label == 'FAKE']\n",
        "real_dataset = df[df.label == 'REAL']\n",
        "fake_words = ' '\n",
        "real_words = ' '"
      ],
      "execution_count": null,
      "outputs": []
    },
    {
      "cell_type": "code",
      "metadata": {
        "id": "M6Of11ur7IvJ",
        "colab_type": "code",
        "colab": {}
      },
      "source": [
        "# for words in fake_dataset.text:\n",
        "#   tokens = nltk.word_tokenize(words)\n",
        "#   for word in tokens:\n",
        "#     fake_words = fake_words + word + \" \""
      ],
      "execution_count": null,
      "outputs": []
    },
    {
      "cell_type": "code",
      "metadata": {
        "id": "5MxmuQEd5mOf",
        "colab_type": "code",
        "colab": {}
      },
      "source": [
        "# for words in real_dataset.text:\n",
        "#   tokens = nltk.word_tokenize(words)\n",
        "#   for word in tokens:\n",
        "#     real_words = real_words + word + \" \""
      ],
      "execution_count": null,
      "outputs": []
    },
    {
      "cell_type": "code",
      "metadata": {
        "id": "J0yd4_EFqxwX",
        "colab_type": "code",
        "colab": {}
      },
      "source": [
        "# def gen_wordcloud(wordcloud):\n",
        "#     plt.figure(figsize = (10,8))\n",
        "#     plt.imshow(wordcloud)\n",
        "#     plt.tight_layout(pad=0)\n",
        "#     plt.axis('off')\n",
        "#     plt.show()"
      ],
      "execution_count": null,
      "outputs": []
    },
    {
      "cell_type": "code",
      "metadata": {
        "id": "G962LyC9qzhs",
        "colab_type": "code",
        "colab": {}
      },
      "source": [
        "# print(\"\\t\\t\\t\\t Fake WORDS\")    \n",
        "# wordcloud = WordCloud(background_color = 'white', width = 500, height = 500, stopwords = stopwords,\n",
        "#                      max_words = 500, max_font_size = 50, random_state = 42).generate(fake_words)\n",
        "# gen_wordcloud(wordcloud)"
      ],
      "execution_count": null,
      "outputs": []
    },
    {
      "cell_type": "code",
      "metadata": {
        "id": "ojfWUG71ru5x",
        "colab_type": "code",
        "colab": {}
      },
      "source": [
        "# print(\"\\t\\t\\t\\t Real WORDS\")\n",
        "# wordcloud = WordCloud(background_color = 'white', width = 500, height = 500, stopwords = stopwords,\n",
        "#                      max_words = 500, max_font_size = 50, random_state = 42).generate(real_words)\n",
        "# gen_wordcloud(wordcloud)"
      ],
      "execution_count": null,
      "outputs": []
    },
    {
      "cell_type": "code",
      "metadata": {
        "id": "568YgAMI7QvC",
        "colab_type": "code",
        "colab": {
          "base_uri": "https://localhost:8080/",
          "height": 248
        },
        "outputId": "2f13e248-fc33-4d36-dcd1-9488bb9d4b89"
      },
      "source": [
        "count_Class = pd.value_counts(df.label, sort = True)\n",
        "\n",
        "# Data to Plot\n",
        "labels = 'Fake', 'Real'\n",
        "sizes = [count_Class[0], count_Class[1]]\n",
        "colors = ['lightskyblue', 'aqua']\n",
        "explode = (0.1, 0.1)\n",
        "\n",
        "# Plot\n",
        "plt.pie(sizes, explode = explode, labels = labels, colors = colors,\n",
        "        autopct = '%1.1f%%', shadow = True, startangle = 90)\n",
        "plt.axis('equal')\n",
        "plt.show()"
      ],
      "execution_count": null,
      "outputs": [
        {
          "output_type": "display_data",
          "data": {
            "image/png": "[encoded data removed]",
            "text/plain": [
              "<Figure size 432x288 with 1 Axes>"
            ]
          },
          "metadata": {
            "tags": []
          }
        }
      ]
    },
    {
      "cell_type": "code",
      "metadata": {
        "id": "GxibgJ1wRsiB",
        "colab_type": "code",
        "colab": {}
      },
      "source": [
        "X = df.text\n",
        "y = df.label\n",
        "X_train, X_test, y_train, y_test = train_test_split(X, y, test_size=0.3, random_state = 42)"
      ],
      "execution_count": null,
      "outputs": []
    },
    {
      "cell_type": "code",
      "metadata": {
        "id": "lein_ul8f2B5",
        "colab_type": "code",
        "colab": {}
      },
      "source": [
        "# #Split the dataset\n",
        "# X_train,X_test,y_train,y_test = train_test_split(df['text'].values.astype('str'), labels, test_size=0.2, random_state=7)"
      ],
      "execution_count": null,
      "outputs": []
    },
    {
      "cell_type": "code",
      "metadata": {
        "id": "NuuxIHMSgXJk",
        "colab_type": "code",
        "colab": {
          "base_uri": "https://localhost:8080/",
          "height": 51
        },
        "outputId": "6412e689-62cd-4261-e318-3991a6a4e1a6"
      },
      "source": [
        "print(X_train.shape)\n",
        "print(X_test.shape)"
      ],
      "execution_count": null,
      "outputs": [
        {
          "output_type": "stream",
          "text": [
            "(140000,)\n",
            "(60000,)\n"
          ],
          "name": "stdout"
        }
      ]
    },
    {
      "cell_type": "code",
      "metadata": {
        "id": "geUMlf0y9szG",
        "colab_type": "code",
        "colab": {
          "base_uri": "https://localhost:8080/",
          "height": 187
        },
        "outputId": "470f6a0b-4ca5-46dd-991b-2d099105cdc7"
      },
      "source": [
        "# Dictionary of all words from train corpus with their counts.\n",
        "words_counts = {}\n",
        "\n",
        "from collections import Counter\n",
        "words_counts = Counter([word for line in X_train for word in line.split(' ')])\n",
        "\n",
        "# Sorting \n",
        "most_common_words = sorted(words_counts.items(), key=lambda x: x[1], reverse=True)[:10]\n",
        "\n",
        "# Top 10\n",
        "most_common_words[:10]"
      ],
      "execution_count": null,
      "outputs": [
        {
          "output_type": "execute_result",
          "data": {
            "text/plain": [
              "[('', 124188),\n",
              " ('and', 44920),\n",
              " ('food', 23040),\n",
              " ('good', 21300),\n",
              " ('place', 19373),\n",
              " ('not', 18055),\n",
              " ('great', 16841),\n",
              " ('service', 9091),\n",
              " ('go', 8027),\n",
              " ('best', 7827)]"
            ]
          },
          "metadata": {
            "tags": []
          },
          "execution_count": 52
        }
      ]
    },
    {
      "cell_type": "markdown",
      "metadata": {
        "id": "F0fbpVgoni4F",
        "colab_type": "text"
      },
      "source": [
        "# Random Forest"
      ]
    },
    {
      "cell_type": "code",
      "metadata": {
        "id": "-N7ADt0VnlcI",
        "colab_type": "code",
        "colab": {
          "base_uri": "https://localhost:8080/",
          "height": 204
        },
        "outputId": "a4ad1e53-245a-4ef2-8b2d-329efe9ceeed"
      },
      "source": [
        "from sklearn.feature_selection import SelectKBest, chi2\n",
        "from sklearn.pipeline import Pipeline\n",
        "from sklearn.feature_extraction.text import TfidfTransformer\n",
        "\n",
        "X_train, X_test, y_train, y_test = train_test_split(X, y, test_size=0.3, random_state = 42)\n",
        "# instead of doing these steps one at a time, we can use a pipeline to complete them all at once\n",
        "vectorizer = TfidfVectorizer(min_df= 3, stop_words=\"english\", sublinear_tf=True, norm='l2', ngram_range=(1, 2))\n",
        "\n",
        "pipeline = Pipeline([('vect', vectorizer),\n",
        "                     ('chi',  SelectKBest(chi2, k=1200)),\n",
        "                     ('clf', RandomForestClassifier())])\n",
        "# fitting our model and save it in a pickle for later use\n",
        "model = pipeline.fit(X_train, y_train)\n",
        "# with open('RandomForest.pickle', 'wb') as f:\n",
        "#     pickle.dump(model, f)\n",
        "ytest = np.array(y_test)\n",
        "# confusion matrix and classification report(precision, recall, F1-score)\n",
        "print(classification_report(ytest, model.predict(X_test)))\n",
        "print(confusion_matrix(ytest, model.predict(X_test)))"
      ],
      "execution_count": null,
      "outputs": [
        {
          "output_type": "stream",
          "text": [
            "              precision    recall  f1-score   support\n",
            "\n",
            "        FAKE       0.80      0.95      0.87     29851\n",
            "        REAL       0.94      0.77      0.84     30149\n",
            "\n",
            "    accuracy                           0.86     60000\n",
            "   macro avg       0.87      0.86      0.86     60000\n",
            "weighted avg       0.87      0.86      0.86     60000\n",
            "\n",
            "[[28269  1582]\n",
            " [ 7010 23139]]\n"
          ],
          "name": "stdout"
        }
      ]
    },
    {
      "cell_type": "markdown",
      "metadata": {
        "id": "kbHsXVdNfQN3",
        "colab_type": "text"
      },
      "source": [
        "# Naive Bayes classifier for multinomial models"
      ]
    },
    {
      "cell_type": "code",
      "metadata": {
        "id": "Zae11jsndPvd",
        "colab_type": "code",
        "colab": {
          "base_uri": "https://localhost:8080/",
          "height": 306
        },
        "outputId": "8cafa5d9-622a-4b0c-ff77-b173d55dd79a"
      },
      "source": [
        "from sklearn.naive_bayes import MultinomialNB\n",
        "\n",
        "nb = Pipeline([('vect', CountVectorizer()),\n",
        "               ('tfidf', TfidfTransformer()),\n",
        "               ('clf', MultinomialNB()),\n",
        "              ])\n",
        "nb.fit(X_train, y_train)"
      ],
      "execution_count": null,
      "outputs": [
        {
          "output_type": "execute_result",
          "data": {
            "text/plain": [
              "Pipeline(memory=None,\n",
              "         steps=[('vect',\n",
              "                 CountVectorizer(analyzer='word', binary=False,\n",
              "                                 decode_error='strict',\n",
              "                                 dtype=<class 'numpy.int64'>, encoding='utf-8',\n",
              "                                 input='content', lowercase=True, max_df=1.0,\n",
              "                                 max_features=None, min_df=1,\n",
              "                                 ngram_range=(1, 1), preprocessor=None,\n",
              "                                 stop_words=None, strip_accents=None,\n",
              "                                 token_pattern='(?u)\\\\b\\\\w\\\\w+\\\\b',\n",
              "                                 tokenizer=None, vocabulary=None)),\n",
              "                ('tfidf',\n",
              "                 TfidfTransformer(norm='l2', smooth_idf=True,\n",
              "                                  sublinear_tf=False, use_idf=True)),\n",
              "                ('clf',\n",
              "                 MultinomialNB(alpha=1.0, class_prior=None, fit_prior=True))],\n",
              "         verbose=False)"
            ]
          },
          "metadata": {
            "tags": []
          },
          "execution_count": 55
        }
      ]
    },
    {
      "cell_type": "code",
      "metadata": {
        "id": "rJ9lpq3NeESy",
        "colab_type": "code",
        "colab": {
          "base_uri": "https://localhost:8080/",
          "height": 221
        },
        "outputId": "6c032f01-2e64-4c85-b366-3629d0e1e8fc"
      },
      "source": [
        "%%time\n",
        "from sklearn.metrics import classification_report\n",
        "y_pred = nb.predict(X_test)\n",
        "\n",
        "print('accuracy %s' % accuracy_score(y_pred, y_test))\n",
        "print(classification_report(y_test, y_pred,target_names=my_labels))"
      ],
      "execution_count": null,
      "outputs": [
        {
          "output_type": "stream",
          "text": [
            "accuracy 0.6787333333333333\n",
            "              precision    recall  f1-score   support\n",
            "\n",
            "        FAKE       0.67      0.71      0.69     29851\n",
            "        REAL       0.69      0.65      0.67     30149\n",
            "\n",
            "    accuracy                           0.68     60000\n",
            "   macro avg       0.68      0.68      0.68     60000\n",
            "weighted avg       0.68      0.68      0.68     60000\n",
            "\n",
            "CPU times: user 2.85 s, sys: 3.99 ms, total: 2.85 s\n",
            "Wall time: 2.86 s\n"
          ],
          "name": "stdout"
        }
      ]
    },
    {
      "cell_type": "markdown",
      "metadata": {
        "id": "hh8MoeJOfRa8",
        "colab_type": "text"
      },
      "source": [
        "# Linear support vector machine"
      ]
    },
    {
      "cell_type": "code",
      "metadata": {
        "id": "Zhc22KlRe1hQ",
        "colab_type": "code",
        "colab": {
          "base_uri": "https://localhost:8080/",
          "height": 374
        },
        "outputId": "79083672-0bc2-4983-d2f0-e0b6fce6ed9a"
      },
      "source": [
        "from sklearn.linear_model import SGDClassifier\n",
        "\n",
        "sgd = Pipeline([('vect', CountVectorizer()),\n",
        "                ('tfidf', TfidfTransformer()),\n",
        "                ('clf', SGDClassifier(loss='hinge', penalty='l2',alpha=1e-3, random_state=42, max_iter=5, tol=None)),\n",
        "               ])\n",
        "sgd.fit(X_train, y_train)"
      ],
      "execution_count": null,
      "outputs": [
        {
          "output_type": "execute_result",
          "data": {
            "text/plain": [
              "Pipeline(memory=None,\n",
              "         steps=[('vect',\n",
              "                 CountVectorizer(analyzer='word', binary=False,\n",
              "                                 decode_error='strict',\n",
              "                                 dtype=<class 'numpy.int64'>, encoding='utf-8',\n",
              "                                 input='content', lowercase=True, max_df=1.0,\n",
              "                                 max_features=None, min_df=1,\n",
              "                                 ngram_range=(1, 1), preprocessor=None,\n",
              "                                 stop_words=None, strip_accents=None,\n",
              "                                 token_pattern='(?u)\\\\b\\\\w\\\\w+\\\\b',\n",
              "                                 tokenizer=None, vocabulary=Non...\n",
              "                ('clf',\n",
              "                 SGDClassifier(alpha=0.001, average=False, class_weight=None,\n",
              "                               early_stopping=False, epsilon=0.1, eta0=0.0,\n",
              "                               fit_intercept=True, l1_ratio=0.15,\n",
              "                               learning_rate='optimal', loss='hinge',\n",
              "                               max_iter=5, n_iter_no_change=5, n_jobs=None,\n",
              "                               penalty='l2', power_t=0.5, random_state=42,\n",
              "                               shuffle=True, tol=None, validation_fraction=0.1,\n",
              "                               verbose=0, warm_start=False))],\n",
              "         verbose=False)"
            ]
          },
          "metadata": {
            "tags": []
          },
          "execution_count": 57
        }
      ]
    },
    {
      "cell_type": "code",
      "metadata": {
        "id": "5Jb5nX5rfWce",
        "colab_type": "code",
        "colab": {
          "base_uri": "https://localhost:8080/",
          "height": 221
        },
        "outputId": "4bef5ab3-a5b7-45c9-9b47-a3f84cd3e3e6"
      },
      "source": [
        "%%time\n",
        "\n",
        "y_pred = sgd.predict(X_test)\n",
        "\n",
        "print('accuracy %s' % accuracy_score(y_pred, y_test))\n",
        "print(classification_report(y_test, y_pred,target_names=my_labels))"
      ],
      "execution_count": null,
      "outputs": [
        {
          "output_type": "stream",
          "text": [
            "accuracy 0.5761666666666667\n",
            "              precision    recall  f1-score   support\n",
            "\n",
            "        FAKE       0.67      0.29      0.40     29851\n",
            "        REAL       0.55      0.86      0.67     30149\n",
            "\n",
            "    accuracy                           0.58     60000\n",
            "   macro avg       0.61      0.57      0.54     60000\n",
            "weighted avg       0.61      0.58      0.54     60000\n",
            "\n",
            "CPU times: user 2.8 s, sys: 8.95 ms, total: 2.81 s\n",
            "Wall time: 2.82 s\n"
          ],
          "name": "stdout"
        }
      ]
    },
    {
      "cell_type": "markdown",
      "metadata": {
        "id": "B7IsmcBHflsL",
        "colab_type": "text"
      },
      "source": [
        "# Logistic regression"
      ]
    },
    {
      "cell_type": "code",
      "metadata": {
        "id": "fhLTDRN_fjAd",
        "colab_type": "code",
        "colab": {
          "base_uri": "https://localhost:8080/",
          "height": 527
        },
        "outputId": "eaf2afa2-8d76-47ae-aac5-6e52df6618ef"
      },
      "source": [
        "from sklearn.linear_model import LogisticRegression\n",
        "\n",
        "logreg = Pipeline([('vect', CountVectorizer()),\n",
        "                ('tfidf', TfidfTransformer()),\n",
        "                ('clf', LogisticRegression(n_jobs=1, C=1e5)),\n",
        "               ])\n",
        "logreg.fit(X_train, y_train)"
      ],
      "execution_count": null,
      "outputs": [
        {
          "output_type": "stream",
          "text": [
            "/usr/local/lib/python3.6/dist-packages/sklearn/linear_model/_logistic.py:940: ConvergenceWarning: lbfgs failed to converge (status=1):\n",
            "STOP: TOTAL NO. of ITERATIONS REACHED LIMIT.\n",
            "\n",
            "Increase the number of iterations (max_iter) or scale the data as shown in:\n",
            "    https://scikit-learn.org/stable/modules/preprocessing.html\n",
            "Please also refer to the documentation for alternative solver options:\n",
            "    https://scikit-learn.org/stable/modules/linear_model.html#logistic-regression\n",
            "  extra_warning_msg=_LOGISTIC_SOLVER_CONVERGENCE_MSG)\n"
          ],
          "name": "stderr"
        },
        {
          "output_type": "execute_result",
          "data": {
            "text/plain": [
              "Pipeline(memory=None,\n",
              "         steps=[('vect',\n",
              "                 CountVectorizer(analyzer='word', binary=False,\n",
              "                                 decode_error='strict',\n",
              "                                 dtype=<class 'numpy.int64'>, encoding='utf-8',\n",
              "                                 input='content', lowercase=True, max_df=1.0,\n",
              "                                 max_features=None, min_df=1,\n",
              "                                 ngram_range=(1, 1), preprocessor=None,\n",
              "                                 stop_words=None, strip_accents=None,\n",
              "                                 token_pattern='(?u)\\\\b\\\\w\\\\w+\\\\b',\n",
              "                                 tokenizer=None, vocabulary=None)),\n",
              "                ('tfidf',\n",
              "                 TfidfTransformer(norm='l2', smooth_idf=True,\n",
              "                                  sublinear_tf=False, use_idf=True)),\n",
              "                ('clf',\n",
              "                 LogisticRegression(C=100000.0, class_weight=None, dual=False,\n",
              "                                    fit_intercept=True, intercept_scaling=1,\n",
              "                                    l1_ratio=None, max_iter=100,\n",
              "                                    multi_class='auto', n_jobs=1, penalty='l2',\n",
              "                                    random_state=None, solver='lbfgs',\n",
              "                                    tol=0.0001, verbose=0, warm_start=False))],\n",
              "         verbose=False)"
            ]
          },
          "metadata": {
            "tags": []
          },
          "execution_count": 59
        }
      ]
    },
    {
      "cell_type": "code",
      "metadata": {
        "id": "s9t00kPNfpHO",
        "colab_type": "code",
        "colab": {
          "base_uri": "https://localhost:8080/",
          "height": 221
        },
        "outputId": "7f080079-d0e2-4711-da19-3e8bbc179d4c"
      },
      "source": [
        "%%time\n",
        "\n",
        "y_pred = logreg.predict(X_test)\n",
        "\n",
        "print('accuracy %s' % accuracy_score(y_pred, y_test))\n",
        "print(classification_report(y_test, y_pred,target_names=my_labels))"
      ],
      "execution_count": null,
      "outputs": [
        {
          "output_type": "stream",
          "text": [
            "accuracy 0.6935\n",
            "              precision    recall  f1-score   support\n",
            "\n",
            "        FAKE       0.68      0.72      0.70     29851\n",
            "        REAL       0.71      0.67      0.69     30149\n",
            "\n",
            "    accuracy                           0.69     60000\n",
            "   macro avg       0.69      0.69      0.69     60000\n",
            "weighted avg       0.69      0.69      0.69     60000\n",
            "\n",
            "CPU times: user 3.34 s, sys: 68.7 ms, total: 3.41 s\n",
            "Wall time: 3.36 s\n"
          ],
          "name": "stdout"
        }
      ]
    },
    {
      "cell_type": "markdown",
      "metadata": {
        "id": "UG6ajXrThSWL",
        "colab_type": "text"
      },
      "source": [
        "# Word2vec embedding and Logistic Regression\n",
        "\n",
        "Word2vec transforms a text into a row of numbers. Word2vec allows words with similar meaning to have similar vector representation. I used the pre-trained model by Google on a 100 billion word Google News corpus."
      ]
    },
    {
      "cell_type": "code",
      "metadata": {
        "id": "SsZs_-BphTj1",
        "colab_type": "code",
        "colab": {
          "base_uri": "https://localhost:8080/",
          "height": 105
        },
        "outputId": "d6fdf2d9-b625-4399-a74d-52e3ec156325"
      },
      "source": [
        "%%time\n",
        "\n",
        "wv = gensim.models.KeyedVectors.load_word2vec_format(\"GoogleNews-vectors-negative300.bin\", binary=True)\n",
        "wv.init_sims(replace=True)"
      ],
      "execution_count": null,
      "outputs": [
        {
          "output_type": "stream",
          "text": [
            "/usr/local/lib/python3.6/dist-packages/smart_open/smart_open_lib.py:254: UserWarning: This function is deprecated, use smart_open.open instead. See the migration notes for details: https://github.com/RaRe-Technologies/smart_open/blob/master/README.rst#migrating-to-the-new-open-function\n",
            "  'See the migration notes for details: %s' % _MIGRATION_NOTES_URL\n"
          ],
          "name": "stderr"
        },
        {
          "output_type": "stream",
          "text": [
            "CPU times: user 1min 10s, sys: 8.53 s, total: 1min 19s\n",
            "Wall time: 1min 52s\n"
          ],
          "name": "stdout"
        }
      ]
    },
    {
      "cell_type": "code",
      "metadata": {
        "id": "Z2PKdUp3hXZp",
        "colab_type": "code",
        "colab": {
          "base_uri": "https://localhost:8080/",
          "height": 357
        },
        "outputId": "1878cff3-6292-41c3-f15b-9cc56ef9270e"
      },
      "source": [
        "list(islice(wv.vocab, 13030, 13050))"
      ],
      "execution_count": null,
      "outputs": [
        {
          "output_type": "execute_result",
          "data": {
            "text/plain": [
              "['Memorial_Hospital',\n",
              " 'Seniors',\n",
              " 'memorandum',\n",
              " 'elephant',\n",
              " 'Trump',\n",
              " 'Census',\n",
              " 'pilgrims',\n",
              " 'De',\n",
              " 'Dogs',\n",
              " '###-####_ext',\n",
              " 'chaotic',\n",
              " 'forgive',\n",
              " 'scholar',\n",
              " 'Lottery',\n",
              " 'decreasing',\n",
              " 'Supervisor',\n",
              " 'fundamentally',\n",
              " 'Fitness',\n",
              " 'abundance',\n",
              " 'Hold']"
            ]
          },
          "metadata": {
            "tags": []
          },
          "execution_count": 62
        }
      ]
    },
    {
      "cell_type": "code",
      "metadata": {
        "id": "k-17so-AhsXi",
        "colab_type": "code",
        "colab": {}
      },
      "source": [
        "def word_averaging(wv, words):\n",
        "    all_words, mean = set(), []\n",
        "    \n",
        "    for word in words:\n",
        "        if isinstance(word, np.ndarray):\n",
        "            mean.append(word)\n",
        "        elif word in wv.vocab:\n",
        "            mean.append(wv.syn0norm[wv.vocab[word].index])\n",
        "            all_words.add(wv.vocab[word].index)\n",
        "\n",
        "    if not mean:\n",
        "        logging.warning(\"cannot compute similarity with no input %s\", words)\n",
        "        # FIXME: remove these examples in pre-processing\n",
        "        return np.zeros(wv.vector_size,)\n",
        "\n",
        "    mean = gensim.matutils.unitvec(np.array(mean).mean(axis=0)).astype(np.float32)\n",
        "    return mean\n",
        "\n",
        "def  word_averaging_list(wv, text_list):\n",
        "    return np.vstack([word_averaging(wv, post) for post in text_list ])"
      ],
      "execution_count": null,
      "outputs": []
    },
    {
      "cell_type": "code",
      "metadata": {
        "id": "Y5q442_Rhti3",
        "colab_type": "code",
        "colab": {
          "base_uri": "https://localhost:8080/",
          "height": 51
        },
        "outputId": "0d2cde17-5ea3-4a4d-8fcc-b371f4c26a24"
      },
      "source": [
        "nltk.download('punkt')\n",
        "def w2v_tokenize_text(text):\n",
        "    tokens = []\n",
        "    for sent in nltk.sent_tokenize(text, language='english'):\n",
        "        for word in nltk.word_tokenize(sent, language='english'):\n",
        "            if len(word) < 2:\n",
        "                continue\n",
        "            tokens.append(word)\n",
        "    return tokens"
      ],
      "execution_count": null,
      "outputs": [
        {
          "output_type": "stream",
          "text": [
            "[nltk_data] Downloading package punkt to /root/nltk_data...\n",
            "[nltk_data]   Package punkt is already up-to-date!\n"
          ],
          "name": "stdout"
        }
      ]
    },
    {
      "cell_type": "code",
      "metadata": {
        "id": "fSSs-OxbhwHk",
        "colab_type": "code",
        "colab": {}
      },
      "source": [
        "train, test = train_test_split(df, test_size=0.3, random_state = 42)\n",
        "\n",
        "test_tokenized = test.apply(lambda r: w2v_tokenize_text(r['text']), axis=1).values\n",
        "train_tokenized = train.apply(lambda r: w2v_tokenize_text(r['text']), axis=1).values"
      ],
      "execution_count": null,
      "outputs": []
    },
    {
      "cell_type": "code",
      "metadata": {
        "id": "Fg_9mKUqhy0Q",
        "colab_type": "code",
        "colab": {
          "base_uri": "https://localhost:8080/",
          "height": 1000
        },
        "outputId": "417aae29-813f-49d3-ff5e-e88689ba0b91"
      },
      "source": [
        "X_train_word_average = word_averaging_list(wv,train_tokenized)\n",
        "X_test_word_average = word_averaging_list(wv,test_tokenized)"
      ],
      "execution_count": null,
      "outputs": [
        {
          "output_type": "stream",
          "text": [
            "/usr/local/lib/python3.6/dist-packages/ipykernel_launcher.py:8: DeprecationWarning: Call to deprecated `syn0norm` (Attribute will be removed in 4.0.0, use self.wv.vectors_norm instead).\n",
            "  \n",
            "/usr/local/lib/python3.6/dist-packages/gensim/matutils.py:737: FutureWarning: Conversion of the second argument of issubdtype from `int` to `np.signedinteger` is deprecated. In future, it will be treated as `np.int64 == np.dtype(int).type`.\n",
            "  if np.issubdtype(vec.dtype, np.int):\n",
            "WARNING:root:cannot compute similarity with no input ['yumm']\n",
            "WARNING:root:cannot compute similarity with no input ['blehhh']\n",
            "WARNING:root:cannot compute similarity with no input ['cialit']\n",
            "WARNING:root:cannot compute similarity with no input ['awesomeeeeee']\n",
            "WARNING:root:cannot compute similarity with no input ['taire', 'passionn']\n",
            "WARNING:root:cannot compute similarity with no input ['gitane']\n",
            "WARNING:root:cannot compute similarity with no input ['deelicious']\n",
            "WARNING:root:cannot compute similarity with no input ['delious']\n",
            "WARNING:root:cannot compute similarity with no input ['diterran']\n",
            "WARNING:root:cannot compute similarity with no input ['ssimo']\n",
            "WARNING:root:cannot compute similarity with no input ['culin']\n",
            "WARNING:root:cannot compute similarity with no input ['diterran']\n",
            "WARNING:root:cannot compute similarity with no input ['mmarksthespotorg']\n",
            "WARNING:root:cannot compute similarity with no input ['nicos']\n",
            "WARNING:root:cannot compute similarity with no input ['manhattannever']\n",
            "WARNING:root:cannot compute similarity with no input ['llningar', 'rekommderas', 'varmt']\n",
            "WARNING:root:cannot compute similarity with no input ['and', 'tuome']\n",
            "WARNING:root:cannot compute similarity with no input ['wwwtimeoutnycomnewyo']\n",
            "WARNING:root:cannot compute similarity with no input ['blehhh']\n",
            "WARNING:root:cannot compute similarity with no input ['mning']\n",
            "WARNING:root:cannot compute similarity with no input ['despu']\n",
            "WARNING:root:cannot compute similarity with no input ['consumeraffairscompets']\n",
            "WARNING:root:cannot compute similarity with no input ['cooool']\n",
            "WARNING:root:cannot compute similarity with no input ['aaaaaaaaaaaaaaaaaaaaaaaaaaaaaaaaaaa']\n",
            "WARNING:root:cannot compute similarity with no input ['delisshhhhhh']\n",
            "WARNING:root:cannot compute similarity with no input ['okayy']\n",
            "WARNING:root:cannot compute similarity with no input ['ttre']\n",
            "WARNING:root:cannot compute similarity with no input ['maravilhosos', 'atendimento', 'impec']\n",
            "WARNING:root:cannot compute similarity with no input ['whateves']\n",
            "WARNING:root:cannot compute similarity with no input ['yelpcomuserlocalphot']\n",
            "WARNING:root:cannot compute similarity with no input ['wasnt']\n",
            "WARNING:root:cannot compute similarity with no input ['sabich']\n",
            "WARNING:root:cannot compute similarity with no input ['yammi']\n",
            "WARNING:root:cannot compute similarity with no input ['wasnt']\n",
            "WARNING:root:cannot compute similarity with no input ['aiiiight']\n",
            "WARNING:root:cannot compute similarity with no input ['jezebelcombad']\n",
            "WARNING:root:cannot compute similarity with no input ['despa']\n",
            "WARNING:root:cannot compute similarity with no input ['maybebecause', 'and']\n",
            "WARNING:root:cannot compute similarity with no input ['didnt']\n",
            "WARNING:root:cannot compute similarity with no input ['salte']\n",
            "WARNING:root:cannot compute similarity with no input ['mning']\n",
            "WARNING:root:cannot compute similarity with no input ['loveeeeeeeeeeeeeee']\n",
            "WARNING:root:cannot compute similarity with no input ['bestfalafelever']\n",
            "WARNING:root:cannot compute similarity with no input ['ergew']\n",
            "WARNING:root:cannot compute similarity with no input ['patriciasuhcom']\n",
            "WARNING:root:cannot compute similarity with no input ['delious']\n",
            "WARNING:root:cannot compute similarity with no input ['blehhh']\n",
            "WARNING:root:cannot compute similarity with no input ['karakamen', 'yelpcombizphotossy']\n",
            "WARNING:root:cannot compute similarity with no input ['taire', 'passionn']\n",
            "WARNING:root:cannot compute similarity with no input ['foresti']\n",
            "WARNING:root:cannot compute similarity with no input ['jadore', 'balthazar']\n",
            "WARNING:root:cannot compute similarity with no input ['jezebelcombad']\n",
            "WARNING:root:cannot compute similarity with no input ['kkkkkkkkkkkkkkkkkkeeeeeeeeeeeeeeeeeppppppppppppppp']\n",
            "WARNING:root:cannot compute similarity with no input ['thefoodienistablogspot']\n",
            "WARNING:root:cannot compute similarity with no input ['youtubecomwatchvknzh']\n",
            "WARNING:root:cannot compute similarity with no input ['yeahgood', 'pizzatasty']\n",
            "WARNING:root:cannot compute similarity with no input ['yelpcomuserdetailsus']\n",
            "WARNING:root:cannot compute similarity with no input ['stuffedandthenletsordersometiramisu']\n",
            "WARNING:root:cannot compute similarity with no input ['wasnt']\n",
            "WARNING:root:cannot compute similarity with no input ['maybebecause', 'and']\n",
            "WARNING:root:cannot compute similarity with no input ['twittercomtuffdesigns', 'istangramtuffdesigns']\n",
            "WARNING:root:cannot compute similarity with no input ['yumm']\n",
            "WARNING:root:cannot compute similarity with no input ['whateves']\n",
            "WARNING:root:cannot compute similarity with no input ['whateves']\n",
            "WARNING:root:cannot compute similarity with no input ['superfatty']\n",
            "WARNING:root:cannot compute similarity with no input ['perfeita', 'defini']\n",
            "WARNING:root:cannot compute similarity with no input ['yumyum']\n",
            "WARNING:root:cannot compute similarity with no input ['terv']\n",
            "WARNING:root:cannot compute similarity with no input ['infuckincredible']\n",
            "WARNING:root:cannot compute similarity with no input ['didnt']\n",
            "WARNING:root:cannot compute similarity with no input ['despa']\n",
            "WARNING:root:cannot compute similarity with no input ['grrrreat', 'brrrunch']\n",
            "WARNING:root:cannot compute similarity with no input ['holdmyhairbackthisarepaandrumdidntmix']\n",
            "WARNING:root:cannot compute similarity with no input ['beauituful']\n",
            "WARNING:root:cannot compute similarity with no input ['jezebelcombad']\n",
            "WARNING:root:cannot compute similarity with no input ['frankies']\n",
            "WARNING:root:cannot compute similarity with no input ['didnt']\n",
            "WARNING:root:cannot compute similarity with no input ['terv']\n",
            "WARNING:root:cannot compute similarity with no input ['trendycrowdandwedontgiveadmnifyoueat']\n",
            "WARNING:root:cannot compute similarity with no input ['deelicious']\n",
            "WARNING:root:cannot compute similarity with no input ['ladur']\n",
            "WARNING:root:cannot compute similarity with no input ['cialit']\n",
            "WARNING:root:cannot compute similarity with no input ['yeahgood', 'pizzatasty']\n",
            "WARNING:root:cannot compute similarity with no input ['yumm']\n",
            "WARNING:root:cannot compute similarity with no input ['urv']\n",
            "WARNING:root:cannot compute similarity with no input ['holyyyyyyyyymolyyyyyyyyyyyyyyyyyybestmealieverhadi']\n",
            "WARNING:root:cannot compute similarity with no input ['infuckincredible']\n",
            "WARNING:root:cannot compute similarity with no input ['mmmmmmmmm']\n",
            "WARNING:root:cannot compute similarity with no input ['ummmazingg']\n",
            "WARNING:root:cannot compute similarity with no input ['isnt']\n",
            "WARNING:root:cannot compute similarity with no input ['aaaaaaaaaaaaaaaaaaaaaaaaaaaaaaaaaaa']\n",
            "WARNING:root:cannot compute similarity with no input ['yammi']\n",
            "WARNING:root:cannot compute similarity with no input ['maravilhosos', 'atendimento', 'impec']\n",
            "WARNING:root:cannot compute similarity with no input ['urv']\n",
            "WARNING:root:cannot compute similarity with no input ['nicos']\n",
            "WARNING:root:cannot compute similarity with no input ['deeeeericious']\n",
            "WARNING:root:cannot compute similarity with no input ['didnt']\n",
            "WARNING:root:cannot compute similarity with no input ['xvartha']\n",
            "WARNING:root:cannot compute similarity with no input ['mning']\n",
            "WARNING:root:cannot compute similarity with no input ['yumm']\n",
            "WARNING:root:cannot compute similarity with no input ['ladur']\n",
            "WARNING:root:cannot compute similarity with no input ['fris']\n",
            "WARNING:root:cannot compute similarity with no input ['capriana']\n",
            "WARNING:root:cannot compute similarity with no input ['triskell']\n",
            "WARNING:root:cannot compute similarity with no input ['uscht']\n",
            "WARNING:root:cannot compute similarity with no input ['triskell']\n",
            "WARNING:root:cannot compute similarity with no input ['jaxnpupkxangwzkmgqg']\n",
            "WARNING:root:cannot compute similarity with no input ['despa']\n",
            "WARNING:root:cannot compute similarity with no input ['culin']\n",
            "WARNING:root:cannot compute similarity with no input ['triskell']\n",
            "WARNING:root:cannot compute similarity with no input ['blehhh']\n",
            "WARNING:root:cannot compute similarity with no input ['tesg']\n",
            "WARNING:root:cannot compute similarity with no input ['mmmmmmmmmmmmmmmmmmmmmm']\n",
            "WARNING:root:cannot compute similarity with no input ['yumyum']\n",
            "WARNING:root:cannot compute similarity with no input ['diterran']\n",
            "WARNING:root:cannot compute similarity with no input ['salte']\n",
            "WARNING:root:cannot compute similarity with no input ['foodcomalogsblogspotco']\n",
            "WARNING:root:cannot compute similarity with no input ['mmmmmmmmm']\n",
            "WARNING:root:cannot compute similarity with no input ['terv']\n",
            "WARNING:root:cannot compute similarity with no input ['shopkickbarcodesscomsh']\n",
            "WARNING:root:cannot compute similarity with no input ['delisshhhhhh']\n",
            "WARNING:root:cannot compute similarity with no input ['yeahgood', 'pizzatasty']\n",
            "WARNING:root:cannot compute similarity with no input ['yelpcombizkatagirija']\n",
            "WARNING:root:cannot compute similarity with no input ['tesg']\n",
            "WARNING:root:cannot compute similarity with no input ['uscht']\n",
            "WARNING:root:cannot compute similarity with no input ['yelpcombizphotoszx']\n",
            "WARNING:root:cannot compute similarity with no input ['xvartha']\n",
            "WARNING:root:cannot compute similarity with no input ['ergew']\n",
            "WARNING:root:cannot compute similarity with no input ['jadore']\n",
            "WARNING:root:cannot compute similarity with no input ['jezebelcombad']\n",
            "WARNING:root:cannot compute similarity with no input ['freshdeliciousword']\n",
            "WARNING:root:cannot compute similarity with no input ['jadore']\n",
            "WARNING:root:cannot compute similarity with no input ['touff']\n",
            "WARNING:root:cannot compute similarity with no input ['lyc']\n",
            "WARNING:root:cannot compute similarity with no input ['jezebelcombad']\n",
            "WARNING:root:cannot compute similarity with no input ['didnt']\n",
            "WARNING:root:cannot compute similarity with no input ['didnt']\n",
            "WARNING:root:cannot compute similarity with no input ['diterran']\n",
            "WARNING:root:cannot compute similarity with no input ['blehhh']\n",
            "WARNING:root:cannot compute similarity with no input ['maybebecause', 'and']\n",
            "WARNING:root:cannot compute similarity with no input ['diterran']\n",
            "WARNING:root:cannot compute similarity with no input ['dients']\n",
            "WARNING:root:cannot compute similarity with no input ['yumyum']\n",
            "WARNING:root:cannot compute similarity with no input ['chipotleasiagoacaitoscana']\n",
            "WARNING:root:cannot compute similarity with no input ['yelpcombizphotoszx']\n",
            "WARNING:root:cannot compute similarity with no input ['llningar', 'rekommderas', 'varmt']\n",
            "WARNING:root:cannot compute similarity with no input ['byob']\n",
            "WARNING:root:cannot compute similarity with no input ['despa']\n",
            "WARNING:root:cannot compute similarity with no input ['tima', 'tamb']\n",
            "WARNING:root:cannot compute similarity with no input ['yeahgood', 'pizzatasty']\n",
            "WARNING:root:cannot compute similarity with no input ['fffshancy']\n",
            "WARNING:root:cannot compute similarity with no input ['amazingggggg']\n",
            "WARNING:root:cannot compute similarity with no input ['fuckingsolid']\n",
            "WARNING:root:cannot compute similarity with no input ['cooool']\n",
            "WARNING:root:cannot compute similarity with no input ['nnectfourjengabeerkozymetaldrinkdealsfratboyhipste']\n",
            "WARNING:root:cannot compute similarity with no input ['triskell']\n",
            "WARNING:root:cannot compute similarity with no input ['yaaaaaaaaaaaaaaaaaaaaaaaaaaaaaaaaaaayyyyyyyyyyyyyy']\n",
            "WARNING:root:cannot compute similarity with no input ['touff']\n",
            "WARNING:root:cannot compute similarity with no input ['delightedthanks']\n",
            "WARNING:root:cannot compute similarity with no input ['okayy']\n",
            "WARNING:root:cannot compute similarity with no input ['awesom']\n",
            "WARNING:root:cannot compute similarity with no input ['mning']\n",
            "WARNING:root:cannot compute similarity with no input ['diterran']\n",
            "WARNING:root:cannot compute similarity with no input ['penangphiladelphianyonyanyc']\n",
            "WARNING:root:cannot compute similarity with no input ['yumm']\n",
            "WARNING:root:cannot compute similarity with no input ['deelicious']\n",
            "WARNING:root:cannot compute similarity with no input ['amazingggggg']\n",
            "WARNING:root:cannot compute similarity with no input ['despa']\n",
            "WARNING:root:cannot compute similarity with no input ['huffingtonpostcom']\n",
            "WARNING:root:cannot compute similarity with no input ['ccccccccccccccccccccccccccccccccccccccccccccccccc']\n",
            "WARNING:root:cannot compute similarity with no input ['harmoniza']\n",
            "WARNING:root:cannot compute similarity with no input ['llningar', 'rekommderas', 'varmt']\n",
            "WARNING:root:cannot compute similarity with no input ['beauituful']\n",
            "WARNING:root:cannot compute similarity with no input ['whateves']\n",
            "WARNING:root:cannot compute similarity with no input ['culin']\n",
            "WARNING:root:cannot compute similarity with no input ['ohsogood']\n",
            "WARNING:root:cannot compute similarity with no input ['salte']\n",
            "WARNING:root:cannot compute similarity with no input ['lycheetini']\n",
            "WARNING:root:cannot compute similarity with no input ['didnt']\n",
            "WARNING:root:cannot compute similarity with no input ['deelicious']\n",
            "WARNING:root:cannot compute similarity with no input ['manhatten']\n",
            "WARNING:root:cannot compute similarity with no input ['vimeocomuser', 'premierodessacomua']\n",
            "WARNING:root:cannot compute similarity with no input ['fuckingsolid']\n",
            "WARNING:root:cannot compute similarity with no input ['llningar', 'rekommderas', 'varmt']\n",
            "WARNING:root:cannot compute similarity with no input ['mmmmmmmmm']\n",
            "WARNING:root:cannot compute similarity with no input ['yessss']\n",
            "WARNING:root:cannot compute similarity with no input ['touff']\n",
            "WARNING:root:cannot compute similarity with no input ['jadore']\n",
            "WARNING:root:cannot compute similarity with no input ['ohmygawdbeckyimsodrunkandthishalalcartissoogoodil']\n",
            "WARNING:root:cannot compute similarity with no input ['diterran']\n",
            "WARNING:root:cannot compute similarity with no input ['videmment']\n",
            "WARNING:root:cannot compute similarity with no input ['diterran']\n",
            "WARNING:root:cannot compute similarity with no input ['mmmmmmmmmmmmmmmmmmmmmmmm']\n",
            "WARNING:root:cannot compute similarity with no input ['didnt']\n",
            "WARNING:root:cannot compute similarity with no input ['yasuda', 'winsfor']\n",
            "WARNING:root:cannot compute similarity with no input ['foodgasm']\n",
            "WARNING:root:cannot compute similarity with no input ['taire', 'passionn']\n",
            "WARNING:root:cannot compute similarity with no input ['prisv']\n",
            "WARNING:root:cannot compute similarity with no input ['xvartha']\n",
            "WARNING:root:cannot compute similarity with no input ['sabich']\n",
            "WARNING:root:cannot compute similarity with no input ['foodbyskylertumblrcom']\n",
            "WARNING:root:cannot compute similarity with no input ['patriciasuhcom']\n",
            "WARNING:root:cannot compute similarity with no input ['ergew']\n",
            "WARNING:root:cannot compute similarity with no input ['katja']\n",
            "WARNING:root:cannot compute similarity with no input ['dients']\n",
            "WARNING:root:cannot compute similarity with no input ['ummmazingg']\n",
            "WARNING:root:cannot compute similarity with no input ['amazingggggg']\n",
            "WARNING:root:cannot compute similarity with no input ['terv']\n",
            "WARNING:root:cannot compute similarity with no input ['cooool']\n",
            "WARNING:root:cannot compute similarity with no input ['mning']\n",
            "WARNING:root:cannot compute similarity with no input ['jadore']\n",
            "WARNING:root:cannot compute similarity with no input ['yumm']\n",
            "WARNING:root:cannot compute similarity with no input ['manhattannever']\n",
            "WARNING:root:cannot compute similarity with no input ['touff']\n",
            "WARNING:root:cannot compute similarity with no input ['yumm']\n",
            "WARNING:root:cannot compute similarity with no input ['didier']\n",
            "WARNING:root:cannot compute similarity with no input ['ubandaddy']\n",
            "WARNING:root:cannot compute similarity with no input ['beauituful']\n",
            "WARNING:root:cannot compute similarity with no input ['simo', 'tambi']\n",
            "WARNING:root:cannot compute similarity with no input ['deelicious']\n",
            "WARNING:root:cannot compute similarity with no input ['mning']\n",
            "WARNING:root:cannot compute similarity with no input ['ladur']\n",
            "WARNING:root:cannot compute similarity with no input ['eeeeeeeeeeeeeeepppppiiiiiiiiiiiiiiiiiicccccccccccc']\n",
            "WARNING:root:cannot compute similarity with no input ['delious']\n",
            "WARNING:root:cannot compute similarity with no input ['prisv']\n",
            "WARNING:root:cannot compute similarity with no input ['penangphiladelphianyonyanyc']\n",
            "WARNING:root:cannot compute similarity with no input ['sittingwithpolitecompanyicantbutoofgirl']\n",
            "WARNING:root:cannot compute similarity with no input ['ttre']\n",
            "WARNING:root:cannot compute similarity with no input ['complaintsboardcomcomp']\n",
            "WARNING:root:cannot compute similarity with no input ['taire', 'passionn']\n",
            "WARNING:root:cannot compute similarity with no input ['dients']\n",
            "WARNING:root:cannot compute similarity with no input ['diterran']\n",
            "WARNING:root:cannot compute similarity with no input ['oishii']\n",
            "WARNING:root:cannot compute similarity with no input ['aaaaaaaaaaaaaaaaaaaaaaaaaaaaaaaaaaa']\n",
            "WARNING:root:cannot compute similarity with no input ['ladur']\n",
            "WARNING:root:cannot compute similarity with no input ['okayy']\n",
            "WARNING:root:cannot compute similarity with no input ['crampedcrowded']\n",
            "WARNING:root:cannot compute similarity with no input ['despa']\n",
            "WARNING:root:cannot compute similarity with no input ['mning']\n",
            "WARNING:root:cannot compute similarity with no input ['urv']\n",
            "WARNING:root:cannot compute similarity with no input ['huffingtonpostcom']\n",
            "WARNING:root:cannot compute similarity with no input ['uscht']\n",
            "WARNING:root:cannot compute similarity with no input ['ehhhhh']\n",
            "WARNING:root:cannot compute similarity with no input ['yumm']\n",
            "WARNING:root:cannot compute similarity with no input ['yelpcomuserlocalphot']\n",
            "WARNING:root:cannot compute similarity with no input ['byob']\n",
            "WARNING:root:cannot compute similarity with no input ['nskem']\n",
            "WARNING:root:cannot compute similarity with no input ['cooool']\n",
            "WARNING:root:cannot compute similarity with no input ['consumeraffairscompets']\n",
            "WARNING:root:cannot compute similarity with no input ['ssimos']\n",
            "WARNING:root:cannot compute similarity with no input ['yelpcombizphotosiy']\n",
            "WARNING:root:cannot compute similarity with no input ['infuckincredible']\n",
            "WARNING:root:cannot compute similarity with no input ['yumm']\n",
            "WARNING:root:cannot compute similarity with no input ['delisshhhhhh']\n",
            "WARNING:root:cannot compute similarity with no input ['wasnt']\n",
            "WARNING:root:cannot compute similarity with no input ['overtouristy']\n",
            "WARNING:root:cannot compute similarity with no input ['raisonnable']\n",
            "WARNING:root:cannot compute similarity with no input ['maybebecause', 'and']\n",
            "WARNING:root:cannot compute similarity with no input ['tesg']\n",
            "WARNING:root:cannot compute similarity with no input ['yayyayyayayyayayyayyayyay']\n",
            "WARNING:root:cannot compute similarity with no input ['loveeeeeeeee']\n",
            "WARNING:root:cannot compute similarity with no input ['bira']\n",
            "WARNING:root:cannot compute similarity with no input ['unyieldly']\n",
            "WARNING:root:cannot compute similarity with no input ['yeahgood', 'pizzatasty']\n",
            "WARNING:root:cannot compute similarity with no input ['tima', 'tamb']\n",
            "WARNING:root:cannot compute similarity with no input ['isnt']\n",
            "WARNING:root:cannot compute similarity with no input ['ergew']\n",
            "WARNING:root:cannot compute similarity with no input ['uscht']\n",
            "WARNING:root:cannot compute similarity with no input ['yelpcombizphotospycl']\n",
            "WARNING:root:cannot compute similarity with no input ['diterran']\n",
            "WARNING:root:cannot compute similarity with no input ['deeeeericious']\n",
            "WARNING:root:cannot compute similarity with no input ['deelicious']\n",
            "WARNING:root:cannot compute similarity with no input ['llningar', 'rekommderas', 'varmt']\n",
            "WARNING:root:cannot compute similarity with no input ['outoftown']\n",
            "WARNING:root:cannot compute similarity with no input ['roommatenonyelper']\n",
            "WARNING:root:cannot compute similarity with no input ['tesg']\n",
            "WARNING:root:cannot compute similarity with no input ['orfefjrlfkldskfldsjfklsdfjsdkljfkl', 'baaaaaggggggg']\n",
            "WARNING:root:cannot compute similarity with no input ['awesom']\n",
            "WARNING:root:cannot compute similarity with no input ['whateves']\n",
            "WARNING:root:cannot compute similarity with no input ['mning']\n",
            "WARNING:root:cannot compute similarity with no input ['prisv']\n",
            "WARNING:root:cannot compute similarity with no input ['foresti']\n",
            "WARNING:root:cannot compute similarity with no input ['oishi', 'kauai', 'yuuuum']\n",
            "WARNING:root:cannot compute similarity with no input ['manhattannever']\n",
            "WARNING:root:cannot compute similarity with no input ['yelpcomuserlocalphot']\n",
            "WARNING:root:cannot compute similarity with no input ['shopkickbarcodesscomsh']\n",
            "WARNING:root:cannot compute similarity with no input ['triskell']\n",
            "WARNING:root:cannot compute similarity with no input ['stopusing', 'truffleoil']\n",
            "WARNING:root:cannot compute similarity with no input ['yelpcomuserlocalphot']\n",
            "WARNING:root:cannot compute similarity with no input ['tesdurh']\n",
            "WARNING:root:cannot compute similarity with no input ['jezebelcombad']\n",
            "WARNING:root:cannot compute similarity with no input ['byob']\n",
            "WARNING:root:cannot compute similarity with no input ['prisv']\n",
            "WARNING:root:cannot compute similarity with no input ['foresti']\n",
            "WARNING:root:cannot compute similarity with no input ['yayyayyayayyayayyayyayyay']\n",
            "WARNING:root:cannot compute similarity with no input ['yayyayyayayyayayyayyayyay']\n",
            "WARNING:root:cannot compute similarity with no input ['vimeocomuser', 'premierodessacomua']\n",
            "WARNING:root:cannot compute similarity with no input ['didnt']\n",
            "WARNING:root:cannot compute similarity with no input ['perfeita', 'defini']\n",
            "WARNING:root:cannot compute similarity with no input ['cialit']\n",
            "WARNING:root:cannot compute similarity with no input ['xvartha']\n",
            "WARNING:root:cannot compute similarity with no input ['wajima']\n",
            "WARNING:root:cannot compute similarity with no input ['despa']\n",
            "WARNING:root:cannot compute similarity with no input ['xvartha']\n",
            "WARNING:root:cannot compute similarity with no input ['blissfiul']\n",
            "WARNING:root:cannot compute similarity with no input ['foresti']\n",
            "WARNING:root:cannot compute similarity with no input ['culin']\n",
            "WARNING:root:cannot compute similarity with no input ['mning']\n",
            "WARNING:root:cannot compute similarity with no input ['lateniteafterpartyingsoakupallthecrapyou']\n",
            "WARNING:root:cannot compute similarity with no input ['ummmazingg']\n",
            "WARNING:root:cannot compute similarity with no input ['loveeeeeeeeeeeeeee']\n",
            "WARNING:root:cannot compute similarity with no input ['roommatenonyelper']\n",
            "WARNING:root:cannot compute similarity with no input ['thenyall']\n",
            "WARNING:root:cannot compute similarity with no input ['ssimos']\n",
            "WARNING:root:cannot compute similarity with no input ['jezebelcombad']\n",
            "WARNING:root:cannot compute similarity with no input ['yammi']\n",
            "WARNING:root:cannot compute similarity with no input ['yumyum']\n",
            "WARNING:root:cannot compute similarity with no input ['awesomeeeeee']\n",
            "WARNING:root:cannot compute similarity with no input ['yummmm']\n",
            "WARNING:root:cannot compute similarity with no input ['kkkkkkkkkkkkkkkkkkeeeeeeeeeeeeeeeeeppppppppppppppp']\n",
            "WARNING:root:cannot compute similarity with no input ['foresti']\n",
            "WARNING:root:cannot compute similarity with no input ['jadore']\n",
            "WARNING:root:cannot compute similarity with no input ['shopkickbarcodesscomsh']\n",
            "WARNING:root:cannot compute similarity with no input ['grrrreat', 'brrrunch']\n",
            "WARNING:root:cannot compute similarity with no input ['kkkkkkkkkkkkkkkkkkeeeeeeeeeeeeeeeeeppppppppppppppp']\n",
            "WARNING:root:cannot compute similarity with no input ['loveeeeeeeeeeeeeee']\n",
            "WARNING:root:cannot compute similarity with no input ['taire', 'passionn']\n",
            "WARNING:root:cannot compute similarity with no input ['tima', 'tamb']\n",
            "WARNING:root:cannot compute similarity with no input ['pricenext']\n",
            "WARNING:root:cannot compute similarity with no input ['tait']\n",
            "WARNING:root:cannot compute similarity with no input ['jezebelcombad']\n",
            "WARNING:root:cannot compute similarity with no input ['yelpcombizkatagirija']\n",
            "WARNING:root:cannot compute similarity with no input ['saigon']\n",
            "WARNING:root:cannot compute similarity with no input ['triskell']\n",
            "WARNING:root:cannot compute similarity with no input ['farmstaticflickrcom']\n",
            "WARNING:root:cannot compute similarity with no input ['ssimos']\n",
            "WARNING:root:cannot compute similarity with no input ['ttre']\n",
            "WARNING:root:cannot compute similarity with no input ['simo', 'tambi']\n",
            "WARNING:root:cannot compute similarity with no input ['roommatenonyelper']\n",
            "WARNING:root:cannot compute similarity with no input ['tait', 'fabuleux']\n",
            "WARNING:root:cannot compute similarity with no input ['didnt']\n",
            "WARNING:root:cannot compute similarity with no input ['ladur']\n",
            "WARNING:root:cannot compute similarity with no input ['heavanly']\n",
            "WARNING:root:cannot compute similarity with no input ['didnt']\n",
            "WARNING:root:cannot compute similarity with no input ['feedingumicomp']\n",
            "WARNING:root:cannot compute similarity with no input ['awasome']\n",
            "WARNING:root:cannot compute similarity with no input ['didnt']\n",
            "WARNING:root:cannot compute similarity with no input ['loveeeeeeeeeeeeeee']\n",
            "WARNING:root:cannot compute similarity with no input ['triskell']\n",
            "WARNING:root:cannot compute similarity with no input ['jezebelcombad']\n",
            "WARNING:root:cannot compute similarity with no input ['jadore']\n",
            "WARNING:root:cannot compute similarity with no input ['terv']\n",
            "WARNING:root:cannot compute similarity with no input ['ssimos']\n",
            "WARNING:root:cannot compute similarity with no input ['didnt']\n",
            "WARNING:root:cannot compute similarity with no input ['yelpcomuserlocalphot']\n",
            "WARNING:root:cannot compute similarity with no input ['mediatumblrcomtumblr']\n",
            "WARNING:root:cannot compute similarity with no input ['oishii']\n",
            "WARNING:root:cannot compute similarity with no input ['awesom']\n",
            "WARNING:root:cannot compute similarity with no input ['yelpcomuserlocalphot']\n",
            "WARNING:root:cannot compute similarity with no input ['raisonnable']\n",
            "WARNING:root:cannot compute similarity with no input ['okayy']\n",
            "WARNING:root:cannot compute similarity with no input ['ribsomg']\n",
            "WARNING:root:cannot compute similarity with no input ['foresti']\n",
            "WARNING:root:cannot compute similarity with no input ['byob']\n",
            "WARNING:root:cannot compute similarity with no input ['reviewerorderthenotsospecialskirtsteak']\n",
            "WARNING:root:cannot compute similarity with no input ['sittingwithpolitecompanyicantbutoofgirl']\n",
            "WARNING:root:cannot compute similarity with no input ['tesg']\n",
            "WARNING:root:cannot compute similarity with no input ['deeeeericious']\n",
            "WARNING:root:cannot compute similarity with no input ['foodbyskylertumblrcom']\n",
            "WARNING:root:cannot compute similarity with no input ['espa']\n",
            "WARNING:root:cannot compute similarity with no input ['yeahhhhhhhh', 'boiiiiiiiiiiiiii']\n",
            "WARNING:root:cannot compute similarity with no input ['chipotleasiagoacaitoscana']\n",
            "WARNING:root:cannot compute similarity with no input ['infuckincredible']\n",
            "WARNING:root:cannot compute similarity with no input ['deelicious']\n",
            "WARNING:root:cannot compute similarity with no input ['despu']\n",
            "WARNING:root:cannot compute similarity with no input ['thenyall']\n",
            "WARNING:root:cannot compute similarity with no input ['beauituful']\n",
            "WARNING:root:cannot compute similarity with no input ['didnt']\n",
            "WARNING:root:cannot compute similarity with no input ['triskell']\n",
            "WARNING:root:cannot compute similarity with no input ['loveeeeeeeeeeeeeee']\n",
            "WARNING:root:cannot compute similarity with no input ['yeahgood', 'pizzatasty']\n",
            "WARNING:root:cannot compute similarity with no input ['loign']\n",
            "WARNING:root:cannot compute similarity with no input ['okayy']\n",
            "WARNING:root:cannot compute similarity with no input ['and', 'sobakoh', 'yelpcombizsobakohnew']\n",
            "WARNING:root:cannot compute similarity with no input ['prisv']\n",
            "WARNING:root:cannot compute similarity with no input ['awasome']\n",
            "WARNING:root:cannot compute similarity with no input ['foodbyskylertumblrcom']\n",
            "WARNING:root:cannot compute similarity with no input ['yumm']\n",
            "WARNING:root:cannot compute similarity with no input ['foresti']\n",
            "WARNING:root:cannot compute similarity with no input ['americain']\n",
            "WARNING:root:cannot compute similarity with no input ['byob']\n",
            "WARNING:root:cannot compute similarity with no input ['touff']\n",
            "WARNING:root:cannot compute similarity with no input ['loooooved', 'teque']\n",
            "WARNING:root:cannot compute similarity with no input ['eeeeeeeeeeeeee']\n",
            "WARNING:root:cannot compute similarity with no input ['ergew']\n",
            "WARNING:root:cannot compute similarity with no input ['and']\n",
            "WARNING:root:cannot compute similarity with no input ['harmoniza']\n",
            "WARNING:root:cannot compute similarity with no input ['llningar', 'rekommderas', 'varmt']\n",
            "WARNING:root:cannot compute similarity with no input ['trendycrowdandwedontgiveadmnifyoueat']\n",
            "WARNING:root:cannot compute similarity with no input ['tait']\n",
            "WARNING:root:cannot compute similarity with no input ['yelpcombizphotosaxl']\n",
            "WARNING:root:cannot compute similarity with no input ['delious']\n",
            "WARNING:root:cannot compute similarity with no input ['manhatten']\n",
            "WARNING:root:cannot compute similarity with no input ['shopkickbarcodesscomsh']\n",
            "WARNING:root:cannot compute similarity with no input ['ssimos']\n",
            "WARNING:root:cannot compute similarity with no input ['diterran']\n",
            "WARNING:root:cannot compute similarity with no input ['urv']\n",
            "WARNING:root:cannot compute similarity with no input ['ssimos']\n",
            "WARNING:root:cannot compute similarity with no input ['diterran']\n",
            "WARNING:root:cannot compute similarity with no input ['meetupcomfaunnjevents']\n",
            "WARNING:root:cannot compute similarity with no input ['xvartha']\n",
            "WARNING:root:cannot compute similarity with no input ['nicos']\n",
            "WARNING:root:cannot compute similarity with no input ['whateves']\n",
            "WARNING:root:cannot compute similarity with no input ['tima', 'tamb']\n",
            "WARNING:root:cannot compute similarity with no input ['sser']\n",
            "WARNING:root:cannot compute similarity with no input ['yeahgood', 'pizzatasty']\n",
            "WARNING:root:cannot compute similarity with no input ['mmmmmmmmm']\n",
            "WARNING:root:cannot compute similarity with no input ['manhatten']\n",
            "WARNING:root:cannot compute similarity with no input ['henri']\n",
            "WARNING:root:cannot compute similarity with no input ['wheatfalafeleverythingspicydelicious']\n",
            "WARNING:root:cannot compute similarity with no input ['complaintsboardcomcomp']\n",
            "WARNING:root:cannot compute similarity with no input ['amazingggggg']\n",
            "WARNING:root:cannot compute similarity with no input ['urv']\n",
            "WARNING:root:cannot compute similarity with no input ['bestmealever']\n",
            "WARNING:root:cannot compute similarity with no input ['yumyum']\n",
            "WARNING:root:cannot compute similarity with no input ['foodbyskylertumblrcom']\n",
            "WARNING:root:cannot compute similarity with no input ['aaaaaaaaaaaaaaaaaaaaaaaaaaaaaaaaaaa']\n",
            "WARNING:root:cannot compute similarity with no input ['yumm']\n",
            "WARNING:root:cannot compute similarity with no input ['loign']\n",
            "WARNING:root:cannot compute similarity with no input ['nskem']\n",
            "WARNING:root:cannot compute similarity with no input ['amazingggggg']\n",
            "WARNING:root:cannot compute similarity with no input ['didnt']\n",
            "WARNING:root:cannot compute similarity with no input ['shopkickbarcodesscomsh']\n",
            "WARNING:root:cannot compute similarity with no input ['jadore']\n",
            "WARNING:root:cannot compute similarity with no input ['bombcom']\n",
            "WARNING:root:cannot compute similarity with no input ['manhatten']\n",
            "WARNING:root:cannot compute similarity with no input ['prisv']\n",
            "WARNING:root:cannot compute similarity with no input ['lsch']\n",
            "WARNING:root:cannot compute similarity with no input ['yumm']\n",
            "WARNING:root:cannot compute similarity with no input ['consumeraffairscompets']\n",
            "WARNING:root:cannot compute similarity with no input ['yelpcombizphotosiy']\n",
            "WARNING:root:cannot compute similarity with no input ['mustfindcomprablewafflein']\n",
            "WARNING:root:cannot compute similarity with no input ['mning']\n",
            "WARNING:root:cannot compute similarity with no input ['amazingggggg']\n",
            "WARNING:root:cannot compute similarity with no input ['foresti']\n",
            "WARNING:root:cannot compute similarity with no input ['whateves']\n",
            "WARNING:root:cannot compute similarity with no input ['yayyayyayayyayayyayyayyay']\n",
            "WARNING:root:cannot compute similarity with no input ['muhahahahaha']\n",
            "WARNING:root:cannot compute similarity with no input ['triskell']\n",
            "WARNING:root:cannot compute similarity with no input ['youtubecomwatchvebvk']\n",
            "WARNING:root:cannot compute similarity with no input ['isnt']\n",
            "WARNING:root:cannot compute similarity with no input ['delisshhhhhh']\n",
            "WARNING:root:cannot compute similarity with no input ['aiiiiiiight']\n",
            "WARNING:root:cannot compute similarity with no input ['foresti']\n",
            "WARNING:root:cannot compute similarity with no input ['jadore']\n",
            "WARNING:root:cannot compute similarity with no input ['nahh']\n",
            "WARNING:root:cannot compute similarity with no input ['consumeraffairscompets']\n",
            "WARNING:root:cannot compute similarity with no input ['loveeeeeeeeeeeeeee']\n",
            "WARNING:root:cannot compute similarity with no input ['grrrreat', 'brrrunch']\n",
            "WARNING:root:cannot compute similarity with no input ['cialit']\n",
            "WARNING:root:cannot compute similarity with no input ['perfeita', 'defini']\n",
            "WARNING:root:cannot compute similarity with no input ['isnt']\n",
            "WARNING:root:cannot compute similarity with no input ['vimeocomuser', 'premierodessacomua']\n",
            "WARNING:root:cannot compute similarity with no input ['momokawa', 'yelpcombizmomokawane']\n",
            "WARNING:root:cannot compute similarity with no input ['urv']\n",
            "WARNING:root:cannot compute similarity with no input ['despu']\n",
            "WARNING:root:cannot compute similarity with no input ['blehhh']\n",
            "WARNING:root:cannot compute similarity with no input ['yumm']\n",
            "WARNING:root:cannot compute similarity with no input ['foresti']\n",
            "WARNING:root:cannot compute similarity with no input ['pooofffff']\n",
            "WARNING:root:cannot compute similarity with no input ['yelpcombizphotosggi']\n",
            "WARNING:root:cannot compute similarity with no input ['amazingggggg']\n",
            "WARNING:root:cannot compute similarity with no input ['triskell']\n",
            "WARNING:root:cannot compute similarity with no input ['ssimos']\n",
            "WARNING:root:cannot compute similarity with no input ['tesg']\n",
            "WARNING:root:cannot compute similarity with no input ['perfeita', 'defini']\n",
            "WARNING:root:cannot compute similarity with no input ['ssimos']\n",
            "WARNING:root:cannot compute similarity with no input ['simo', 'tambi']\n",
            "WARNING:root:cannot compute similarity with no input ['ladur']\n",
            "WARNING:root:cannot compute similarity with no input ['bogot']\n",
            "WARNING:root:cannot compute similarity with no input ['tzle']\n",
            "WARNING:root:cannot compute similarity with no input ['superfatty']\n",
            "WARNING:root:cannot compute similarity with no input ['superfatty']\n",
            "WARNING:root:cannot compute similarity with no input ['amazingggggg']\n",
            "WARNING:root:cannot compute similarity with no input ['cafeter']\n",
            "WARNING:root:cannot compute similarity with no input ['llningar', 'rekommderas', 'varmt']\n",
            "WARNING:root:cannot compute similarity with no input ['cialit']\n",
            "WARNING:root:cannot compute similarity with no input ['aaaaaaaaaaaaaaaaaaaaaaaaaaaaaaaaaaa']\n",
            "WARNING:root:cannot compute similarity with no input ['ghia']\n",
            "WARNING:root:cannot compute similarity with no input ['ladur']\n",
            "WARNING:root:cannot compute similarity with no input ['yessss']\n",
            "WARNING:root:cannot compute similarity with no input ['yelpcombizhudsonfala']\n",
            "WARNING:root:cannot compute similarity with no input ['ummmazingg']\n",
            "WARNING:root:cannot compute similarity with no input ['touff']\n",
            "WARNING:root:cannot compute similarity with no input ['jezebelcombad']\n",
            "WARNING:root:cannot compute similarity with no input ['maybebecause', 'and']\n",
            "WARNING:root:cannot compute similarity with no input ['yelpcombiztottoramen']\n",
            "WARNING:root:cannot compute similarity with no input ['harmoniza']\n",
            "WARNING:root:cannot compute similarity with no input ['ssimos']\n",
            "WARNING:root:cannot compute similarity with no input ['miyor']\n",
            "WARNING:root:cannot compute similarity with no input ['ladur']\n",
            "WARNING:root:cannot compute similarity with no input ['okayy']\n",
            "WARNING:root:cannot compute similarity with no input ['delisshhhhhh']\n",
            "WARNING:root:cannot compute similarity with no input ['yumyum']\n",
            "WARNING:root:cannot compute similarity with no input ['mustfindcomprablewafflein']\n",
            "WARNING:root:cannot compute similarity with no input ['yeahgood', 'pizzatasty']\n",
            "WARNING:root:cannot compute similarity with no input ['manhatten']\n",
            "WARNING:root:cannot compute similarity with no input ['arnaise']\n",
            "WARNING:root:cannot compute similarity with no input ['ccccccccccccccccccccccccccccccccccccccccccccccccc']\n",
            "WARNING:root:cannot compute similarity with no input ['fris']\n",
            "WARNING:root:cannot compute similarity with no input ['jezebelcombad']\n",
            "WARNING:root:cannot compute similarity with no input ['triskell']\n",
            "WARNING:root:cannot compute similarity with no input ['oishii']\n",
            "WARNING:root:cannot compute similarity with no input ['raisonnable']\n",
            "WARNING:root:cannot compute similarity with no input ['freshdeliciousword']\n",
            "WARNING:root:cannot compute similarity with no input ['urv']\n",
            "WARNING:root:cannot compute similarity with no input ['isnt']\n",
            "WARNING:root:cannot compute similarity with no input ['nicos']\n",
            "WARNING:root:cannot compute similarity with no input ['loren', 'ipusum', 'loren', 'ipusum', 'loren', 'ipusum']\n",
            "WARNING:root:cannot compute similarity with no input ['diterran']\n",
            "WARNING:root:cannot compute similarity with no input ['complaintsboardcomcomp']\n",
            "WARNING:root:cannot compute similarity with no input ['foodbyskylertumblrcom']\n",
            "WARNING:root:cannot compute similarity with no input ['isnt']\n",
            "WARNING:root:cannot compute similarity with no input ['facebookcomthefoodieni']\n",
            "WARNING:root:cannot compute similarity with no input ['ohsoworthit']\n",
            "WARNING:root:cannot compute similarity with no input ['yelpcomuserlocalphot']\n",
            "WARNING:root:cannot compute similarity with no input ['diterran']\n",
            "WARNING:root:cannot compute similarity with no input ['touff']\n",
            "WARNING:root:cannot compute similarity with no input ['loign']\n",
            "WARNING:root:cannot compute similarity with no input ['ergew']\n",
            "WARNING:root:cannot compute similarity with no input ['soso']\n",
            "WARNING:root:cannot compute similarity with no input ['bombb']\n",
            "WARNING:root:cannot compute similarity with no input ['tesdurh']\n",
            "WARNING:root:cannot compute similarity with no input ['aboutnothing']\n",
            "WARNING:root:cannot compute similarity with no input ['awasome']\n",
            "WARNING:root:cannot compute similarity with no input ['ippudo']\n",
            "WARNING:root:cannot compute similarity with no input ['amazzzzzzing']\n",
            "WARNING:root:cannot compute similarity with no input ['consumeraffairscompets']\n",
            "WARNING:root:cannot compute similarity with no input ['touff']\n",
            "WARNING:root:cannot compute similarity with no input ['boringmaccomhe']\n",
            "WARNING:root:cannot compute similarity with no input ['anyho']\n",
            "WARNING:root:cannot compute similarity with no input ['deeeeericious']\n",
            "WARNING:root:cannot compute similarity with no input ['farmstaticflickrcom']\n"
          ],
          "name": "stderr"
        }
      ]
    },
    {
      "cell_type": "code",
      "metadata": {
        "id": "_BgZRnFph12z",
        "colab_type": "code",
        "colab": {
          "base_uri": "https://localhost:8080/",
          "height": 153
        },
        "outputId": "6ac6ad17-c33f-4d4a-e45f-0ad460eaa1f5"
      },
      "source": [
        "from sklearn.linear_model import LogisticRegression\n",
        "logreg = LogisticRegression(n_jobs=1, C=1e5)\n",
        "logreg = logreg.fit(X_train_word_average, train['label'])\n",
        "y_pred = logreg.predict(X_test_word_average)"
      ],
      "execution_count": null,
      "outputs": [
        {
          "output_type": "stream",
          "text": [
            "/usr/local/lib/python3.6/dist-packages/sklearn/linear_model/_logistic.py:940: ConvergenceWarning: lbfgs failed to converge (status=1):\n",
            "STOP: TOTAL NO. of ITERATIONS REACHED LIMIT.\n",
            "\n",
            "Increase the number of iterations (max_iter) or scale the data as shown in:\n",
            "    https://scikit-learn.org/stable/modules/preprocessing.html\n",
            "Please also refer to the documentation for alternative solver options:\n",
            "    https://scikit-learn.org/stable/modules/linear_model.html#logistic-regression\n",
            "  extra_warning_msg=_LOGISTIC_SOLVER_CONVERGENCE_MSG)\n"
          ],
          "name": "stderr"
        }
      ]
    },
    {
      "cell_type": "code",
      "metadata": {
        "id": "U90QnX_TiGOF",
        "colab_type": "code",
        "colab": {
          "base_uri": "https://localhost:8080/",
          "height": 187
        },
        "outputId": "a3f6ff72-b0e9-4c8d-8590-e8ec277fb07c"
      },
      "source": [
        "print('accuracy %s' % accuracy_score(y_pred, test.label))\n",
        "print(classification_report(test.label, y_pred,target_names=my_labels))"
      ],
      "execution_count": null,
      "outputs": [
        {
          "output_type": "stream",
          "text": [
            "accuracy 0.60125\n",
            "              precision    recall  f1-score   support\n",
            "\n",
            "        FAKE       0.60      0.58      0.59     29851\n",
            "        REAL       0.60      0.62      0.61     30149\n",
            "\n",
            "    accuracy                           0.60     60000\n",
            "   macro avg       0.60      0.60      0.60     60000\n",
            "weighted avg       0.60      0.60      0.60     60000\n",
            "\n"
          ],
          "name": "stdout"
        }
      ]
    },
    {
      "cell_type": "markdown",
      "metadata": {
        "id": "V5uMZ0q3ihe5",
        "colab_type": "text"
      },
      "source": [
        "# Doc2vec and Logistic Regression\n",
        "\n",
        "word2vec can be extended to documents and this is a Doc2vec"
      ]
    },
    {
      "cell_type": "code",
      "metadata": {
        "id": "HcSz2mLHitYk",
        "colab_type": "code",
        "colab": {}
      },
      "source": [
        "from tqdm import tqdm\n",
        "tqdm.pandas(desc=\"progress-bar\")\n",
        "from gensim.models import Doc2Vec\n",
        "from sklearn import utils\n",
        "import gensim\n",
        "from gensim.models.doc2vec import TaggedDocument\n",
        "import re"
      ],
      "execution_count": null,
      "outputs": []
    },
    {
      "cell_type": "code",
      "metadata": {
        "id": "GiPD9hSkiwaE",
        "colab_type": "code",
        "colab": {}
      },
      "source": [
        "def label_sentences(corpus, label_type):\n",
        "    \"\"\"\n",
        "    Gensim's Doc2Vec implementation requires each document/paragraph to have a label associated with it.\n",
        "    We do this by using the TaggedDocument method. The format will be \"TRAIN_i\" or \"TEST_i\" where \"i\" is\n",
        "    a dummy index of the post.\n",
        "    \"\"\"\n",
        "    labeled = []\n",
        "    for i, v in enumerate(corpus):\n",
        "        label = label_type + '_' + str(i)\n",
        "        labeled.append(gensim.models.doc2vec.TaggedDocument(v.split(), [label]))\n",
        "    return labeled"
      ],
      "execution_count": null,
      "outputs": []
    },
    {
      "cell_type": "code",
      "metadata": {
        "id": "_2vOgY8Iiyu_",
        "colab_type": "code",
        "colab": {}
      },
      "source": [
        "X_train, X_test, y_train, y_test = train_test_split(df.text, df.label, random_state=0, test_size=0.3)\n",
        "X_train = label_sentences(X_train, 'Train')\n",
        "X_test = label_sentences(X_test, 'Test')\n",
        "all_data = X_train + X_test"
      ],
      "execution_count": null,
      "outputs": []
    },
    {
      "cell_type": "code",
      "metadata": {
        "id": "E2zFI2cMi3ec",
        "colab_type": "code",
        "colab": {
          "base_uri": "https://localhost:8080/",
          "height": 51
        },
        "outputId": "7e9fe9b2-98d1-49cd-874c-374aa4c00b60"
      },
      "source": [
        "all_data[:2]"
      ],
      "execution_count": null,
      "outputs": [
        {
          "output_type": "execute_result",
          "data": {
            "text/plain": [
              "[TaggedDocument(words=['great', 'pizza'], tags=['Train_0']),\n",
              " TaggedDocument(words=['grill', 'cheese', 'tomato', 'soup', 'loved', 'never', 'bronx', 'pale', 'ale', 'came'], tags=['Train_1'])]"
            ]
          },
          "metadata": {
            "tags": []
          },
          "execution_count": 72
        }
      ]
    },
    {
      "cell_type": "code",
      "metadata": {
        "id": "P5tgU8Fji62Z",
        "colab_type": "code",
        "colab": {
          "base_uri": "https://localhost:8080/",
          "height": 34
        },
        "outputId": "b6ffc43b-4555-4e75-96bb-5c90da09b2a6"
      },
      "source": [
        "model_dbow = Doc2Vec(dm=0, vector_size=300, negative=5, min_count=1, alpha=0.065, min_alpha=0.065)\n",
        "model_dbow.build_vocab([x for x in tqdm(all_data)])"
      ],
      "execution_count": null,
      "outputs": [
        {
          "output_type": "stream",
          "text": [
            "100%|██████████| 200000/200000 [00:00<00:00, 2597084.22it/s]\n"
          ],
          "name": "stderr"
        }
      ]
    },
    {
      "cell_type": "code",
      "metadata": {
        "id": "u-xb-K9Bi_DP",
        "colab_type": "code",
        "colab": {
          "base_uri": "https://localhost:8080/",
          "height": 527
        },
        "outputId": "462e71ea-5ed9-45c3-98ca-272b9f72161f"
      },
      "source": [
        "for epoch in range(30):\n",
        "    model_dbow.train(utils.shuffle([x for x in tqdm(all_data)]), total_examples=len(all_data), epochs=1)\n",
        "    model_dbow.alpha -= 0.002\n",
        "    model_dbow.min_alpha = model_dbow.alpha"
      ],
      "execution_count": null,
      "outputs": [
        {
          "output_type": "stream",
          "text": [
            "100%|██████████| 200000/200000 [00:00<00:00, 2832152.12it/s]\n",
            "100%|██████████| 200000/200000 [00:00<00:00, 2991028.28it/s]\n",
            "100%|██████████| 200000/200000 [00:00<00:00, 2957119.24it/s]\n",
            "100%|██████████| 200000/200000 [00:00<00:00, 2641706.84it/s]\n",
            "100%|██████████| 200000/200000 [00:00<00:00, 2555305.50it/s]\n",
            "100%|██████████| 200000/200000 [00:00<00:00, 2992191.19it/s]\n",
            "100%|██████████| 200000/200000 [00:00<00:00, 2968052.93it/s]\n",
            "100%|██████████| 200000/200000 [00:00<00:00, 2905829.94it/s]\n",
            "100%|██████████| 200000/200000 [00:00<00:00, 2920407.60it/s]\n",
            "100%|██████████| 200000/200000 [00:00<00:00, 2848472.13it/s]\n",
            "100%|██████████| 200000/200000 [00:00<00:00, 2965125.89it/s]\n",
            "100%|██████████| 200000/200000 [00:00<00:00, 3019907.34it/s]\n",
            "100%|██████████| 200000/200000 [00:00<00:00, 2826950.46it/s]\n",
            "100%|██████████| 200000/200000 [00:00<00:00, 2660566.96it/s]\n",
            "100%|██████████| 200000/200000 [00:00<00:00, 3053156.30it/s]\n",
            "100%|██████████| 200000/200000 [00:00<00:00, 3073864.88it/s]\n",
            "100%|██████████| 200000/200000 [00:00<00:00, 3041466.53it/s]\n",
            "100%|██████████| 200000/200000 [00:00<00:00, 2468878.73it/s]\n",
            "100%|██████████| 200000/200000 [00:00<00:00, 2873470.28it/s]\n",
            "100%|██████████| 200000/200000 [00:00<00:00, 3062821.26it/s]\n",
            "100%|██████████| 200000/200000 [00:00<00:00, 3053656.44it/s]\n",
            "100%|██████████| 200000/200000 [00:00<00:00, 3051534.75it/s]\n",
            "100%|██████████| 200000/200000 [00:00<00:00, 2715093.77it/s]\n",
            "100%|██████████| 200000/200000 [00:00<00:00, 2598387.43it/s]\n",
            "100%|██████████| 200000/200000 [00:00<00:00, 2975749.47it/s]\n",
            "100%|██████████| 200000/200000 [00:00<00:00, 2899021.29it/s]\n",
            "100%|██████████| 200000/200000 [00:00<00:00, 2875272.66it/s]\n",
            "100%|██████████| 200000/200000 [00:00<00:00, 3044778.37it/s]\n",
            "100%|██████████| 200000/200000 [00:00<00:00, 2999788.30it/s]\n",
            "100%|██████████| 200000/200000 [00:00<00:00, 2813062.29it/s]\n"
          ],
          "name": "stderr"
        }
      ]
    },
    {
      "cell_type": "code",
      "metadata": {
        "id": "bWWLyl84jBx4",
        "colab_type": "code",
        "colab": {}
      },
      "source": [
        "def get_vectors(model, corpus_size, vectors_size, vectors_type):\n",
        "    \"\"\"\n",
        "    Get vectors from trained doc2vec model\n",
        "    :param doc2vec_model: Trained Doc2Vec model\n",
        "    :param corpus_size: Size of the data\n",
        "    :param vectors_size: Size of the embedding vectors\n",
        "    :param vectors_type: Training or Testing vectors\n",
        "    :return: list of vectors\n",
        "    \"\"\"\n",
        "    vectors = np.zeros((corpus_size, vectors_size))\n",
        "    for i in range(0, corpus_size):\n",
        "        prefix = vectors_type + '_' + str(i)\n",
        "        vectors[i] = model.docvecs[prefix]\n",
        "    return vectors"
      ],
      "execution_count": null,
      "outputs": []
    },
    {
      "cell_type": "code",
      "metadata": {
        "id": "07JPfndyjDCQ",
        "colab_type": "code",
        "colab": {}
      },
      "source": [
        "train_vectors_dbow = get_vectors(model_dbow, len(X_train), 300, 'Train')\n",
        "test_vectors_dbow = get_vectors(model_dbow, len(X_test), 300, 'Test')"
      ],
      "execution_count": null,
      "outputs": []
    },
    {
      "cell_type": "code",
      "metadata": {
        "id": "JzbCLPqzjG3q",
        "colab_type": "code",
        "colab": {
          "base_uri": "https://localhost:8080/",
          "height": 238
        },
        "outputId": "9ce6eaea-b5ee-4d1f-9194-760f625bc8e6"
      },
      "source": [
        "logreg = LogisticRegression(n_jobs=1, C=1e5)\n",
        "logreg.fit(train_vectors_dbow, y_train)"
      ],
      "execution_count": null,
      "outputs": [
        {
          "output_type": "stream",
          "text": [
            "/usr/local/lib/python3.6/dist-packages/sklearn/linear_model/_logistic.py:940: ConvergenceWarning: lbfgs failed to converge (status=1):\n",
            "STOP: TOTAL NO. of ITERATIONS REACHED LIMIT.\n",
            "\n",
            "Increase the number of iterations (max_iter) or scale the data as shown in:\n",
            "    https://scikit-learn.org/stable/modules/preprocessing.html\n",
            "Please also refer to the documentation for alternative solver options:\n",
            "    https://scikit-learn.org/stable/modules/linear_model.html#logistic-regression\n",
            "  extra_warning_msg=_LOGISTIC_SOLVER_CONVERGENCE_MSG)\n"
          ],
          "name": "stderr"
        },
        {
          "output_type": "execute_result",
          "data": {
            "text/plain": [
              "LogisticRegression(C=100000.0, class_weight=None, dual=False,\n",
              "                   fit_intercept=True, intercept_scaling=1, l1_ratio=None,\n",
              "                   max_iter=100, multi_class='auto', n_jobs=1, penalty='l2',\n",
              "                   random_state=None, solver='lbfgs', tol=0.0001, verbose=0,\n",
              "                   warm_start=False)"
            ]
          },
          "metadata": {
            "tags": []
          },
          "execution_count": 77
        }
      ]
    },
    {
      "cell_type": "code",
      "metadata": {
        "id": "dpjmQv9jjH8j",
        "colab_type": "code",
        "colab": {
          "base_uri": "https://localhost:8080/",
          "height": 153
        },
        "outputId": "d8492bdd-1519-4811-edab-da46c0196aa8"
      },
      "source": [
        "logreg = logreg.fit(train_vectors_dbow, y_train)\n",
        "y_pred = logreg.predict(test_vectors_dbow)"
      ],
      "execution_count": null,
      "outputs": [
        {
          "output_type": "stream",
          "text": [
            "/usr/local/lib/python3.6/dist-packages/sklearn/linear_model/_logistic.py:940: ConvergenceWarning: lbfgs failed to converge (status=1):\n",
            "STOP: TOTAL NO. of ITERATIONS REACHED LIMIT.\n",
            "\n",
            "Increase the number of iterations (max_iter) or scale the data as shown in:\n",
            "    https://scikit-learn.org/stable/modules/preprocessing.html\n",
            "Please also refer to the documentation for alternative solver options:\n",
            "    https://scikit-learn.org/stable/modules/linear_model.html#logistic-regression\n",
            "  extra_warning_msg=_LOGISTIC_SOLVER_CONVERGENCE_MSG)\n"
          ],
          "name": "stderr"
        }
      ]
    },
    {
      "cell_type": "code",
      "metadata": {
        "id": "Nz2hMr3OjKHT",
        "colab_type": "code",
        "colab": {
          "base_uri": "https://localhost:8080/",
          "height": 187
        },
        "outputId": "1f2adf44-2f39-43a2-a26b-493e5d7b5b10"
      },
      "source": [
        "print('accuracy %s' % accuracy_score(y_pred, y_test))\n",
        "print(classification_report(y_test, y_pred,target_names=my_labels))"
      ],
      "execution_count": null,
      "outputs": [
        {
          "output_type": "stream",
          "text": [
            "accuracy 0.6062166666666666\n",
            "              precision    recall  f1-score   support\n",
            "\n",
            "        FAKE       0.61      0.59      0.60     29847\n",
            "        REAL       0.61      0.62      0.61     30153\n",
            "\n",
            "    accuracy                           0.61     60000\n",
            "   macro avg       0.61      0.61      0.61     60000\n",
            "weighted avg       0.61      0.61      0.61     60000\n",
            "\n"
          ],
          "name": "stdout"
        }
      ]
    },
    {
      "cell_type": "markdown",
      "metadata": {
        "id": "RkxoNv2ejU0Q",
        "colab_type": "text"
      },
      "source": [
        "# BOW with keras\n",
        "\n",
        "- Reference: https://github.com/tensorflow/workshops/blob/master/extras/keras-bag-of-words/keras-bow-model.ipynb"
      ]
    },
    {
      "cell_type": "code",
      "metadata": {
        "id": "MSNSKW1wjV8-",
        "colab_type": "code",
        "colab": {}
      },
      "source": [
        "import itertools\n",
        "import os\n",
        "\n",
        "%matplotlib inline\n",
        "import matplotlib.pyplot as plt\n",
        "import numpy as np\n",
        "import pandas as pd\n",
        "import tensorflow as tf\n",
        "\n",
        "from sklearn.preprocessing import LabelBinarizer, LabelEncoder\n",
        "from sklearn.metrics import confusion_matrix\n",
        "\n",
        "from tensorflow import keras\n",
        "from keras.models import Sequential\n",
        "from keras.layers import Dense, Activation, Dropout\n",
        "from keras.preprocessing import text, sequence\n",
        "from keras import utils"
      ],
      "execution_count": null,
      "outputs": []
    },
    {
      "cell_type": "code",
      "metadata": {
        "id": "1gBlPUfKjZBr",
        "colab_type": "code",
        "colab": {
          "base_uri": "https://localhost:8080/",
          "height": 51
        },
        "outputId": "9c9cf6fc-0981-4fc3-a953-c9ba38efac70"
      },
      "source": [
        "train_size = int(len(df) * .7)\n",
        "print (\"Train size: %d\" % train_size)\n",
        "print (\"Test size: %d\" % (len(df) - train_size))"
      ],
      "execution_count": null,
      "outputs": [
        {
          "output_type": "stream",
          "text": [
            "Train size: 140000\n",
            "Test size: 60000\n"
          ],
          "name": "stdout"
        }
      ]
    },
    {
      "cell_type": "code",
      "metadata": {
        "id": "yjRc9yWAjcFe",
        "colab_type": "code",
        "colab": {}
      },
      "source": [
        "train_texts = df['text'][:train_size]\n",
        "train_labels = df['label'][:train_size]\n",
        "\n",
        "test_texts = df['text'][train_size:]\n",
        "test_labels = df['label'][train_size:]"
      ],
      "execution_count": null,
      "outputs": []
    },
    {
      "cell_type": "code",
      "metadata": {
        "id": "-r1V7wPVjeQL",
        "colab_type": "code",
        "colab": {}
      },
      "source": [
        "max_words = 1000\n",
        "tokenize = text.Tokenizer(num_words=max_words, char_level=False)"
      ],
      "execution_count": null,
      "outputs": []
    },
    {
      "cell_type": "code",
      "metadata": {
        "id": "I0BrLQN9jf-s",
        "colab_type": "code",
        "colab": {}
      },
      "source": [
        "tokenize.fit_on_texts(train_texts) # only fit on train\n",
        "x_train = tokenize.texts_to_matrix(train_texts)\n",
        "x_test = tokenize.texts_to_matrix(test_texts)"
      ],
      "execution_count": null,
      "outputs": []
    },
    {
      "cell_type": "code",
      "metadata": {
        "id": "NucLTcj-jh4H",
        "colab_type": "code",
        "colab": {}
      },
      "source": [
        "encoder = LabelEncoder()\n",
        "encoder.fit(train_labels)\n",
        "y_train = encoder.transform(train_labels)\n",
        "y_test = encoder.transform(test_labels)"
      ],
      "execution_count": null,
      "outputs": []
    },
    {
      "cell_type": "code",
      "metadata": {
        "id": "-3qyIUuhjkjC",
        "colab_type": "code",
        "colab": {}
      },
      "source": [
        "num_classes = np.max(y_train) + 1\n",
        "y_train = utils.to_categorical(y_train, num_classes)\n",
        "y_test = utils.to_categorical(y_test, num_classes)"
      ],
      "execution_count": null,
      "outputs": []
    },
    {
      "cell_type": "code",
      "metadata": {
        "id": "5mg5zDHwjmNQ",
        "colab_type": "code",
        "colab": {
          "base_uri": "https://localhost:8080/",
          "height": 85
        },
        "outputId": "f76e01b3-bff3-4170-c9ef-f7190e9ee3b5"
      },
      "source": [
        "print('x_train shape:', x_train.shape)\n",
        "print('x_test shape:', x_test.shape)\n",
        "print('y_train shape:', y_train.shape)\n",
        "print('y_test shape:', y_test.shape)"
      ],
      "execution_count": null,
      "outputs": [
        {
          "output_type": "stream",
          "text": [
            "x_train shape: (140000, 1000)\n",
            "x_test shape: (60000, 1000)\n",
            "y_train shape: (140000, 2)\n",
            "y_test shape: (60000, 2)\n"
          ],
          "name": "stdout"
        }
      ]
    },
    {
      "cell_type": "code",
      "metadata": {
        "id": "ZWqWLJrfjpYe",
        "colab_type": "code",
        "colab": {}
      },
      "source": [
        "batch_size = 32\n",
        "epochs = 10"
      ],
      "execution_count": null,
      "outputs": []
    },
    {
      "cell_type": "code",
      "metadata": {
        "id": "pynOp_jWjqd5",
        "colab_type": "code",
        "colab": {}
      },
      "source": [
        "# Build the model\n",
        "model = Sequential()\n",
        "model.add(Dense(512, input_shape=(max_words,)))\n",
        "model.add(Activation('relu'))\n",
        "model.add(Dropout(0.5))\n",
        "model.add(Dense(num_classes))\n",
        "model.add(Activation('softmax'))\n",
        "\n",
        "model.compile(loss='categorical_crossentropy',\n",
        "              optimizer='adam',\n",
        "              metrics=['accuracy'])"
      ],
      "execution_count": null,
      "outputs": []
    },
    {
      "cell_type": "code",
      "metadata": {
        "id": "nA-RNiIRjsxp",
        "colab_type": "code",
        "colab": {
          "base_uri": "https://localhost:8080/",
          "height": 357
        },
        "outputId": "424eedd3-3427-4490-9f0e-8b27e0860ca7"
      },
      "source": [
        "history = model.fit(x_train, y_train,\n",
        "                    batch_size=batch_size,\n",
        "                    epochs=epochs,\n",
        "                    verbose=1,\n",
        "                    validation_split=0.1)"
      ],
      "execution_count": null,
      "outputs": [
        {
          "output_type": "stream",
          "text": [
            "Epoch 1/10\n",
            "3938/3938 [==============================] - 24s 6ms/step - loss: 0.4887 - accuracy: 0.7958 - val_loss: 1.4405 - val_accuracy: 0.0701\n",
            "Epoch 2/10\n",
            "3938/3938 [==============================] - 24s 6ms/step - loss: 0.4250 - accuracy: 0.8249 - val_loss: 1.3431 - val_accuracy: 0.2109\n",
            "Epoch 3/10\n",
            "3938/3938 [==============================] - 25s 6ms/step - loss: 0.3403 - accuracy: 0.8669 - val_loss: 1.2500 - val_accuracy: 0.3264\n",
            "Epoch 4/10\n",
            "3938/3938 [==============================] - 23s 6ms/step - loss: 0.2729 - accuracy: 0.8961 - val_loss: 1.1742 - val_accuracy: 0.4013\n",
            "Epoch 5/10\n",
            "3938/3938 [==============================] - 23s 6ms/step - loss: 0.2294 - accuracy: 0.9146 - val_loss: 1.1568 - val_accuracy: 0.4440\n",
            "Epoch 6/10\n",
            "3938/3938 [==============================] - 28s 7ms/step - loss: 0.2005 - accuracy: 0.9262 - val_loss: 1.1448 - val_accuracy: 0.4779\n",
            "Epoch 7/10\n",
            "3938/3938 [==============================] - 24s 6ms/step - loss: 0.1779 - accuracy: 0.9350 - val_loss: 1.1056 - val_accuracy: 0.5099\n",
            "Epoch 8/10\n",
            "3938/3938 [==============================] - 24s 6ms/step - loss: 0.1627 - accuracy: 0.9413 - val_loss: 1.1570 - val_accuracy: 0.5097\n",
            "Epoch 9/10\n",
            "3938/3938 [==============================] - 23s 6ms/step - loss: 0.1518 - accuracy: 0.9451 - val_loss: 1.1225 - val_accuracy: 0.5375\n",
            "Epoch 10/10\n",
            "3938/3938 [==============================] - 23s 6ms/step - loss: 0.1437 - accuracy: 0.9481 - val_loss: 1.1129 - val_accuracy: 0.5496\n"
          ],
          "name": "stdout"
        }
      ]
    },
    {
      "cell_type": "code",
      "metadata": {
        "id": "m-cmnRV0julP",
        "colab_type": "code",
        "colab": {
          "base_uri": "https://localhost:8080/",
          "height": 51
        },
        "outputId": "aa9832ce-6e2a-4fb5-c091-57eae7480572"
      },
      "source": [
        "score = model.evaluate(x_test, y_test,\n",
        "                       batch_size=batch_size, verbose=1)\n",
        "print('Test accuracy:', score[1])"
      ],
      "execution_count": null,
      "outputs": [
        {
          "output_type": "stream",
          "text": [
            "1875/1875 [==============================] - 6s 3ms/step - loss: 1.1146 - accuracy: 0.5469\n",
            "Test accuracy: 0.5469333529472351\n"
          ],
          "name": "stdout"
        }
      ]
    },
    {
      "cell_type": "code",
      "metadata": {
        "id": "3hKkcvJCmroh",
        "colab_type": "code",
        "colab": {
          "base_uri": "https://localhost:8080/",
          "height": 697
        },
        "outputId": "d3060cda-70a0-48e4-c082-06774793dfa6"
      },
      "source": [
        "# Here's how to generate a prediction on individual examples\n",
        "text_labels = encoder.classes_ \n",
        "\n",
        "for i in range(10):\n",
        "    prediction = model.predict(np.array([x_test[i]]))\n",
        "    predicted_label = text_labels[np.argmax(prediction)]\n",
        "    print(test_labels.iloc[i][:50], \"...\")\n",
        "    print('Actual label:' + test_labels.iloc[i])\n",
        "    print(\"Predicted label: \" + predicted_label + \"\\n\")"
      ],
      "execution_count": null,
      "outputs": [
        {
          "output_type": "stream",
          "text": [
            "REAL ...\n",
            "Actual label:REAL\n",
            "Predicted label: FAKE\n",
            "\n",
            "REAL ...\n",
            "Actual label:REAL\n",
            "Predicted label: FAKE\n",
            "\n",
            "REAL ...\n",
            "Actual label:REAL\n",
            "Predicted label: REAL\n",
            "\n",
            "REAL ...\n",
            "Actual label:REAL\n",
            "Predicted label: REAL\n",
            "\n",
            "REAL ...\n",
            "Actual label:REAL\n",
            "Predicted label: FAKE\n",
            "\n",
            "REAL ...\n",
            "Actual label:REAL\n",
            "Predicted label: REAL\n",
            "\n",
            "REAL ...\n",
            "Actual label:REAL\n",
            "Predicted label: REAL\n",
            "\n",
            "REAL ...\n",
            "Actual label:REAL\n",
            "Predicted label: FAKE\n",
            "\n",
            "REAL ...\n",
            "Actual label:REAL\n",
            "Predicted label: FAKE\n",
            "\n",
            "REAL ...\n",
            "Actual label:REAL\n",
            "Predicted label: FAKE\n",
            "\n"
          ],
          "name": "stdout"
        }
      ]
    },
    {
      "cell_type": "code",
      "metadata": {
        "id": "wXchUho2m7q0",
        "colab_type": "code",
        "colab": {}
      },
      "source": [
        "y_softmax = model.predict(x_test)\n",
        "\n",
        "y_test_1d = []\n",
        "y_pred_1d = []\n",
        "\n",
        "for i in range(len(y_test)):\n",
        "    probs = y_test[i]\n",
        "    index_arr = np.nonzero(probs)\n",
        "    one_hot_index = index_arr[0].item(0)\n",
        "    y_test_1d.append(one_hot_index)\n",
        "\n",
        "for i in range(0, len(y_softmax)):\n",
        "    probs = y_softmax[i]\n",
        "    predicted_index = np.argmax(probs)\n",
        "    y_pred_1d.append(predicted_index)"
      ],
      "execution_count": null,
      "outputs": []
    },
    {
      "cell_type": "code",
      "metadata": {
        "id": "EDK1lWHrnAcR",
        "colab_type": "code",
        "colab": {}
      },
      "source": [
        "# This utility function is from the sklearn docs: http://scikit-learn.org/stable/auto_examples/model_selection/plot_confusion_matrix.html\n",
        "def plot_confusion_matrix(cm, classes,\n",
        "                          title='Confusion matrix',\n",
        "                          cmap=plt.cm.Blues):\n",
        "    \"\"\"\n",
        "    This function prints and plots the confusion matrix.\n",
        "    Normalization can be applied by setting `normalize=True`.\n",
        "    \"\"\"\n",
        "\n",
        "    cm = cm.astype('float') / cm.sum(axis=1)[:, np.newaxis]\n",
        "\n",
        "    plt.imshow(cm, interpolation='nearest', cmap=cmap)\n",
        "    plt.title(title, fontsize=30)\n",
        "    plt.colorbar()\n",
        "    tick_marks = np.arange(len(classes))\n",
        "    plt.xticks(tick_marks, classes, rotation=45, fontsize=22)\n",
        "    plt.yticks(tick_marks, classes, fontsize=22)\n",
        "\n",
        "    fmt = '.2f'\n",
        "    thresh = cm.max() / 2.\n",
        "    for i, j in itertools.product(range(cm.shape[0]), range(cm.shape[1])):\n",
        "        plt.text(j, i, format(cm[i, j], fmt),\n",
        "                 horizontalalignment=\"center\",\n",
        "                 color=\"white\" if cm[i, j] > thresh else \"black\")\n",
        "\n",
        "    plt.ylabel('True label', fontsize=25)\n",
        "    plt.xlabel('Predicted label', fontsize=25)"
      ],
      "execution_count": null,
      "outputs": []
    },
    {
      "cell_type": "code",
      "metadata": {
        "id": "x9BuoFT2nDZu",
        "colab_type": "code",
        "colab": {
          "base_uri": "https://localhost:8080/",
          "height": 618
        },
        "outputId": "1758c3b1-fccd-4558-f8d3-5e597aa25540"
      },
      "source": [
        "cnf_matrix = confusion_matrix(y_test_1d, y_pred_1d)\n",
        "plt.figure(figsize=(10,8))\n",
        "plot_confusion_matrix(cnf_matrix, classes=text_labels, title=\"Confusion matrix\")\n",
        "plt.show()"
      ],
      "execution_count": null,
      "outputs": [
        {
          "output_type": "stream",
          "text": [
            "/usr/local/lib/python3.6/dist-packages/ipykernel_launcher.py:10: RuntimeWarning: invalid value encountered in true_divide\n",
            "  # Remove the CWD from sys.path while we load stuff.\n"
          ],
          "name": "stderr"
        },
        {
          "output_type": "display_data",
          "data": {
            "image/png": "[encoded data removed]",
            "text/plain": [
              "<Figure size 720x576 with 2 Axes>"
            ]
          },
          "metadata": {
            "tags": [],
            "needs_background": "light"
          }
        }
      ]
    },
    {
      "cell_type": "markdown",
      "metadata": {
        "id": "wes06OK19-SG",
        "colab_type": "text"
      },
      "source": [
        "# Sentiment Analysis"
      ]
    },
    {
      "cell_type": "code",
      "metadata": {
        "id": "1u6xZRzpvmsR",
        "colab_type": "code",
        "colab": {}
      },
      "source": [
        "from textblob import TextBlob"
      ],
      "execution_count": null,
      "outputs": []
    },
    {
      "cell_type": "code",
      "metadata": {
        "id": "HdurN8vivvyg",
        "colab_type": "code",
        "colab": {
          "base_uri": "https://localhost:8080/",
          "height": 282
        },
        "outputId": "3377b7fe-175d-4537-8773-2649770b047c"
      },
      "source": [
        "def polarity(text):\n",
        "    return TextBlob(text).sentiment.polarity\n",
        "\n",
        "df['polarity_score']=df['text'].\\\n",
        "   apply(lambda x : polarity(x))\n",
        "df['polarity_score'].hist()"
      ],
      "execution_count": null,
      "outputs": [
        {
          "output_type": "execute_result",
          "data": {
            "text/plain": [
              "<matplotlib.axes._subplots.AxesSubplot at 0x7f567ec535c0>"
            ]
          },
          "metadata": {
            "tags": []
          },
          "execution_count": 98
        },
        {
          "output_type": "display_data",
          "data": {
            "image/png": "[encoded data removed]",
            "text/plain": [
              "<Figure size 432x288 with 1 Axes>"
            ]
          },
          "metadata": {
            "tags": [],
            "needs_background": "light"
          }
        }
      ]
    },
    {
      "cell_type": "code",
      "metadata": {
        "id": "97i8ZXjdv2t7",
        "colab_type": "code",
        "colab": {
          "base_uri": "https://localhost:8080/",
          "height": 282
        },
        "outputId": "f15e9b6a-06a0-4b6a-8e47-bb58f1d26e88"
      },
      "source": [
        "def sentiment(x):\n",
        "    if x<0:\n",
        "        return 'neg'\n",
        "    elif x==0:\n",
        "        return 'neu'\n",
        "    else:\n",
        "        return 'pos'\n",
        "    \n",
        "df['polarity']=df['polarity_score'].\\\n",
        "   map(lambda x: sentiment(x))\n",
        "\n",
        "plt.bar(df.polarity.value_counts().index,\n",
        "        df.polarity.value_counts())"
      ],
      "execution_count": null,
      "outputs": [
        {
          "output_type": "execute_result",
          "data": {
            "text/plain": [
              "<BarContainer object of 3 artists>"
            ]
          },
          "metadata": {
            "tags": []
          },
          "execution_count": 99
        },
        {
          "output_type": "display_data",
          "data": {
            "image/png": "[encoded data removed]",
            "text/plain": [
              "<Figure size 432x288 with 1 Axes>"
            ]
          },
          "metadata": {
            "tags": [],
            "needs_background": "light"
          }
        }
      ]
    },
    {
      "cell_type": "code",
      "metadata": {
        "id": "bFtY-moev41z",
        "colab_type": "code",
        "colab": {
          "base_uri": "https://localhost:8080/",
          "height": 119
        },
        "outputId": "89902f67-1a7a-4921-8741-0e20d7b09aff"
      },
      "source": [
        "df[df['polarity']=='pos']['text'].head()"
      ],
      "execution_count": null,
      "outputs": [
        {
          "output_type": "execute_result",
          "data": {
            "text/plain": [
              "0  9557      recently visited pylos new york business and f...\n",
              "   138662    buddy brought and definitely enjoyed pizza doe...\n",
              "   1220                        adds atmosphere staff friendly \n",
              "   170516    overall wait staff pleasurable and food tasty ...\n",
              "   145072                       going make excuses   taht good\n",
              "Name: text, dtype: object"
            ]
          },
          "metadata": {
            "tags": []
          },
          "execution_count": 100
        }
      ]
    },
    {
      "cell_type": "code",
      "metadata": {
        "id": "Vm-3bSvYv7nZ",
        "colab_type": "code",
        "colab": {
          "base_uri": "https://localhost:8080/",
          "height": 119
        },
        "outputId": "a76940b8-9743-41b7-ecb1-46799b9c75c6"
      },
      "source": [
        "df[df['polarity']=='neg']['text'].head()"
      ],
      "execution_count": null,
      "outputs": [
        {
          "output_type": "execute_result",
          "data": {
            "text/plain": [
              "0  172712                                        not unique d \n",
              "   210520      oh love chicken cous cous definitely favourite \n",
              "   251949    portions small and food expensive bbq   sure e...\n",
              "   178254                    sadly service left really unhappy\n",
              "   232520        guess thats expected something truffle taste \n",
              "Name: text, dtype: object"
            ]
          },
          "metadata": {
            "tags": []
          },
          "execution_count": 101
        }
      ]
    }
  ]
}